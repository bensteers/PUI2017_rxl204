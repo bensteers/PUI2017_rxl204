{
 "cells": [
  {
   "cell_type": "markdown",
   "metadata": {},
   "source": [
    "## Test the Z-test"
   ]
  },
  {
   "cell_type": "code",
   "execution_count": 72,
   "metadata": {
    "collapsed": false
   },
   "outputs": [
    {
     "name": "stdout",
     "output_type": "stream",
     "text": [
      "Populating the interactive namespace from numpy and matplotlib\n"
     ]
    }
   ],
   "source": [
    "#taking sample and measuring z statistic --> gaussian distribution\n",
    "import numpy as np\n",
    "import pylab as pl\n",
    "import scipy as sp\n",
    "from scipy import stats\n",
    "%pylab inline\n"
   ]
  },
  {
   "cell_type": "markdown",
   "metadata": {},
   "source": [
    "## Generate Poisson Distribution\n",
    "Generate N samples from a distribution of your choice, but not a Gaussian with a chosen mean μ and standard deviation σ: N(μ, σ) and calculate the mean of each sample (all samples should have the same size n)."
   ]
  },
  {
   "cell_type": "code",
   "execution_count": 100,
   "metadata": {
    "collapsed": false
   },
   "outputs": [
    {
     "data": {
      "text/plain": [
       "array([57, 40, 39, 48, 53, 57, 47, 54, 61, 56, 45, 39, 45, 59, 51, 45, 41,\n",
       "       58, 56, 58, 48, 57, 54, 55, 45, 54, 62, 55, 49, 52, 60, 52, 46, 58,\n",
       "       47, 58, 52, 54, 53, 58, 67, 59, 60, 43, 52, 42, 53, 53, 49, 66, 54,\n",
       "       50, 42, 36, 51, 50, 63, 45, 55, 47, 48, 47, 42, 75, 41, 40, 62, 48,\n",
       "       37, 56, 45, 52, 49, 50, 57, 60, 51, 51, 46, 51, 59, 38, 47, 54, 38,\n",
       "       56, 46, 45, 51, 55, 40, 42, 67, 64, 45, 47, 58, 41, 43, 47, 46, 52,\n",
       "       53, 43, 46, 55, 58, 48, 50, 35, 38, 36, 59, 52, 63, 47, 53, 64, 49,\n",
       "       42, 56, 49, 47, 45, 50, 47, 46, 46, 50, 71, 54, 52, 51, 46, 46, 50,\n",
       "       46, 35, 48, 53, 58, 48, 47, 44, 52, 55, 44, 39, 37, 62, 50, 56, 53,\n",
       "       49, 56, 42, 35, 44, 50, 50, 53, 57, 47, 56, 43, 46, 49, 51, 48, 46,\n",
       "       61, 42, 53, 49, 56, 51, 50, 56, 47, 55, 47, 45, 54, 51, 56, 45, 43,\n",
       "       40, 42, 62, 48, 50, 37, 50, 43, 51, 42, 54, 46, 46, 45, 51, 52, 55,\n",
       "       47, 53, 50, 53, 52, 47, 33, 42, 51, 49, 45, 50, 34, 41, 45, 48, 39,\n",
       "       49, 51, 49, 50, 48, 31, 59, 54, 57, 49, 42, 49, 65, 59, 50, 53, 45,\n",
       "       52, 51, 40, 50, 59, 55, 49, 58, 46, 46, 48, 43, 47, 41, 55, 55, 52,\n",
       "       46, 42, 45, 39, 50, 44, 45, 43, 47, 44, 65, 63, 51, 60, 49, 50, 55,\n",
       "       41, 44, 51, 58, 63, 45, 55, 58, 53, 54, 56, 45, 54, 58, 49, 56, 53,\n",
       "       41, 53, 45, 55, 52, 53, 46, 51, 37, 49, 48, 51, 57, 38, 53, 36, 43,\n",
       "       40, 49, 55, 48, 56, 44, 59, 59, 40, 51, 50, 61, 41, 52, 51, 41, 49,\n",
       "       48, 58, 35, 52, 42, 57, 38, 47, 58, 39, 56, 55, 60, 50, 65, 39, 54,\n",
       "       46, 51, 56, 39, 47, 54, 45, 39, 60, 50, 58, 44, 45, 50, 60, 50, 49,\n",
       "       51, 52, 32, 45, 54, 41, 50, 48, 48, 53, 51, 49, 55, 40, 56, 49, 48,\n",
       "       57, 43, 49, 47, 53, 56, 52, 56, 42, 55, 47, 45, 46, 58, 48, 60, 47,\n",
       "       51, 52, 50, 46, 35, 51, 39, 56, 59, 61, 61, 56, 50, 51, 48, 52, 56,\n",
       "       47, 45, 52, 46, 52, 49, 48, 46, 38, 48, 43, 53, 51, 56, 48, 57, 50,\n",
       "       45, 39, 52, 56, 57, 65, 39, 46, 49, 62, 47, 44, 48, 49, 61, 50, 50,\n",
       "       50, 71, 51, 58, 50, 56, 50, 39, 48, 48, 53, 53, 39, 54, 43, 42, 42,\n",
       "       52, 50, 53, 43, 49, 45, 60, 55, 48, 59, 36, 42, 44, 57, 50, 48, 55,\n",
       "       46, 42, 53, 41, 51, 53, 46, 61, 51, 60, 50, 51, 52, 44, 61, 53, 45,\n",
       "       51, 49, 42, 42, 50, 58, 56, 38, 52, 39, 31, 46, 63, 47, 42, 39, 44,\n",
       "       47, 49, 46, 45, 48, 38, 46, 57, 59, 45, 61, 45, 59, 45, 47, 54, 63,\n",
       "       37, 65, 54, 45, 52, 56, 49, 53, 46, 57, 55, 58, 39, 57, 65, 51, 69,\n",
       "       47, 54, 51, 40, 59, 53, 51, 38, 56, 50, 42, 45, 51, 45, 48, 43, 52,\n",
       "       54, 46, 55, 48, 42, 55, 42, 26, 50, 40, 57, 54, 65, 44, 53, 51, 54,\n",
       "       57, 53, 49, 34, 50, 61, 42, 48, 40, 59, 49, 53, 45, 34, 48, 50, 45,\n",
       "       34, 61, 46, 60, 63, 59, 49, 50, 56, 48, 61, 62, 44, 43, 44, 54, 50,\n",
       "       46, 43, 52, 57, 52, 43, 49, 41, 58, 54, 48, 40, 53, 58, 46, 41, 47,\n",
       "       62, 50, 44, 49, 44, 49, 46, 39, 43, 53, 45, 52, 54, 49, 59, 48, 52,\n",
       "       52, 55, 38, 53, 61, 45, 44, 49, 55, 52, 37, 47, 59, 51, 51, 49, 62,\n",
       "       55, 72, 54, 48, 49, 51, 52, 56, 51, 54, 55, 46, 65, 44, 37, 41, 50,\n",
       "       54, 45, 46, 43, 53, 47, 40, 48, 51, 54, 50, 46, 48, 55, 57, 39, 43,\n",
       "       57, 55, 54, 46, 44, 43, 67, 51, 50, 36, 52, 49, 45, 55, 41, 52, 52,\n",
       "       41, 46, 46, 42, 45, 51, 51, 50, 44, 49, 46, 58, 41, 46, 42, 62, 48,\n",
       "       53, 49, 58, 54, 52, 53, 50, 54, 39, 38, 31, 47, 57, 39, 51, 56, 55,\n",
       "       60, 47, 59, 47, 37, 56, 53, 48, 46, 37, 45, 64, 58, 62, 51, 42, 55,\n",
       "       40, 50, 38, 52, 49, 42, 47, 45, 43, 42, 51, 55, 53, 57, 38, 44, 49,\n",
       "       53, 49, 49, 57, 57, 54, 46, 60, 49, 64, 45, 55, 48, 47, 61, 49, 37,\n",
       "       50, 40, 56, 58, 56, 42, 53, 48, 61, 31, 50, 53, 56, 48, 34, 60, 35,\n",
       "       55, 51, 50, 46, 42, 50, 45, 44, 49, 52, 51, 63, 40, 66, 44, 60, 48,\n",
       "       56, 50, 50, 51, 59, 47, 45, 51, 49, 40, 61, 47, 40, 48, 39, 48, 52,\n",
       "       56, 46, 49, 49, 53, 42, 50, 52, 48, 55, 47, 58, 47, 54, 59, 47, 46,\n",
       "       48, 46, 59, 53, 47, 50, 55, 61, 56, 45, 47, 32, 48, 53, 40, 52, 56,\n",
       "       40, 48, 47, 50, 63, 53, 56, 29, 53, 56, 54, 48, 47, 52, 64, 47, 57,\n",
       "       43, 44, 58, 52, 47, 37, 45, 59, 56, 51, 41, 47, 37, 50, 49, 48, 40,\n",
       "       50, 54, 42, 49, 50, 44, 61, 45, 46, 46, 55, 51, 47, 51, 44, 58, 49,\n",
       "       63, 59, 40, 55, 43, 57, 63, 40, 54, 35, 48, 38, 37, 58, 46, 52, 56,\n",
       "       41, 53, 60, 41, 40, 48, 48, 52, 48, 42, 35, 47, 60, 72, 52, 51, 54,\n",
       "       44, 40, 45, 71, 41, 55, 57, 56, 40, 46, 45, 44, 55, 44, 59, 56, 49,\n",
       "       46, 49, 50, 35, 53, 42, 48, 59, 51, 46, 46, 60, 52, 52])"
      ]
     },
     "execution_count": 100,
     "metadata": {},
     "output_type": "execute_result"
    }
   ],
   "source": [
    "np.random.seed(999)\n",
    "#decide on a population\n",
    "mymean = 50. #make it float\n",
    "mystdev = 2.\n",
    "sp.stats.poisson.rvs(mymean, size=1000)"
   ]
  },
  {
   "cell_type": "markdown",
   "metadata": {},
   "source": [
    "## Plot your original distribution"
   ]
  },
  {
   "cell_type": "code",
   "execution_count": 99,
   "metadata": {
    "collapsed": false
   },
   "outputs": [
    {
     "data": {
      "text/plain": [
       "<matplotlib.text.Text at 0x7fa396c54450>"
      ]
     },
     "execution_count": 99,
     "metadata": {},
     "output_type": "execute_result"
    },
    {
     "data": {
      "image/png": "[encoded data removed]",
      "text/plain": [
       "<matplotlib.figure.Figure at 0x7fa397c13fd0>"
      ]
     },
     "metadata": {},
     "output_type": "display_data"
    }
   ],
   "source": [
    "#make a histogram \n",
    "pl.hist(sp.stats.poisson.rvs(mymean, size=1000))  #draw sample from popln\n",
    "pl.title('Poisson Distribition')\n",
    "pl.xlabel('')\n",
    "pl.ylabel('frequency')"
   ]
  },
  {
   "cell_type": "code",
   "execution_count": 91,
   "metadata": {
    "collapsed": false
   },
   "outputs": [],
   "source": [
    "#calculate means for 1000 samples\n",
    "mymean =50\n",
    "mystdev = 2\n",
    "Nsamples = 100\n",
    "nit = 1000\n",
    "myDmeans = np.zeros(nit)\n",
    "\n",
    "for i in range (1000): \n",
    "        mydistrib = sp.stats.poisson.rvs(mymean, size=1000)\n",
    "        myDmeans[i] = mydistrib.mean()"
   ]
  },
  {
   "cell_type": "code",
   "execution_count": 92,
   "metadata": {
    "collapsed": false
   },
   "outputs": [
    {
     "data": {
      "text/plain": [
       "array([ 49.909,  50.027,  50.093,  49.966,  50.196,  50.143,  50.361,\n",
       "        49.925,  50.202,  49.983,  49.715,  50.218,  49.764,  49.953,\n",
       "        50.237,  49.562,  50.028,  50.099,  50.155,  50.052,  49.92 ,\n",
       "        50.175,  50.148,  49.687,  50.284,  50.216,  50.192,  50.306,\n",
       "        50.163,  50.167,  50.008,  50.061,  49.711,  50.049,  50.131,\n",
       "        49.868,  49.437,  50.101,  49.938,  50.217,  50.57 ,  50.106,\n",
       "        49.892,  50.028,  50.094,  49.894,  49.898,  49.857,  50.036,\n",
       "        49.795,  49.822,  50.179,  49.736,  49.952,  49.94 ,  49.888,\n",
       "        50.121,  49.534,  49.827,  49.991,  50.006,  50.228,  49.961,\n",
       "        50.127,  49.941,  50.303,  50.206,  49.765,  49.712,  49.937,\n",
       "        49.965,  49.762,  50.11 ,  49.612,  49.97 ,  49.834,  50.231,\n",
       "        50.091,  50.239,  49.937,  49.959,  49.752,  49.761,  50.01 ,\n",
       "        49.756,  49.967,  49.687,  50.142,  49.934,  50.242,  49.531,\n",
       "        50.069,  50.   ,  49.834,  50.413,  49.856,  49.948,  50.041,\n",
       "        50.332,  49.797,  49.813,  50.238,  50.101,  49.843,  50.043,\n",
       "        49.75 ,  49.947,  50.319,  49.815,  49.907,  49.73 ,  49.993,\n",
       "        50.037,  50.325,  49.889,  49.997,  49.792,  49.719,  49.792,\n",
       "        49.715,  50.024,  50.058,  50.264,  49.972,  49.826,  49.934,\n",
       "        50.018,  50.053,  50.257,  49.704,  50.122,  49.917,  49.949,\n",
       "        50.335,  50.029,  49.964,  49.965,  50.145,  49.924,  49.968,\n",
       "        49.993,  50.215,  49.839,  50.255,  50.221,  49.981,  50.247,\n",
       "        50.279,  49.798,  50.033,  50.055,  49.866,  50.319,  50.073,\n",
       "        50.308,  49.907,  49.555,  49.813,  50.324,  50.266,  49.736,\n",
       "        50.281,  49.785,  50.189,  50.242,  49.823,  49.598,  50.091,\n",
       "        49.987,  49.738,  50.304,  50.224,  49.523,  50.02 ,  50.092,\n",
       "        50.201,  49.741,  49.875,  49.97 ,  50.006,  49.883,  49.951,\n",
       "        49.619,  49.527,  49.685,  50.2  ,  49.943,  50.278,  50.039,\n",
       "        49.878,  50.293,  50.128,  50.193,  49.704,  50.001,  49.792,\n",
       "        50.022,  50.117,  50.028,  49.825,  50.147,  50.132,  49.872,\n",
       "        49.79 ,  50.   ,  49.866,  50.137,  50.039,  49.61 ,  50.058,\n",
       "        50.381,  49.932,  49.673,  50.261,  49.758,  50.153,  49.968,\n",
       "        50.069,  50.255,  49.796,  49.92 ,  49.938,  50.383,  49.83 ,\n",
       "        50.06 ,  49.921,  49.696,  50.219,  49.839,  49.908,  50.077,\n",
       "        49.86 ,  50.229,  50.134,  49.999,  50.289,  49.858,  49.687,\n",
       "        50.089,  50.046,  50.016,  49.989,  49.691,  50.153,  50.804,\n",
       "        50.104,  50.109,  49.952,  49.872,  50.101,  50.097,  49.816,\n",
       "        50.012,  49.921,  49.805,  49.912,  50.505,  49.864,  50.132,\n",
       "        50.19 ,  49.52 ,  50.424,  49.674,  50.1  ,  50.292,  50.268,\n",
       "        50.236,  50.522,  50.426,  50.37 ,  49.898,  50.291,  49.876,\n",
       "        50.317,  50.031,  50.057,  50.55 ,  49.649,  49.645,  49.774,\n",
       "        49.88 ,  49.917,  49.848,  49.533,  50.123,  49.959,  49.942,\n",
       "        49.73 ,  50.299,  49.874,  49.812,  49.979,  50.194,  49.945,\n",
       "        50.244,  50.488,  49.996,  49.934,  49.819,  50.172,  50.041,\n",
       "        50.056,  50.086,  49.507,  49.968,  50.254,  49.784,  50.086,\n",
       "        49.659,  49.834,  49.7  ,  50.346,  50.062,  50.083,  50.038,\n",
       "        49.643,  49.924,  49.867,  50.14 ,  49.826,  50.028,  49.902,\n",
       "        50.05 ,  49.896,  49.898,  50.176,  50.13 ,  50.131,  50.048,\n",
       "        49.746,  49.818,  49.912,  50.15 ,  49.651,  50.002,  50.254,\n",
       "        49.504,  50.318,  50.117,  49.734,  49.807,  50.197,  49.815,\n",
       "        49.974,  50.012,  50.125,  49.99 ,  49.638,  50.42 ,  50.286,\n",
       "        49.615,  50.174,  50.182,  49.804,  49.965,  50.038,  50.165,\n",
       "        49.566,  50.073,  50.03 ,  49.917,  50.181,  49.678,  50.402,\n",
       "        50.049,  50.021,  49.791,  50.18 ,  50.41 ,  49.955,  50.013,\n",
       "        50.071,  50.137,  50.15 ,  50.439,  49.84 ,  50.39 ,  50.1  ,\n",
       "        49.937,  50.032,  50.359,  50.002,  50.095,  50.312,  50.035,\n",
       "        49.845,  50.162,  50.519,  50.039,  49.748,  50.169,  49.959,\n",
       "        50.097,  50.15 ,  49.956,  49.951,  49.829,  49.622,  50.012,\n",
       "        49.904,  50.433,  50.032,  49.47 ,  50.204,  49.618,  49.918,\n",
       "        50.403,  50.358,  50.229,  50.141,  49.87 ,  50.019,  50.269,\n",
       "        49.931,  50.237,  49.821,  49.714,  50.154,  49.947,  50.276,\n",
       "        50.111,  50.018,  49.767,  49.975,  49.864,  50.005,  49.999,\n",
       "        49.89 ,  49.914,  49.704,  50.341,  50.171,  49.618,  49.937,\n",
       "        50.062,  49.723,  49.647,  50.182,  50.032,  50.5  ,  49.809,\n",
       "        49.885,  50.053,  49.789,  50.027,  50.096,  50.107,  49.853,\n",
       "        49.503,  50.049,  50.   ,  50.062,  50.   ,  50.158,  50.133,\n",
       "        49.822,  49.968,  50.249,  50.073,  49.878,  50.259,  50.092,\n",
       "        49.981,  49.603,  49.905,  50.158,  49.889,  50.291,  50.085,\n",
       "        50.3  ,  49.905,  49.661,  49.918,  50.174,  49.88 ,  50.052,\n",
       "        49.956,  50.001,  49.888,  49.752,  50.272,  49.977,  50.027,\n",
       "        50.234,  49.489,  50.097,  49.985,  49.8  ,  49.763,  49.912,\n",
       "        49.927,  50.319,  50.178,  49.907,  50.137,  50.106,  50.193,\n",
       "        49.994,  49.671,  49.831,  49.787,  49.975,  49.741,  49.57 ,\n",
       "        49.959,  49.879,  49.932,  49.839,  50.063,  49.961,  49.562,\n",
       "        49.972,  49.79 ,  50.473,  50.437,  50.236,  50.271,  49.829,\n",
       "        50.284,  50.152,  49.945,  49.891,  50.014,  49.863,  50.203,\n",
       "        50.023,  50.361,  50.226,  50.3  ,  50.1  ,  49.867,  49.958,\n",
       "        49.934,  50.033,  50.058,  50.065,  50.079,  50.257,  50.138,\n",
       "        50.197,  50.216,  49.896,  50.256,  49.97 ,  49.759,  49.91 ,\n",
       "        49.881,  50.161,  49.625,  49.98 ,  49.688,  49.95 ,  50.316,\n",
       "        50.536,  50.018,  49.781,  49.696,  49.78 ,  49.994,  50.427,\n",
       "        49.779,  49.847,  49.937,  50.032,  49.836,  49.853,  50.019,\n",
       "        49.637,  49.877,  50.205,  49.879,  49.422,  49.351,  50.209,\n",
       "        50.113,  49.602,  49.982,  49.965,  49.952,  49.486,  50.251,\n",
       "        49.964,  50.336,  49.996,  50.112,  49.608,  49.974,  50.053,\n",
       "        49.573,  49.619,  50.16 ,  50.281,  50.206,  50.044,  50.27 ,\n",
       "        49.698,  49.737,  49.983,  50.427,  49.787,  49.982,  49.611,\n",
       "        50.267,  49.785,  50.442,  50.534,  49.887,  49.83 ,  49.692,\n",
       "        49.648,  50.018,  49.886,  49.992,  49.857,  50.092,  50.065,\n",
       "        49.774,  49.638,  49.827,  49.74 ,  50.247,  49.701,  50.335,\n",
       "        49.882,  50.097,  50.032,  50.289,  50.207,  49.923,  49.679,\n",
       "        49.765,  50.155,  49.882,  49.816,  50.041,  50.001,  50.601,\n",
       "        50.022,  50.169,  50.138,  49.954,  50.096,  50.145,  49.911,\n",
       "        49.975,  49.836,  50.081,  49.676,  50.139,  49.822,  50.175,\n",
       "        50.078,  50.079,  50.182,  50.213,  49.992,  50.393,  50.557,\n",
       "        49.871,  50.176,  49.772,  49.593,  50.187,  49.608,  49.807,\n",
       "        50.035,  49.952,  49.825,  50.075,  50.32 ,  49.893,  50.156,\n",
       "        49.826,  49.878,  50.067,  50.094,  50.128,  49.734,  49.839,\n",
       "        49.805,  49.768,  49.867,  50.338,  49.846,  49.623,  50.105,\n",
       "        50.144,  49.881,  50.062,  50.078,  50.071,  49.871,  50.093,\n",
       "        49.805,  50.207,  49.677,  49.901,  50.26 ,  50.376,  50.515,\n",
       "        50.249,  49.948,  49.677,  50.202,  50.273,  49.897,  50.101,\n",
       "        50.024,  50.027,  50.193,  50.359,  50.231,  50.298,  49.639,\n",
       "        50.   ,  50.098,  50.024,  49.745,  50.059,  49.986,  49.735,\n",
       "        50.097,  50.118,  50.445,  49.827,  50.087,  50.029,  49.967,\n",
       "        49.882,  50.543,  50.156,  50.292,  50.141,  49.728,  49.898,\n",
       "        50.173,  49.768,  50.104,  49.526,  50.278,  49.907,  49.817,\n",
       "        50.038,  50.034,  49.948,  49.881,  50.232,  49.898,  49.911,\n",
       "        49.998,  50.295,  49.658,  49.779,  50.024,  50.297,  50.081,\n",
       "        50.19 ,  50.143,  49.985,  50.283,  49.879,  50.171,  50.045,\n",
       "        49.876,  50.176,  50.026,  49.96 ,  49.632,  50.106,  50.138,\n",
       "        50.105,  50.364,  49.881,  50.097,  49.823,  50.3  ,  49.944,\n",
       "        49.89 ,  49.786,  50.298,  50.22 ,  49.965,  49.807,  50.222,\n",
       "        49.62 ,  49.746,  50.326,  49.893,  50.292,  49.989,  50.028,\n",
       "        50.192,  49.879,  49.835,  50.019,  50.075,  49.726,  49.981,\n",
       "        50.195,  49.994,  49.983,  49.903,  49.989,  49.773,  49.511,\n",
       "        49.941,  50.057,  50.18 ,  49.726,  49.721,  49.708,  50.033,\n",
       "        50.135,  50.026,  50.063,  49.818,  49.779,  50.066,  49.925,\n",
       "        50.016,  49.875,  50.371,  50.082,  49.84 ,  50.331,  49.952,\n",
       "        50.019,  50.2  ,  50.208,  49.503,  49.865,  50.344,  49.94 ,\n",
       "        49.84 ,  49.882,  49.672,  50.465,  49.678,  50.293,  50.34 ,\n",
       "        49.844,  50.077,  50.003,  49.995,  50.133,  49.861,  49.79 ,\n",
       "        50.44 ,  50.098,  49.96 ,  49.939,  50.394,  50.33 ,  49.688,\n",
       "        50.043,  50.234,  50.108,  49.86 ,  50.379,  50.289,  50.081,\n",
       "        49.928,  49.894,  49.544,  50.003,  49.669,  50.262,  49.764,\n",
       "        50.168,  50.251,  50.22 ,  50.229,  49.998,  49.874,  49.88 ,\n",
       "        50.234,  50.064,  50.6  ,  49.891,  50.217,  49.862,  50.147,\n",
       "        49.909,  49.873,  49.935,  50.183,  50.214,  50.323,  49.768,\n",
       "        50.415,  49.914,  49.883,  49.924,  49.951,  49.836,  50.077,\n",
       "        50.415,  50.084,  50.093,  49.773,  49.853,  49.992,  50.177,\n",
       "        50.202,  50.074,  50.426,  50.128,  50.126,  49.749,  49.828,\n",
       "        49.897,  50.051,  50.285,  50.039,  50.373,  50.073,  49.927,\n",
       "        49.768,  50.193,  49.706,  50.234,  49.807,  50.29 ,  49.872,\n",
       "        50.164,  49.768,  50.472,  49.967,  50.201,  49.903,  50.389,\n",
       "        49.937,  49.817,  49.966,  49.84 ,  50.102,  50.18 ,  50.201,\n",
       "        49.875,  50.001,  49.894,  49.987,  49.915,  50.129,  50.279,\n",
       "        49.957,  50.248,  50.237,  50.006,  49.798,  49.851,  50.076,\n",
       "        49.949,  50.233,  49.721,  50.045,  50.052,  49.766,  50.264,\n",
       "        49.987,  50.411,  49.616,  49.944,  50.046,  50.11 ,  49.509,\n",
       "        50.091,  49.888,  49.904,  50.075,  49.901,  49.826,  50.289,\n",
       "        50.089,  49.865,  50.028,  50.096,  49.922,  50.022,  49.95 ,\n",
       "        50.255,  50.247,  50.083,  50.308,  50.132,  50.106,  50.162,\n",
       "        49.688,  49.948,  50.004,  50.249,  49.447,  49.752,  49.679,\n",
       "        49.609,  49.541,  49.975,  50.074,  49.832,  49.734])"
      ]
     },
     "execution_count": 92,
     "metadata": {},
     "output_type": "execute_result"
    }
   ],
   "source": [
    "myDmeans"
   ]
  },
  {
   "cell_type": "markdown",
   "metadata": {},
   "source": [
    "## Plot at least one of the samples"
   ]
  },
  {
   "cell_type": "code",
   "execution_count": 94,
   "metadata": {
    "collapsed": false
   },
   "outputs": [
    {
     "data": {
      "text/plain": [
       "<matplotlib.text.Text at 0x7fa396d87690>"
      ]
     },
     "execution_count": 94,
     "metadata": {},
     "output_type": "execute_result"
    },
    {
     "data": {
      "image/png": "[encoded data removed]",
      "text/plain": [
       "<matplotlib.figure.Figure at 0x7fa396e4f4d0>"
      ]
     },
     "metadata": {},
     "output_type": "display_data"
    }
   ],
   "source": [
    "pl.hist(mydistrib)\n",
    "pl.title('Sample of Poisson Distribution')\n",
    "pl.xlabel('')\n",
    "pl.ylabel('frequency')"
   ]
  },
  {
   "cell_type": "code",
   "execution_count": 95,
   "metadata": {
    "collapsed": false
   },
   "outputs": [
    {
     "data": {
      "text/plain": [
       "array([ 0.455, -0.135, -0.465,  0.17 , -0.98 , -0.715, -1.805,  0.375,\n",
       "       -1.01 ,  0.085,  1.425, -1.09 ,  1.18 ,  0.235, -1.185,  2.19 ,\n",
       "       -0.14 , -0.495, -0.775, -0.26 ,  0.4  , -0.875, -0.74 ,  1.565,\n",
       "       -1.42 , -1.08 , -0.96 , -1.53 , -0.815, -0.835, -0.04 , -0.305,\n",
       "        1.445, -0.245, -0.655,  0.66 ,  2.815, -0.505,  0.31 , -1.085,\n",
       "       -2.85 , -0.53 ,  0.54 , -0.14 , -0.47 ,  0.53 ,  0.51 ,  0.715,\n",
       "       -0.18 ,  1.025,  0.89 , -0.895,  1.32 ,  0.24 ,  0.3  ,  0.56 ,\n",
       "       -0.605,  2.33 ,  0.865,  0.045, -0.03 , -1.14 ,  0.195, -0.635,\n",
       "        0.295, -1.515, -1.03 ,  1.175,  1.44 ,  0.315,  0.175,  1.19 ,\n",
       "       -0.55 ,  1.94 ,  0.15 ,  0.83 , -1.155, -0.455, -1.195,  0.315,\n",
       "        0.205,  1.24 ,  1.195, -0.05 ,  1.22 ,  0.165,  1.565, -0.71 ,\n",
       "        0.33 , -1.21 ,  2.345, -0.345,  0.   ,  0.83 , -2.065,  0.72 ,\n",
       "        0.26 , -0.205, -1.66 ,  1.015,  0.935, -1.19 , -0.505,  0.785,\n",
       "       -0.215,  1.25 ,  0.265, -1.595,  0.925,  0.465,  1.35 ,  0.035,\n",
       "       -0.185, -1.625,  0.555,  0.015,  1.04 ,  1.405,  1.04 ,  1.425,\n",
       "       -0.12 , -0.29 , -1.32 ,  0.14 ,  0.87 ,  0.33 , -0.09 , -0.265,\n",
       "       -1.285,  1.48 , -0.61 ,  0.415,  0.255, -1.675, -0.145,  0.18 ,\n",
       "        0.175, -0.725,  0.38 ,  0.16 ,  0.035, -1.075,  0.805, -1.275,\n",
       "       -1.105,  0.095, -1.235, -1.395,  1.01 , -0.165, -0.275,  0.67 ,\n",
       "       -1.595, -0.365, -1.54 ,  0.465,  2.225,  0.935, -1.62 , -1.33 ,\n",
       "        1.32 , -1.405,  1.075, -0.945, -1.21 ,  0.885,  2.01 , -0.455,\n",
       "        0.065,  1.31 , -1.52 , -1.12 ,  2.385, -0.1  , -0.46 , -1.005,\n",
       "        1.295,  0.625,  0.15 , -0.03 ,  0.585,  0.245,  1.905,  2.365,\n",
       "        1.575, -1.   ,  0.285, -1.39 , -0.195,  0.61 , -1.465, -0.64 ,\n",
       "       -0.965,  1.48 , -0.005,  1.04 , -0.11 , -0.585, -0.14 ,  0.875,\n",
       "       -0.735, -0.66 ,  0.64 ,  1.05 ,  0.   ,  0.67 , -0.685, -0.195,\n",
       "        1.95 , -0.29 , -1.905,  0.34 ,  1.635, -1.305,  1.21 , -0.765,\n",
       "        0.16 , -0.345, -1.275,  1.02 ,  0.4  ,  0.31 , -1.915,  0.85 ,\n",
       "       -0.3  ,  0.395,  1.52 , -1.095,  0.805,  0.46 , -0.385,  0.7  ,\n",
       "       -1.145, -0.67 ,  0.005, -1.445,  0.71 ,  1.565, -0.445, -0.23 ,\n",
       "       -0.08 ,  0.055,  1.545, -0.765, -4.02 , -0.52 , -0.545,  0.24 ,\n",
       "        0.64 , -0.505, -0.485,  0.92 , -0.06 ,  0.395,  0.975,  0.44 ,\n",
       "       -2.525,  0.68 , -0.66 , -0.95 ,  2.4  , -2.12 ,  1.63 , -0.5  ,\n",
       "       -1.46 , -1.34 , -1.18 , -2.61 , -2.13 , -1.85 ,  0.51 , -1.455,\n",
       "        0.62 , -1.585, -0.155, -0.285, -2.75 ,  1.755,  1.775,  1.13 ,\n",
       "        0.6  ,  0.415,  0.76 ,  2.335, -0.615,  0.205,  0.29 ,  1.35 ,\n",
       "       -1.495,  0.63 ,  0.94 ,  0.105, -0.97 ,  0.275, -1.22 , -2.44 ,\n",
       "        0.02 ,  0.33 ,  0.905, -0.86 , -0.205, -0.28 , -0.43 ,  2.465,\n",
       "        0.16 , -1.27 ,  1.08 , -0.43 ,  1.705,  0.83 ,  1.5  , -1.73 ,\n",
       "       -0.31 , -0.415, -0.19 ,  1.785,  0.38 ,  0.665, -0.7  ,  0.87 ,\n",
       "       -0.14 ,  0.49 , -0.25 ,  0.52 ,  0.51 , -0.88 , -0.65 , -0.655,\n",
       "       -0.24 ,  1.27 ,  0.91 ,  0.44 , -0.75 ,  1.745, -0.01 , -1.27 ,\n",
       "        2.48 , -1.59 , -0.585,  1.33 ,  0.965, -0.985,  0.925,  0.13 ,\n",
       "       -0.06 , -0.625,  0.05 ,  1.81 , -2.1  , -1.43 ,  1.925, -0.87 ,\n",
       "       -0.91 ,  0.98 ,  0.175, -0.19 , -0.825,  2.17 , -0.365, -0.15 ,\n",
       "        0.415, -0.905,  1.61 , -2.01 , -0.245, -0.105,  1.045, -0.9  ,\n",
       "       -2.05 ,  0.225, -0.065, -0.355, -0.685, -0.75 , -2.195,  0.8  ,\n",
       "       -1.95 , -0.5  ,  0.315, -0.16 , -1.795, -0.01 , -0.475, -1.56 ,\n",
       "       -0.175,  0.775, -0.81 , -2.595, -0.195,  1.26 , -0.845,  0.205,\n",
       "       -0.485, -0.75 ,  0.22 ,  0.245,  0.855,  1.89 , -0.06 ,  0.48 ,\n",
       "       -2.165, -0.16 ,  2.65 , -1.02 ,  1.91 ,  0.41 , -2.015, -1.79 ,\n",
       "       -1.145, -0.705,  0.65 , -0.095, -1.345,  0.345, -1.185,  0.895,\n",
       "        1.43 , -0.77 ,  0.265, -1.38 , -0.555, -0.09 ,  1.165,  0.125,\n",
       "        0.68 , -0.025,  0.005,  0.55 ,  0.43 ,  1.48 , -1.705, -0.855,\n",
       "        1.91 ,  0.315, -0.31 ,  1.385,  1.765, -0.91 , -0.16 , -2.5  ,\n",
       "        0.955,  0.575, -0.265,  1.055, -0.135, -0.48 , -0.535,  0.735,\n",
       "        2.485, -0.245,  0.   , -0.31 ,  0.   , -0.79 , -0.665,  0.89 ,\n",
       "        0.16 , -1.245, -0.365,  0.61 , -1.295, -0.46 ,  0.095,  1.985,\n",
       "        0.475, -0.79 ,  0.555, -1.455, -0.425, -1.5  ,  0.475,  1.695,\n",
       "        0.41 , -0.87 ,  0.6  , -0.26 ,  0.22 , -0.005,  0.56 ,  1.24 ,\n",
       "       -1.36 ,  0.115, -0.135, -1.17 ,  2.555, -0.485,  0.075,  1.   ,\n",
       "        1.185,  0.44 ,  0.365, -1.595, -0.89 ,  0.465, -0.685, -0.53 ,\n",
       "       -0.965,  0.03 ,  1.645,  0.845,  1.065,  0.125,  1.295,  2.15 ,\n",
       "        0.205,  0.605,  0.34 ,  0.805, -0.315,  0.195,  2.19 ,  0.14 ,\n",
       "        1.05 , -2.365, -2.185, -1.18 , -1.355,  0.855, -1.42 , -0.76 ,\n",
       "        0.275,  0.545, -0.07 ,  0.685, -1.015, -0.115, -1.805, -1.13 ,\n",
       "       -1.5  , -0.5  ,  0.665,  0.21 ,  0.33 , -0.165, -0.29 , -0.325,\n",
       "       -0.395, -1.285, -0.69 , -0.985, -1.08 ,  0.52 , -1.28 ,  0.15 ,\n",
       "        1.205,  0.45 ,  0.595, -0.805,  1.875,  0.1  ,  1.56 ,  0.25 ,\n",
       "       -1.58 , -2.68 , -0.09 ,  1.095,  1.52 ,  1.1  ,  0.03 , -2.135,\n",
       "        1.105,  0.765,  0.315, -0.16 ,  0.82 ,  0.735, -0.095,  1.815,\n",
       "        0.615, -1.025,  0.605,  2.89 ,  3.245, -1.045, -0.565,  1.99 ,\n",
       "        0.09 ,  0.175,  0.24 ,  2.57 , -1.255,  0.18 , -1.68 ,  0.02 ,\n",
       "       -0.56 ,  1.96 ,  0.13 , -0.265,  2.135,  1.905, -0.8  , -1.405,\n",
       "       -1.03 , -0.22 , -1.35 ,  1.51 ,  1.315,  0.085, -2.135,  1.065,\n",
       "        0.09 ,  1.945, -1.335,  1.075, -2.21 , -2.67 ,  0.565,  0.85 ,\n",
       "        1.54 ,  1.76 , -0.09 ,  0.57 ,  0.04 ,  0.715, -0.46 , -0.325,\n",
       "        1.13 ,  1.81 ,  0.865,  1.3  , -1.235,  1.495, -1.675,  0.59 ,\n",
       "       -0.485, -0.16 , -1.445, -1.035,  0.385,  1.605,  1.175, -0.775,\n",
       "        0.59 ,  0.92 , -0.205, -0.005, -3.005, -0.11 , -0.845, -0.69 ,\n",
       "        0.23 , -0.48 , -0.725,  0.445,  0.125,  0.82 , -0.405,  1.62 ,\n",
       "       -0.695,  0.89 , -0.875, -0.39 , -0.395, -0.91 , -1.065,  0.04 ,\n",
       "       -1.965, -2.785,  0.645, -0.88 ,  1.14 ,  2.035, -0.935,  1.96 ,\n",
       "        0.965, -0.175,  0.24 ,  0.875, -0.375, -1.6  ,  0.535, -0.78 ,\n",
       "        0.87 ,  0.61 , -0.335, -0.47 , -0.64 ,  1.33 ,  0.805,  0.975,\n",
       "        1.16 ,  0.665, -1.69 ,  0.77 ,  1.885, -0.525, -0.72 ,  0.595,\n",
       "       -0.31 , -0.39 , -0.355,  0.645, -0.465,  0.975, -1.035,  1.615,\n",
       "        0.495, -1.3  , -1.88 , -2.575, -1.245,  0.26 ,  1.615, -1.01 ,\n",
       "       -1.365,  0.515, -0.505, -0.12 , -0.135, -0.965, -1.795, -1.155,\n",
       "       -1.49 ,  1.805,  0.   , -0.49 , -0.12 ,  1.275, -0.295,  0.07 ,\n",
       "        1.325, -0.485, -0.59 , -2.225,  0.865, -0.435, -0.145,  0.165,\n",
       "        0.59 , -2.715, -0.78 , -1.46 , -0.705,  1.36 ,  0.51 , -0.865,\n",
       "        1.16 , -0.52 ,  2.37 , -1.39 ,  0.465,  0.915, -0.19 , -0.17 ,\n",
       "        0.26 ,  0.595, -1.16 ,  0.51 ,  0.445,  0.01 , -1.475,  1.71 ,\n",
       "        1.105, -0.12 , -1.485, -0.405, -0.95 , -0.715,  0.075, -1.415,\n",
       "        0.605, -0.855, -0.225,  0.62 , -0.88 , -0.13 ,  0.2  ,  1.84 ,\n",
       "       -0.53 , -0.69 , -0.525, -1.82 ,  0.595, -0.485,  0.885, -1.5  ,\n",
       "        0.28 ,  0.55 ,  1.07 , -1.49 , -1.1  ,  0.175,  0.965, -1.11 ,\n",
       "        1.9  ,  1.27 , -1.63 ,  0.535, -1.46 ,  0.055, -0.14 , -0.96 ,\n",
       "        0.605,  0.825, -0.095, -0.375,  1.37 ,  0.095, -0.975,  0.03 ,\n",
       "        0.085,  0.485,  0.055,  1.135,  2.445,  0.295, -0.285, -0.9  ,\n",
       "        1.37 ,  1.395,  1.46 , -0.165, -0.675, -0.13 , -0.315,  0.91 ,\n",
       "        1.105, -0.33 ,  0.375, -0.08 ,  0.625, -1.855, -0.41 ,  0.8  ,\n",
       "       -1.655,  0.24 , -0.095, -1.   , -1.04 ,  2.485,  0.675, -1.72 ,\n",
       "        0.3  ,  0.8  ,  0.59 ,  1.64 , -2.325,  1.61 , -1.465, -1.7  ,\n",
       "        0.78 , -0.385, -0.015,  0.025, -0.665,  0.695,  1.05 , -2.2  ,\n",
       "       -0.49 ,  0.2  ,  0.305, -1.97 , -1.65 ,  1.56 , -0.215, -1.17 ,\n",
       "       -0.54 ,  0.7  , -1.895, -1.445, -0.405,  0.36 ,  0.53 ,  2.28 ,\n",
       "       -0.015,  1.655, -1.31 ,  1.18 , -0.84 , -1.255, -1.1  , -1.145,\n",
       "        0.01 ,  0.63 ,  0.6  , -1.17 , -0.32 , -3.   ,  0.545, -1.085,\n",
       "        0.69 , -0.735,  0.455,  0.635,  0.325, -0.915, -1.07 , -1.615,\n",
       "        1.16 , -2.075,  0.43 ,  0.585,  0.38 ,  0.245,  0.82 , -0.385,\n",
       "       -2.075, -0.42 , -0.465,  1.135,  0.735,  0.04 , -0.885, -1.01 ,\n",
       "       -0.37 , -2.13 , -0.64 , -0.63 ,  1.255,  0.86 ,  0.515, -0.255,\n",
       "       -1.425, -0.195, -1.865, -0.365,  0.365,  1.16 , -0.965,  1.47 ,\n",
       "       -1.17 ,  0.965, -1.45 ,  0.64 , -0.82 ,  1.16 , -2.36 ,  0.165,\n",
       "       -1.005,  0.485, -1.945,  0.315,  0.915,  0.17 ,  0.8  , -0.51 ,\n",
       "       -0.9  , -1.005,  0.625, -0.005,  0.53 ,  0.065,  0.425, -0.645,\n",
       "       -1.395,  0.215, -1.24 , -1.185, -0.03 ,  1.01 ,  0.745, -0.38 ,\n",
       "        0.255, -1.165,  1.395, -0.225, -0.26 ,  1.17 , -1.32 ,  0.065,\n",
       "       -2.055,  1.92 ,  0.28 , -0.23 , -0.55 ,  2.455, -0.455,  0.56 ,\n",
       "        0.48 , -0.375,  0.495,  0.87 , -1.445, -0.445,  0.675, -0.14 ,\n",
       "       -0.48 ,  0.39 , -0.11 ,  0.25 , -1.275, -1.235, -0.415, -1.54 ,\n",
       "       -0.66 , -0.53 , -0.81 ,  1.56 ,  0.26 , -0.02 , -1.245,  2.765,\n",
       "        1.24 ,  1.605,  1.955,  2.295,  0.125, -0.37 ,  0.84 ,  1.33 ])"
      ]
     },
     "execution_count": 95,
     "metadata": {},
     "output_type": "execute_result"
    }
   ],
   "source": [
    "#calculate z-statistics\n",
    "#z-test measures difference between means (pop) and means (sample)\n",
    "zs = (mymean - myDmeans) * (np.sqrt(Nsamples))/mystdev\n",
    "zs"
   ]
  },
  {
   "cell_type": "markdown",
   "metadata": {},
   "source": [
    "## Plot the distribution of z-statistics"
   ]
  },
  {
   "cell_type": "code",
   "execution_count": 96,
   "metadata": {
    "collapsed": false
   },
   "outputs": [
    {
     "data": {
      "text/plain": [
       "<matplotlib.text.Text at 0x7fa396cdfe90>"
      ]
     },
     "execution_count": 96,
     "metadata": {},
     "output_type": "execute_result"
    },
    {
     "data": {
      "image/png": "[encoded data removed]",
      "text/plain": [
       "<matplotlib.figure.Figure at 0x7fa396dabe10>"
      ]
     },
     "metadata": {},
     "output_type": "display_data"
    }
   ],
   "source": [
    "pl.hist(zs)\n",
    "pl.title('Distribution of z-scores')\n",
    "pl.xlabel('z-score')\n",
    "pl.ylabel('frequency')"
   ]
  },
  {
   "cell_type": "markdown",
   "metadata": {},
   "source": [
    "## Fit the z-statistics with a gaussian model and assess the goodness of fit with a simple test (AD or KS)."
   ]
  },
  {
   "cell_type": "code",
   "execution_count": 90,
   "metadata": {
    "collapsed": false
   },
   "outputs": [
    {
     "data": {
      "text/plain": [
       "KstestResult(statistic=0.040727594108602133, pvalue=0.070511782672034728)"
      ]
     },
     "execution_count": 90,
     "metadata": {},
     "output_type": "execute_result"
    }
   ],
   "source": [
    "#test whether we can reject the null hypothesis that this is a gaussian distribution\n",
    "#use ks test\n",
    "sp.stats.kstest(zs, 'norm')\n",
    "#p-value > 0.05, cannot reject null hypothesis"
   ]
  },
  {
   "cell_type": "markdown",
   "metadata": {
    "collapsed": true
   },
   "source": [
    "The KS test returns a p-value (0.0705) larger than the significance value of 0.05. The null hypothesis this is a gaussian distribution cannot be rejected. In other words, this means that there is insufficient evidence to say that the z-score distribution for poisson is different from that of normal distribution under the existing level of significance. "
   ]
  },
  {
   "cell_type": "markdown",
   "metadata": {
    "collapsed": true
   },
   "source": [
    "## Find the best fit values for the model parameters (mean and standard deviation) by minimizing the model chi square."
   ]
  },
  {
   "cell_type": "code",
   "execution_count": 107,
   "metadata": {
    "collapsed": false
   },
   "outputs": [
    {
     "data": {
      "text/plain": [
       "Power_divergenceResult(statistic=988.56404069650534, pvalue=0.58681579430811892)"
      ]
     },
     "execution_count": 107,
     "metadata": {},
     "output_type": "execute_result"
    }
   ],
   "source": [
    "\n",
    "from scipy.stats import chisquare\n",
    "chisquare(mydistrib)"
   ]
  },
  {
   "cell_type": "code",
   "execution_count": 110,
   "metadata": {
    "collapsed": false
   },
   "outputs": [
    {
     "data": {
      "text/plain": [
       "0.0"
      ]
     },
     "execution_count": 110,
     "metadata": {},
     "output_type": "execute_result"
    }
   ],
   "source": [
    "#chi-square goodness of fit test?\n",
    "\n",
    "chistats = []\n",
    "for i in mydistrib:\n",
    "    chistats = (mydistrib[i] - mymean)**2 / mymean\n",
    "chistats.sum()"
   ]
  },
  {
   "cell_type": "code",
   "execution_count": null,
   "metadata": {
    "collapsed": true
   },
   "outputs": [],
   "source": []
  }
 ],
 "metadata": {
  "kernelspec": {
   "display_name": "PUI2016_Python2",
   "language": "python",
   "name": "pui2016_python2"
  },
  "language_info": {
   "codemirror_mode": {
    "name": "ipython",
    "version": 2
   },
   "file_extension": ".py",
   "mimetype": "text/x-python",
   "name": "python",
   "nbconvert_exporter": "python",
   "pygments_lexer": "ipython2",
   "version": "2.7.12"
  }
 },
 "nbformat": 4,
 "nbformat_minor": 0
}
