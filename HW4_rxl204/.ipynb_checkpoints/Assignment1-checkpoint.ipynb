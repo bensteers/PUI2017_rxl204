{
 "cells": [
  {
   "cell_type": "code",
   "execution_count": null,
   "metadata": {
    "collapsed": true
   },
   "outputs": [],
   "source": [
    "#Test of proportions\n",
    "#Fraction of customers/subscribers that bike during the weekdays and weekends\n",
    "\n",
    "fig = pl.figure(figsize(15,6))\n",
    "ax1 = fig.add_subplot(121)\n",
    "ax2 = fig.add_subplot(122)\n",
    "ax1.set_xticks([])\n",
    "ax2.set_xticks([])\n",
    "\n",
    "week_c = sum(counts_c[:-2])*1.0 / norm_c #fraction of customers riding on weekdays\n",
    "weekend_c = sum(counts_c[-2:])*1.0/norm_c #fraction of customers riding on weekends\n",
    "eweek_c = np.sqrt(sum(error_c[:-2]**2)) / norm_c  #error on fraction number of customers riding on week days\n",
    "eweekend_c = np.sqrt(sum(error_c[-2:]**2)) / norm_c #error on fraction number of customers riding on weekends\n",
    "\n",
    "#same nomenclature as above\n",
    "week_s = sum(counts_s[:-2]) * 1.0 / norm_s\n",
    "weekend_s = sum(counts_s[-2:]) * 1.0 / norm_s\n",
    "eweek_s = np.sqrt(sum(error_s[:-2]**2)) / norm_s\n",
    "eweekend_s = np.sqrt(sum(error_s[-2:]**2)) / norm_s\n",
    "\n",
    "print(\"Subscriber: week:{0:.3f}, weekend:{1:.3f}, weekend error:{2:.3f}, weekend error:{3:.3f}\"\\\n",
    "      .format(week_s, weekend_s, eweek_s, eweekend_s))\n",
    "print(\"Customer: week:{0:.3f}, weekend:{1:.3f}, weekend error:{2:.3f}, weekend error:{3:.3f}\"\\\n",
    "      .format(week_c, weekend_c, eweek_c, eweekend_c))\n",
    "\n",
    "ax1.errorbar([0.4], [week_s], yerr=[eweek_s], fmt='o', label='subscriber')\n",
    "ax1.errorbar([0.2], [week_c], yerr=[eweek_c], fmt='o', label='customer')\n",
    "ax1.set_xlim(0, 0.5)\n",
    "ax2.errorbar([0.4], [weekend_s], yerr=[eweekend_s], fmt='o', label='subscriber')\n",
    "ax2.errorbar([0.2], [weekend_c], yerr=[eweekend_c], fmt='o', label='customer')\n",
    "ax1.set_xlim(0, 0.5)\n",
    "ax1.set_title(\"weekdays\")\n",
    "ax2.set_title(\"weekends\")\n",
    "ax2.set_ylabel(\"Fraction of normalized rides by usertype\")\n",
    "ax1.set_ylabel(\"Fraction of normalized rides by usertype\")\n",
    "\n",
    "pl.xlim(-0.5, 1.5)\n",
    "pl.legend(fontsize = 10)"
   ]
  },
  {
   "cell_type": "code",
   "execution_count": null,
   "metadata": {
    "collapsed": true
   },
   "outputs": [],
   "source": [
    "P0mP1 = weekend_c - weekend_s\n",
    "print (\"difference between subscribers and customers on weekend: \", P0mP1)\n",
    "if P0mP1 <= 0:\n",
    "    # we are done...\n",
    "    print(\"In accordance with Null Hypothesis\")\n",
    "else:\n",
    "    # morework to do\n",
    "    print (\"We must check the significance before we reject the Null Hypothesis\")"
   ]
  },
  {
   "cell_type": "code",
   "execution_count": null,
   "metadata": {
    "collapsed": true
   },
   "outputs": [],
   "source": [
    "# is the difference statistically significant? \n",
    "# defining the functions that calculate the statistics\n",
    "# the lambda style definition is NOT APPROVED BY PEP8 and you should avoind it\n",
    "# but I am putting it here since you may encounter it in your coding life.\n",
    "# confront the equation in the markdown cell above with these function to understand as they work\n",
    "\n",
    "p = lambda p0, p1, n0, n1: (p0 * n0 + p1 * n1) / (n0 + n1)\n",
    "se = lambda p, n0, n1: np.sqrt(p * (1 - p) * (1.0 / n0 + 1.0 / n1)) #standard error\n",
    "zscore = lambda p0, p1, s : (p0 - p1) / s\n",
    "\n",
    "# calculations\n",
    "\n",
    "sp_stdev_cs = se(p(weekend_c, weekend_s, norm_c, norm_s), norm_c, norm_s)\n",
    "# print (sp_stdev_cs)\n",
    "z = zscore(weekend_c, weekend_s, sp_stdev_cs)\n",
    "print (\"The z statistics is %.2f\"%z)"
   ]
  }
 ],
 "metadata": {
  "kernelspec": {
   "display_name": "PUI2016_Python2",
   "language": "python",
   "name": "pui2016_python2"
  },
  "language_info": {
   "codemirror_mode": {
    "name": "ipython",
    "version": 2
   },
   "file_extension": ".py",
   "mimetype": "text/x-python",
   "name": "python",
   "nbconvert_exporter": "python",
   "pygments_lexer": "ipython2",
   "version": "2.7.12"
  }
 },
 "nbformat": 4,
 "nbformat_minor": 0
}
