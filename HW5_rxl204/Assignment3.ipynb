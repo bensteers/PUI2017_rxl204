{
 "cells": [
  {
   "cell_type": "markdown",
   "metadata": {},
   "source": [
    "## Regression Exercise\n",
    "Rachel Lim \n",
    "\n",
    "Investigating linear relationships between fire arm possession, homicides by fire arms, and mass shootings for different countries considering also country GDP"
   ]
  },
  {
   "cell_type": "code",
   "execution_count": 1,
   "metadata": {
    "collapsed": false
   },
   "outputs": [
    {
     "name": "stdout",
     "output_type": "stream",
     "text": [
      "Populating the interactive namespace from numpy and matplotlib\n"
     ]
    },
    {
     "name": "stderr",
     "output_type": "stream",
     "text": [
      "/opt/rh/anaconda/root/envs/PUI2016_Python2/lib/python2.7/site-packages/IPython/html.py:14: ShimWarning: The `IPython.html` package has been deprecated. You should import from `notebook` instead. `IPython.html.widgets` has moved to `ipywidgets`.\n",
      "  \"`IPython.html.widgets` has moved to `ipywidgets`.\", ShimWarning)\n",
      "/opt/rh/anaconda/root/envs/PUI2016_Python2/lib/python2.7/site-packages/IPython/core/magics/pylab.py:161: UserWarning: pylab import has clobbered these variables: ['plt']\n",
      "`%matplotlib` prevents importing * from pylab and numpy\n",
      "  \"\\n`%matplotlib` prevents importing * from pylab and numpy\"\n"
     ]
    }
   ],
   "source": [
    "import os\n",
    "import numpy as np\n",
    "import pandas as pd\n",
    "import matplotlib as plt\n",
    "import scipy as sp\n",
    "import statsmodels.api as sm\n",
    "import statsmodels.formula.api as smf\n",
    "import seaborn as sns\n",
    "import pylab as pl;\n",
    "%pylab inline"
   ]
  },
  {
   "cell_type": "code",
   "execution_count": 2,
   "metadata": {
    "collapsed": false
   },
   "outputs": [
    {
     "data": {
      "text/plain": [
       "'/home/cusp/rxl204/PUIdata'"
      ]
     },
     "execution_count": 2,
     "metadata": {},
     "output_type": "execute_result"
    }
   ],
   "source": [
    "os.getenv('PUIDATA')"
   ]
  },
  {
   "cell_type": "code",
   "execution_count": 3,
   "metadata": {
    "collapsed": false
   },
   "outputs": [
    {
     "data": {
      "text/html": [
       "<div>\n",
       "<table border=\"1\" class=\"dataframe\">\n",
       "  <thead>\n",
       "    <tr style=\"text-align: right;\">\n",
       "      <th></th>\n",
       "      <th>Country/Territory</th>\n",
       "      <th>ISO code</th>\n",
       "      <th>Source</th>\n",
       "      <th>% of homicides by firearm</th>\n",
       "      <th>Number of homicides by firearm</th>\n",
       "      <th>Homicide by firearm rate per 100,000 pop</th>\n",
       "      <th>Rank by rate of ownership</th>\n",
       "      <th>Average firearms per 100 people</th>\n",
       "      <th>Average total all civilian firearms</th>\n",
       "    </tr>\n",
       "  </thead>\n",
       "  <tbody>\n",
       "    <tr>\n",
       "      <th>0</th>\n",
       "      <td>Albania</td>\n",
       "      <td>AL</td>\n",
       "      <td>CTS</td>\n",
       "      <td>65.9</td>\n",
       "      <td>56.0</td>\n",
       "      <td>1.76</td>\n",
       "      <td>70.0</td>\n",
       "      <td>8.6</td>\n",
       "      <td>270000.0</td>\n",
       "    </tr>\n",
       "    <tr>\n",
       "      <th>1</th>\n",
       "      <td>Algeria</td>\n",
       "      <td>DZ</td>\n",
       "      <td>CTS</td>\n",
       "      <td>4.8</td>\n",
       "      <td>20.0</td>\n",
       "      <td>0.06</td>\n",
       "      <td>78.0</td>\n",
       "      <td>7.6</td>\n",
       "      <td>1900000.0</td>\n",
       "    </tr>\n",
       "    <tr>\n",
       "      <th>2</th>\n",
       "      <td>Angola</td>\n",
       "      <td>AO</td>\n",
       "      <td>NaN</td>\n",
       "      <td>NaN</td>\n",
       "      <td>NaN</td>\n",
       "      <td>NaN</td>\n",
       "      <td>34.0</td>\n",
       "      <td>17.3</td>\n",
       "      <td>2800000.0</td>\n",
       "    </tr>\n",
       "    <tr>\n",
       "      <th>3</th>\n",
       "      <td>Anguilla</td>\n",
       "      <td>AI</td>\n",
       "      <td>WHO-MDB</td>\n",
       "      <td>24.0</td>\n",
       "      <td>1.0</td>\n",
       "      <td>7.14</td>\n",
       "      <td>NaN</td>\n",
       "      <td>NaN</td>\n",
       "      <td>NaN</td>\n",
       "    </tr>\n",
       "    <tr>\n",
       "      <th>4</th>\n",
       "      <td>Argentina</td>\n",
       "      <td>AR</td>\n",
       "      <td>Ministry of Justice</td>\n",
       "      <td>52.0</td>\n",
       "      <td>1198.0</td>\n",
       "      <td>3.02</td>\n",
       "      <td>62.0</td>\n",
       "      <td>10.2</td>\n",
       "      <td>3950000.0</td>\n",
       "    </tr>\n",
       "  </tbody>\n",
       "</table>\n",
       "</div>"
      ],
      "text/plain": [
       "  Country/Territory ISO code               Source  % of homicides by firearm  \\\n",
       "0           Albania       AL                  CTS                       65.9   \n",
       "1           Algeria       DZ                  CTS                        4.8   \n",
       "2            Angola       AO                  NaN                        NaN   \n",
       "3          Anguilla       AI              WHO-MDB                       24.0   \n",
       "4         Argentina       AR  Ministry of Justice                       52.0   \n",
       "\n",
       "   Number of homicides by firearm  Homicide by firearm rate per 100,000 pop  \\\n",
       "0                            56.0                                      1.76   \n",
       "1                            20.0                                      0.06   \n",
       "2                             NaN                                       NaN   \n",
       "3                             1.0                                      7.14   \n",
       "4                          1198.0                                      3.02   \n",
       "\n",
       "   Rank by rate of ownership  Average firearms per 100 people  \\\n",
       "0                       70.0                              8.6   \n",
       "1                       78.0                              7.6   \n",
       "2                       34.0                             17.3   \n",
       "3                        NaN                              NaN   \n",
       "4                       62.0                             10.2   \n",
       "\n",
       "   Average total all civilian firearms  \n",
       "0                             270000.0  \n",
       "1                            1900000.0  \n",
       "2                            2800000.0  \n",
       "3                                  NaN  \n",
       "4                            3950000.0  "
      ]
     },
     "execution_count": 3,
     "metadata": {},
     "output_type": "execute_result"
    }
   ],
   "source": [
    "dff = pd.read_csv(os.getenv(\"PUIDATA\") + \"/\" + 'firearms.csv')\n",
    "dff.head()"
   ]
  },
  {
   "cell_type": "code",
   "execution_count": 4,
   "metadata": {
    "collapsed": false
   },
   "outputs": [
    {
     "data": {
      "text/html": [
       "<div>\n",
       "<table border=\"1\" class=\"dataframe\">\n",
       "  <thead>\n",
       "    <tr style=\"text-align: right;\">\n",
       "      <th></th>\n",
       "      <th>Country</th>\n",
       "      <th>Guns/100 inhabitants</th>\n",
       "      <th>Number of mass shootings</th>\n",
       "    </tr>\n",
       "  </thead>\n",
       "  <tbody>\n",
       "    <tr>\n",
       "      <th>0</th>\n",
       "      <td>Australia</td>\n",
       "      <td>15.0</td>\n",
       "      <td>4</td>\n",
       "    </tr>\n",
       "    <tr>\n",
       "      <th>1</th>\n",
       "      <td>Austria</td>\n",
       "      <td>30.4</td>\n",
       "      <td>1</td>\n",
       "    </tr>\n",
       "    <tr>\n",
       "      <th>2</th>\n",
       "      <td>Beligium</td>\n",
       "      <td>17.2</td>\n",
       "      <td>2</td>\n",
       "    </tr>\n",
       "    <tr>\n",
       "      <th>3</th>\n",
       "      <td>Canada</td>\n",
       "      <td>30.8</td>\n",
       "      <td>4</td>\n",
       "    </tr>\n",
       "    <tr>\n",
       "      <th>4</th>\n",
       "      <td>Denmark</td>\n",
       "      <td>12.0</td>\n",
       "      <td>0</td>\n",
       "    </tr>\n",
       "  </tbody>\n",
       "</table>\n",
       "</div>"
      ],
      "text/plain": [
       "     Country  Guns/100 inhabitants  Number of mass shootings\n",
       "0  Australia                  15.0                         4\n",
       "1    Austria                  30.4                         1\n",
       "2   Beligium                  17.2                         2\n",
       "3     Canada                  30.8                         4\n",
       "4    Denmark                  12.0                         0"
      ]
     },
     "execution_count": 4,
     "metadata": {},
     "output_type": "execute_result"
    }
   ],
   "source": [
    "dfg = pd.read_csv(os.getenv(\"PUIDATA\") + \"/\" + 'data-pvLFI.csv')\n",
    "dfg.head()"
   ]
  },
  {
   "cell_type": "code",
   "execution_count": 5,
   "metadata": {
    "collapsed": false
   },
   "outputs": [
    {
     "data": {
      "text/html": [
       "<div>\n",
       "<table border=\"1\" class=\"dataframe\">\n",
       "  <thead>\n",
       "    <tr style=\"text-align: right;\">\n",
       "      <th></th>\n",
       "      <th>Country Name</th>\n",
       "      <th>Country Code</th>\n",
       "      <th>Indicator Name</th>\n",
       "      <th>Indicator Code</th>\n",
       "      <th>1960</th>\n",
       "      <th>1961</th>\n",
       "      <th>1962</th>\n",
       "      <th>1963</th>\n",
       "      <th>1964</th>\n",
       "      <th>1965</th>\n",
       "      <th>...</th>\n",
       "      <th>2008</th>\n",
       "      <th>2009</th>\n",
       "      <th>2010</th>\n",
       "      <th>2011</th>\n",
       "      <th>2012</th>\n",
       "      <th>2013</th>\n",
       "      <th>2014</th>\n",
       "      <th>2015</th>\n",
       "      <th>2016</th>\n",
       "      <th>Unnamed: 61</th>\n",
       "    </tr>\n",
       "  </thead>\n",
       "  <tbody>\n",
       "    <tr>\n",
       "      <th>0</th>\n",
       "      <td>Aruba</td>\n",
       "      <td>ABW</td>\n",
       "      <td>Population, total</td>\n",
       "      <td>SP.POP.TOTL</td>\n",
       "      <td>54211.0</td>\n",
       "      <td>55438.0</td>\n",
       "      <td>56225.0</td>\n",
       "      <td>56695.0</td>\n",
       "      <td>57032.0</td>\n",
       "      <td>57360.0</td>\n",
       "      <td>...</td>\n",
       "      <td>101353.0</td>\n",
       "      <td>101453.0</td>\n",
       "      <td>101669.0</td>\n",
       "      <td>102053.0</td>\n",
       "      <td>102577.0</td>\n",
       "      <td>103187.0</td>\n",
       "      <td>103795.0</td>\n",
       "      <td>104341.0</td>\n",
       "      <td>104822.0</td>\n",
       "      <td>NaN</td>\n",
       "    </tr>\n",
       "    <tr>\n",
       "      <th>1</th>\n",
       "      <td>Afghanistan</td>\n",
       "      <td>AFG</td>\n",
       "      <td>Population, total</td>\n",
       "      <td>SP.POP.TOTL</td>\n",
       "      <td>8996351.0</td>\n",
       "      <td>9166764.0</td>\n",
       "      <td>9345868.0</td>\n",
       "      <td>9533954.0</td>\n",
       "      <td>9731361.0</td>\n",
       "      <td>9938414.0</td>\n",
       "      <td>...</td>\n",
       "      <td>27294031.0</td>\n",
       "      <td>28004331.0</td>\n",
       "      <td>28803167.0</td>\n",
       "      <td>29708599.0</td>\n",
       "      <td>30696958.0</td>\n",
       "      <td>31731688.0</td>\n",
       "      <td>32758020.0</td>\n",
       "      <td>33736494.0</td>\n",
       "      <td>34656032.0</td>\n",
       "      <td>NaN</td>\n",
       "    </tr>\n",
       "    <tr>\n",
       "      <th>2</th>\n",
       "      <td>Angola</td>\n",
       "      <td>AGO</td>\n",
       "      <td>Population, total</td>\n",
       "      <td>SP.POP.TOTL</td>\n",
       "      <td>5643182.0</td>\n",
       "      <td>5753024.0</td>\n",
       "      <td>5866061.0</td>\n",
       "      <td>5980417.0</td>\n",
       "      <td>6093321.0</td>\n",
       "      <td>6203299.0</td>\n",
       "      <td>...</td>\n",
       "      <td>21759420.0</td>\n",
       "      <td>22549547.0</td>\n",
       "      <td>23369131.0</td>\n",
       "      <td>24218565.0</td>\n",
       "      <td>25096150.0</td>\n",
       "      <td>25998340.0</td>\n",
       "      <td>26920466.0</td>\n",
       "      <td>27859305.0</td>\n",
       "      <td>28813463.0</td>\n",
       "      <td>NaN</td>\n",
       "    </tr>\n",
       "    <tr>\n",
       "      <th>3</th>\n",
       "      <td>Albania</td>\n",
       "      <td>ALB</td>\n",
       "      <td>Population, total</td>\n",
       "      <td>SP.POP.TOTL</td>\n",
       "      <td>1608800.0</td>\n",
       "      <td>1659800.0</td>\n",
       "      <td>1711319.0</td>\n",
       "      <td>1762621.0</td>\n",
       "      <td>1814135.0</td>\n",
       "      <td>1864791.0</td>\n",
       "      <td>...</td>\n",
       "      <td>2947314.0</td>\n",
       "      <td>2927519.0</td>\n",
       "      <td>2913021.0</td>\n",
       "      <td>2905195.0</td>\n",
       "      <td>2900401.0</td>\n",
       "      <td>2895092.0</td>\n",
       "      <td>2889104.0</td>\n",
       "      <td>2880703.0</td>\n",
       "      <td>2876101.0</td>\n",
       "      <td>NaN</td>\n",
       "    </tr>\n",
       "    <tr>\n",
       "      <th>4</th>\n",
       "      <td>Andorra</td>\n",
       "      <td>AND</td>\n",
       "      <td>Population, total</td>\n",
       "      <td>SP.POP.TOTL</td>\n",
       "      <td>13411.0</td>\n",
       "      <td>14375.0</td>\n",
       "      <td>15370.0</td>\n",
       "      <td>16412.0</td>\n",
       "      <td>17469.0</td>\n",
       "      <td>18549.0</td>\n",
       "      <td>...</td>\n",
       "      <td>83861.0</td>\n",
       "      <td>84462.0</td>\n",
       "      <td>84449.0</td>\n",
       "      <td>83751.0</td>\n",
       "      <td>82431.0</td>\n",
       "      <td>80788.0</td>\n",
       "      <td>79223.0</td>\n",
       "      <td>78014.0</td>\n",
       "      <td>77281.0</td>\n",
       "      <td>NaN</td>\n",
       "    </tr>\n",
       "  </tbody>\n",
       "</table>\n",
       "<p>5 rows × 62 columns</p>\n",
       "</div>"
      ],
      "text/plain": [
       "  Country Name Country Code     Indicator Name Indicator Code       1960  \\\n",
       "0        Aruba          ABW  Population, total    SP.POP.TOTL    54211.0   \n",
       "1  Afghanistan          AFG  Population, total    SP.POP.TOTL  8996351.0   \n",
       "2       Angola          AGO  Population, total    SP.POP.TOTL  5643182.0   \n",
       "3      Albania          ALB  Population, total    SP.POP.TOTL  1608800.0   \n",
       "4      Andorra          AND  Population, total    SP.POP.TOTL    13411.0   \n",
       "\n",
       "        1961       1962       1963       1964       1965     ...       \\\n",
       "0    55438.0    56225.0    56695.0    57032.0    57360.0     ...        \n",
       "1  9166764.0  9345868.0  9533954.0  9731361.0  9938414.0     ...        \n",
       "2  5753024.0  5866061.0  5980417.0  6093321.0  6203299.0     ...        \n",
       "3  1659800.0  1711319.0  1762621.0  1814135.0  1864791.0     ...        \n",
       "4    14375.0    15370.0    16412.0    17469.0    18549.0     ...        \n",
       "\n",
       "         2008        2009        2010        2011        2012        2013  \\\n",
       "0    101353.0    101453.0    101669.0    102053.0    102577.0    103187.0   \n",
       "1  27294031.0  28004331.0  28803167.0  29708599.0  30696958.0  31731688.0   \n",
       "2  21759420.0  22549547.0  23369131.0  24218565.0  25096150.0  25998340.0   \n",
       "3   2947314.0   2927519.0   2913021.0   2905195.0   2900401.0   2895092.0   \n",
       "4     83861.0     84462.0     84449.0     83751.0     82431.0     80788.0   \n",
       "\n",
       "         2014        2015        2016  Unnamed: 61  \n",
       "0    103795.0    104341.0    104822.0          NaN  \n",
       "1  32758020.0  33736494.0  34656032.0          NaN  \n",
       "2  26920466.0  27859305.0  28813463.0          NaN  \n",
       "3   2889104.0   2880703.0   2876101.0          NaN  \n",
       "4     79223.0     78014.0     77281.0          NaN  \n",
       "\n",
       "[5 rows x 62 columns]"
      ]
     },
     "execution_count": 5,
     "metadata": {},
     "output_type": "execute_result"
    }
   ],
   "source": [
    "dfp = pd.read_csv(os.getenv(\"PUIDATA\") + \"/\" + 'pop.csv', skiprows=4)\n",
    "dfp.head()"
   ]
  },
  {
   "cell_type": "code",
   "execution_count": 6,
   "metadata": {
    "collapsed": false
   },
   "outputs": [
    {
     "data": {
      "text/html": [
       "<div>\n",
       "<table border=\"1\" class=\"dataframe\">\n",
       "  <thead>\n",
       "    <tr style=\"text-align: right;\">\n",
       "      <th></th>\n",
       "      <th>Country Name</th>\n",
       "      <th>Country Code</th>\n",
       "      <th>Indicator Name</th>\n",
       "      <th>Indicator Code</th>\n",
       "      <th>1960</th>\n",
       "      <th>1961</th>\n",
       "      <th>1962</th>\n",
       "      <th>1963</th>\n",
       "      <th>1964</th>\n",
       "      <th>1965</th>\n",
       "      <th>...</th>\n",
       "      <th>2008</th>\n",
       "      <th>2009</th>\n",
       "      <th>2010</th>\n",
       "      <th>2011</th>\n",
       "      <th>2012</th>\n",
       "      <th>2013</th>\n",
       "      <th>2014</th>\n",
       "      <th>2015</th>\n",
       "      <th>2016</th>\n",
       "      <th>Unnamed: 61</th>\n",
       "    </tr>\n",
       "  </thead>\n",
       "  <tbody>\n",
       "    <tr>\n",
       "      <th>0</th>\n",
       "      <td>Aruba</td>\n",
       "      <td>ABW</td>\n",
       "      <td>GDP (current US$)</td>\n",
       "      <td>NY.GDP.MKTP.CD</td>\n",
       "      <td>NaN</td>\n",
       "      <td>NaN</td>\n",
       "      <td>NaN</td>\n",
       "      <td>NaN</td>\n",
       "      <td>NaN</td>\n",
       "      <td>NaN</td>\n",
       "      <td>...</td>\n",
       "      <td>2.791961e+09</td>\n",
       "      <td>2.498933e+09</td>\n",
       "      <td>2.467704e+09</td>\n",
       "      <td>2.584464e+09</td>\n",
       "      <td>NaN</td>\n",
       "      <td>NaN</td>\n",
       "      <td>NaN</td>\n",
       "      <td>NaN</td>\n",
       "      <td>NaN</td>\n",
       "      <td>NaN</td>\n",
       "    </tr>\n",
       "    <tr>\n",
       "      <th>1</th>\n",
       "      <td>Afghanistan</td>\n",
       "      <td>AFG</td>\n",
       "      <td>GDP (current US$)</td>\n",
       "      <td>NY.GDP.MKTP.CD</td>\n",
       "      <td>5.377778e+08</td>\n",
       "      <td>5.488889e+08</td>\n",
       "      <td>5.466667e+08</td>\n",
       "      <td>7.511112e+08</td>\n",
       "      <td>8.000000e+08</td>\n",
       "      <td>1.006667e+09</td>\n",
       "      <td>...</td>\n",
       "      <td>1.019053e+10</td>\n",
       "      <td>1.248694e+10</td>\n",
       "      <td>1.593680e+10</td>\n",
       "      <td>1.793024e+10</td>\n",
       "      <td>2.053654e+10</td>\n",
       "      <td>2.004633e+10</td>\n",
       "      <td>2.005019e+10</td>\n",
       "      <td>1.970299e+10</td>\n",
       "      <td>1.946902e+10</td>\n",
       "      <td>NaN</td>\n",
       "    </tr>\n",
       "    <tr>\n",
       "      <th>2</th>\n",
       "      <td>Angola</td>\n",
       "      <td>AGO</td>\n",
       "      <td>GDP (current US$)</td>\n",
       "      <td>NY.GDP.MKTP.CD</td>\n",
       "      <td>NaN</td>\n",
       "      <td>NaN</td>\n",
       "      <td>NaN</td>\n",
       "      <td>NaN</td>\n",
       "      <td>NaN</td>\n",
       "      <td>NaN</td>\n",
       "      <td>...</td>\n",
       "      <td>8.417803e+10</td>\n",
       "      <td>7.549238e+10</td>\n",
       "      <td>8.247091e+10</td>\n",
       "      <td>1.041159e+11</td>\n",
       "      <td>1.153984e+11</td>\n",
       "      <td>1.249121e+11</td>\n",
       "      <td>1.267769e+11</td>\n",
       "      <td>1.029622e+11</td>\n",
       "      <td>8.963316e+10</td>\n",
       "      <td>NaN</td>\n",
       "    </tr>\n",
       "    <tr>\n",
       "      <th>3</th>\n",
       "      <td>Albania</td>\n",
       "      <td>ALB</td>\n",
       "      <td>GDP (current US$)</td>\n",
       "      <td>NY.GDP.MKTP.CD</td>\n",
       "      <td>NaN</td>\n",
       "      <td>NaN</td>\n",
       "      <td>NaN</td>\n",
       "      <td>NaN</td>\n",
       "      <td>NaN</td>\n",
       "      <td>NaN</td>\n",
       "      <td>...</td>\n",
       "      <td>1.288135e+10</td>\n",
       "      <td>1.204421e+10</td>\n",
       "      <td>1.192695e+10</td>\n",
       "      <td>1.289087e+10</td>\n",
       "      <td>1.231978e+10</td>\n",
       "      <td>1.278103e+10</td>\n",
       "      <td>1.321986e+10</td>\n",
       "      <td>1.139037e+10</td>\n",
       "      <td>1.192689e+10</td>\n",
       "      <td>NaN</td>\n",
       "    </tr>\n",
       "    <tr>\n",
       "      <th>4</th>\n",
       "      <td>Andorra</td>\n",
       "      <td>AND</td>\n",
       "      <td>GDP (current US$)</td>\n",
       "      <td>NY.GDP.MKTP.CD</td>\n",
       "      <td>NaN</td>\n",
       "      <td>NaN</td>\n",
       "      <td>NaN</td>\n",
       "      <td>NaN</td>\n",
       "      <td>NaN</td>\n",
       "      <td>NaN</td>\n",
       "      <td>...</td>\n",
       "      <td>4.001201e+09</td>\n",
       "      <td>3.650083e+09</td>\n",
       "      <td>3.346517e+09</td>\n",
       "      <td>3.427023e+09</td>\n",
       "      <td>3.146152e+09</td>\n",
       "      <td>3.248925e+09</td>\n",
       "      <td>NaN</td>\n",
       "      <td>NaN</td>\n",
       "      <td>NaN</td>\n",
       "      <td>NaN</td>\n",
       "    </tr>\n",
       "  </tbody>\n",
       "</table>\n",
       "<p>5 rows × 62 columns</p>\n",
       "</div>"
      ],
      "text/plain": [
       "  Country Name Country Code     Indicator Name  Indicator Code          1960  \\\n",
       "0        Aruba          ABW  GDP (current US$)  NY.GDP.MKTP.CD           NaN   \n",
       "1  Afghanistan          AFG  GDP (current US$)  NY.GDP.MKTP.CD  5.377778e+08   \n",
       "2       Angola          AGO  GDP (current US$)  NY.GDP.MKTP.CD           NaN   \n",
       "3      Albania          ALB  GDP (current US$)  NY.GDP.MKTP.CD           NaN   \n",
       "4      Andorra          AND  GDP (current US$)  NY.GDP.MKTP.CD           NaN   \n",
       "\n",
       "           1961          1962          1963          1964          1965  \\\n",
       "0           NaN           NaN           NaN           NaN           NaN   \n",
       "1  5.488889e+08  5.466667e+08  7.511112e+08  8.000000e+08  1.006667e+09   \n",
       "2           NaN           NaN           NaN           NaN           NaN   \n",
       "3           NaN           NaN           NaN           NaN           NaN   \n",
       "4           NaN           NaN           NaN           NaN           NaN   \n",
       "\n",
       "      ...               2008          2009          2010          2011  \\\n",
       "0     ...       2.791961e+09  2.498933e+09  2.467704e+09  2.584464e+09   \n",
       "1     ...       1.019053e+10  1.248694e+10  1.593680e+10  1.793024e+10   \n",
       "2     ...       8.417803e+10  7.549238e+10  8.247091e+10  1.041159e+11   \n",
       "3     ...       1.288135e+10  1.204421e+10  1.192695e+10  1.289087e+10   \n",
       "4     ...       4.001201e+09  3.650083e+09  3.346517e+09  3.427023e+09   \n",
       "\n",
       "           2012          2013          2014          2015          2016  \\\n",
       "0           NaN           NaN           NaN           NaN           NaN   \n",
       "1  2.053654e+10  2.004633e+10  2.005019e+10  1.970299e+10  1.946902e+10   \n",
       "2  1.153984e+11  1.249121e+11  1.267769e+11  1.029622e+11  8.963316e+10   \n",
       "3  1.231978e+10  1.278103e+10  1.321986e+10  1.139037e+10  1.192689e+10   \n",
       "4  3.146152e+09  3.248925e+09           NaN           NaN           NaN   \n",
       "\n",
       "   Unnamed: 61  \n",
       "0          NaN  \n",
       "1          NaN  \n",
       "2          NaN  \n",
       "3          NaN  \n",
       "4          NaN  \n",
       "\n",
       "[5 rows x 62 columns]"
      ]
     },
     "execution_count": 6,
     "metadata": {},
     "output_type": "execute_result"
    }
   ],
   "source": [
    "dfgdp = pd.read_csv(os.getenv(\"PUIDATA\") + \"/\" + 'gdp.csv', skiprows=4)\n",
    "dfgdp.head()"
   ]
  },
  {
   "cell_type": "code",
   "execution_count": 7,
   "metadata": {
    "collapsed": false
   },
   "outputs": [
    {
     "data": {
      "text/plain": [
       "Index([u'Country Name', u'Country Code', u'Indicator Name', u'Indicator Code',\n",
       "       u'1960', u'1961', u'1962', u'1963', u'1964', u'1965', u'1966', u'1967',\n",
       "       u'1968', u'1969', u'1970', u'1971', u'1972', u'1973', u'1974', u'1975',\n",
       "       u'1976', u'1977', u'1978', u'1979', u'1980', u'1981', u'1982', u'1983',\n",
       "       u'1984', u'1985', u'1986', u'1987', u'1988', u'1989', u'1990', u'1991',\n",
       "       u'1992', u'1993', u'1994', u'1995', u'1996', u'1997', u'1998', u'1999',\n",
       "       u'2000', u'2001', u'2002', u'2003', u'2004', u'2005', u'2006', u'2007',\n",
       "       u'2008', u'2009', u'2010', u'2011', u'2012', u'2013', u'2014', u'2015',\n",
       "       u'2016', u'Unnamed: 61'],\n",
       "      dtype='object')"
      ]
     },
     "execution_count": 7,
     "metadata": {},
     "output_type": "execute_result"
    }
   ],
   "source": [
    "dfgdp.columns"
   ]
  },
  {
   "cell_type": "code",
   "execution_count": 8,
   "metadata": {
    "collapsed": false
   },
   "outputs": [
    {
     "data": {
      "text/html": [
       "<div>\n",
       "<table border=\"1\" class=\"dataframe\">\n",
       "  <thead>\n",
       "    <tr style=\"text-align: right;\">\n",
       "      <th></th>\n",
       "      <th>Country Name</th>\n",
       "      <th>gdp</th>\n",
       "    </tr>\n",
       "  </thead>\n",
       "  <tbody>\n",
       "    <tr>\n",
       "      <th>0</th>\n",
       "      <td>Aruba</td>\n",
       "      <td>NaN</td>\n",
       "    </tr>\n",
       "    <tr>\n",
       "      <th>1</th>\n",
       "      <td>Afghanistan</td>\n",
       "      <td>2.053654e+10</td>\n",
       "    </tr>\n",
       "    <tr>\n",
       "      <th>2</th>\n",
       "      <td>Angola</td>\n",
       "      <td>1.153984e+11</td>\n",
       "    </tr>\n",
       "    <tr>\n",
       "      <th>3</th>\n",
       "      <td>Albania</td>\n",
       "      <td>1.231978e+10</td>\n",
       "    </tr>\n",
       "    <tr>\n",
       "      <th>4</th>\n",
       "      <td>Andorra</td>\n",
       "      <td>3.146152e+09</td>\n",
       "    </tr>\n",
       "  </tbody>\n",
       "</table>\n",
       "</div>"
      ],
      "text/plain": [
       "  Country Name           gdp\n",
       "0        Aruba           NaN\n",
       "1  Afghanistan  2.053654e+10\n",
       "2       Angola  1.153984e+11\n",
       "3      Albania  1.231978e+10\n",
       "4      Andorra  3.146152e+09"
      ]
     },
     "execution_count": 8,
     "metadata": {},
     "output_type": "execute_result"
    }
   ],
   "source": [
    "dfgdp = dfgdp[['Country Name', '2012']]\n",
    "dfgdp.columns = ['Country Name', 'gdp']\n",
    "dfgdp.head()"
   ]
  },
  {
   "cell_type": "code",
   "execution_count": 9,
   "metadata": {
    "collapsed": false
   },
   "outputs": [
    {
     "data": {
      "text/plain": [
       "Index([u'Country Name', u'Country Code', u'Indicator Name', u'Indicator Code',\n",
       "       u'1960', u'1961', u'1962', u'1963', u'1964', u'1965', u'1966', u'1967',\n",
       "       u'1968', u'1969', u'1970', u'1971', u'1972', u'1973', u'1974', u'1975',\n",
       "       u'1976', u'1977', u'1978', u'1979', u'1980', u'1981', u'1982', u'1983',\n",
       "       u'1984', u'1985', u'1986', u'1987', u'1988', u'1989', u'1990', u'1991',\n",
       "       u'1992', u'1993', u'1994', u'1995', u'1996', u'1997', u'1998', u'1999',\n",
       "       u'2000', u'2001', u'2002', u'2003', u'2004', u'2005', u'2006', u'2007',\n",
       "       u'2008', u'2009', u'2010', u'2011', u'2012', u'2013', u'2014', u'2015',\n",
       "       u'2016', u'Unnamed: 61'],\n",
       "      dtype='object')"
      ]
     },
     "execution_count": 9,
     "metadata": {},
     "output_type": "execute_result"
    }
   ],
   "source": [
    "dfp.columns"
   ]
  },
  {
   "cell_type": "code",
   "execution_count": 10,
   "metadata": {
    "collapsed": false
   },
   "outputs": [
    {
     "data": {
      "text/html": [
       "<div>\n",
       "<table border=\"1\" class=\"dataframe\">\n",
       "  <thead>\n",
       "    <tr style=\"text-align: right;\">\n",
       "      <th></th>\n",
       "      <th>Country Name</th>\n",
       "      <th>pop</th>\n",
       "    </tr>\n",
       "  </thead>\n",
       "  <tbody>\n",
       "    <tr>\n",
       "      <th>0</th>\n",
       "      <td>Aruba</td>\n",
       "      <td>102577.0</td>\n",
       "    </tr>\n",
       "    <tr>\n",
       "      <th>1</th>\n",
       "      <td>Afghanistan</td>\n",
       "      <td>30696958.0</td>\n",
       "    </tr>\n",
       "    <tr>\n",
       "      <th>2</th>\n",
       "      <td>Angola</td>\n",
       "      <td>25096150.0</td>\n",
       "    </tr>\n",
       "    <tr>\n",
       "      <th>3</th>\n",
       "      <td>Albania</td>\n",
       "      <td>2900401.0</td>\n",
       "    </tr>\n",
       "    <tr>\n",
       "      <th>4</th>\n",
       "      <td>Andorra</td>\n",
       "      <td>82431.0</td>\n",
       "    </tr>\n",
       "  </tbody>\n",
       "</table>\n",
       "</div>"
      ],
      "text/plain": [
       "  Country Name         pop\n",
       "0        Aruba    102577.0\n",
       "1  Afghanistan  30696958.0\n",
       "2       Angola  25096150.0\n",
       "3      Albania   2900401.0\n",
       "4      Andorra     82431.0"
      ]
     },
     "execution_count": 10,
     "metadata": {},
     "output_type": "execute_result"
    }
   ],
   "source": [
    "dfp = dfp[['Country Name', '2012']]\n",
    "dfp.columns = ['Country Name', 'pop']\n",
    "dfp.head()"
   ]
  },
  {
   "cell_type": "code",
   "execution_count": 11,
   "metadata": {
    "collapsed": false
   },
   "outputs": [
    {
     "data": {
      "text/html": [
       "<div>\n",
       "<table border=\"1\" class=\"dataframe\">\n",
       "  <thead>\n",
       "    <tr style=\"text-align: right;\">\n",
       "      <th></th>\n",
       "      <th>Country Name</th>\n",
       "      <th>Average total all civilian firearms</th>\n",
       "      <th>Number of homicides by firearm</th>\n",
       "      <th>pop</th>\n",
       "    </tr>\n",
       "  </thead>\n",
       "  <tbody>\n",
       "    <tr>\n",
       "      <th>0</th>\n",
       "      <td>Albania</td>\n",
       "      <td>270000.0</td>\n",
       "      <td>56.0</td>\n",
       "      <td>2900401.0</td>\n",
       "    </tr>\n",
       "    <tr>\n",
       "      <th>1</th>\n",
       "      <td>Algeria</td>\n",
       "      <td>1900000.0</td>\n",
       "      <td>20.0</td>\n",
       "      <td>37565847.0</td>\n",
       "    </tr>\n",
       "    <tr>\n",
       "      <th>2</th>\n",
       "      <td>Angola</td>\n",
       "      <td>2800000.0</td>\n",
       "      <td>NaN</td>\n",
       "      <td>25096150.0</td>\n",
       "    </tr>\n",
       "    <tr>\n",
       "      <th>3</th>\n",
       "      <td>Argentina</td>\n",
       "      <td>3950000.0</td>\n",
       "      <td>1198.0</td>\n",
       "      <td>42096739.0</td>\n",
       "    </tr>\n",
       "    <tr>\n",
       "      <th>4</th>\n",
       "      <td>Armenia</td>\n",
       "      <td>380000.0</td>\n",
       "      <td>9.0</td>\n",
       "      <td>2881922.0</td>\n",
       "    </tr>\n",
       "  </tbody>\n",
       "</table>\n",
       "</div>"
      ],
      "text/plain": [
       "  Country Name  Average total all civilian firearms  \\\n",
       "0      Albania                             270000.0   \n",
       "1      Algeria                            1900000.0   \n",
       "2       Angola                            2800000.0   \n",
       "3    Argentina                            3950000.0   \n",
       "4      Armenia                             380000.0   \n",
       "\n",
       "   Number of homicides by firearm         pop  \n",
       "0                            56.0   2900401.0  \n",
       "1                            20.0  37565847.0  \n",
       "2                             NaN  25096150.0  \n",
       "3                          1198.0  42096739.0  \n",
       "4                             9.0   2881922.0  "
      ]
     },
     "execution_count": 11,
     "metadata": {},
     "output_type": "execute_result"
    }
   ],
   "source": [
    "df1 = dff.merge(dfp, right_on = \"Country Name\", left_on = \"Country/Territory\")\n",
    "df1 = df1[[\"Country Name\", \"Average total all civilian firearms\", \"Number of homicides by firearm\", \"pop\"]]\n",
    "df1.head()"
   ]
  },
  {
   "cell_type": "code",
   "execution_count": 12,
   "metadata": {
    "collapsed": false
   },
   "outputs": [
    {
     "data": {
      "text/html": [
       "<div>\n",
       "<table border=\"1\" class=\"dataframe\">\n",
       "  <thead>\n",
       "    <tr style=\"text-align: right;\">\n",
       "      <th></th>\n",
       "      <th>Country Name</th>\n",
       "      <th>Average total all civilian firearms</th>\n",
       "      <th>Number of homicides by firearm</th>\n",
       "      <th>pop</th>\n",
       "      <th>gdp</th>\n",
       "    </tr>\n",
       "  </thead>\n",
       "  <tbody>\n",
       "    <tr>\n",
       "      <th>0</th>\n",
       "      <td>Albania</td>\n",
       "      <td>270000.0</td>\n",
       "      <td>56.0</td>\n",
       "      <td>2900401.0</td>\n",
       "      <td>1.231978e+10</td>\n",
       "    </tr>\n",
       "    <tr>\n",
       "      <th>1</th>\n",
       "      <td>Algeria</td>\n",
       "      <td>1900000.0</td>\n",
       "      <td>20.0</td>\n",
       "      <td>37565847.0</td>\n",
       "      <td>2.090474e+11</td>\n",
       "    </tr>\n",
       "    <tr>\n",
       "      <th>2</th>\n",
       "      <td>Angola</td>\n",
       "      <td>2800000.0</td>\n",
       "      <td>NaN</td>\n",
       "      <td>25096150.0</td>\n",
       "      <td>1.153984e+11</td>\n",
       "    </tr>\n",
       "    <tr>\n",
       "      <th>3</th>\n",
       "      <td>Argentina</td>\n",
       "      <td>3950000.0</td>\n",
       "      <td>1198.0</td>\n",
       "      <td>42096739.0</td>\n",
       "      <td>5.459824e+11</td>\n",
       "    </tr>\n",
       "    <tr>\n",
       "      <th>4</th>\n",
       "      <td>Armenia</td>\n",
       "      <td>380000.0</td>\n",
       "      <td>9.0</td>\n",
       "      <td>2881922.0</td>\n",
       "      <td>1.061932e+10</td>\n",
       "    </tr>\n",
       "  </tbody>\n",
       "</table>\n",
       "</div>"
      ],
      "text/plain": [
       "  Country Name  Average total all civilian firearms  \\\n",
       "0      Albania                             270000.0   \n",
       "1      Algeria                            1900000.0   \n",
       "2       Angola                            2800000.0   \n",
       "3    Argentina                            3950000.0   \n",
       "4      Armenia                             380000.0   \n",
       "\n",
       "   Number of homicides by firearm         pop           gdp  \n",
       "0                            56.0   2900401.0  1.231978e+10  \n",
       "1                            20.0  37565847.0  2.090474e+11  \n",
       "2                             NaN  25096150.0  1.153984e+11  \n",
       "3                          1198.0  42096739.0  5.459824e+11  \n",
       "4                             9.0   2881922.0  1.061932e+10  "
      ]
     },
     "execution_count": 12,
     "metadata": {},
     "output_type": "execute_result"
    }
   ],
   "source": [
    "df2 = df1.merge(dfgdp, right_on = \"Country Name\", left_on = \"Country Name\")\n",
    "df2.head()"
   ]
  },
  {
   "cell_type": "code",
   "execution_count": 13,
   "metadata": {
    "collapsed": false
   },
   "outputs": [
    {
     "data": {
      "text/html": [
       "<div>\n",
       "<table border=\"1\" class=\"dataframe\">\n",
       "  <thead>\n",
       "    <tr style=\"text-align: right;\">\n",
       "      <th></th>\n",
       "      <th>Country Name</th>\n",
       "      <th>Average total all civilian firearms</th>\n",
       "      <th>Number of homicides by firearm</th>\n",
       "      <th>pop</th>\n",
       "      <th>gdp</th>\n",
       "      <th>Guns/100 inhabitants</th>\n",
       "      <th>Number of mass shootings</th>\n",
       "    </tr>\n",
       "  </thead>\n",
       "  <tbody>\n",
       "    <tr>\n",
       "      <th>0</th>\n",
       "      <td>Australia</td>\n",
       "      <td>3050000.0</td>\n",
       "      <td>30.0</td>\n",
       "      <td>22728254.0</td>\n",
       "      <td>1.538194e+12</td>\n",
       "      <td>15.0</td>\n",
       "      <td>4</td>\n",
       "    </tr>\n",
       "    <tr>\n",
       "      <th>1</th>\n",
       "      <td>Austria</td>\n",
       "      <td>2500000.0</td>\n",
       "      <td>18.0</td>\n",
       "      <td>8429991.0</td>\n",
       "      <td>4.074516e+11</td>\n",
       "      <td>30.4</td>\n",
       "      <td>1</td>\n",
       "    </tr>\n",
       "    <tr>\n",
       "      <th>2</th>\n",
       "      <td>Canada</td>\n",
       "      <td>9950000.0</td>\n",
       "      <td>173.0</td>\n",
       "      <td>34750545.0</td>\n",
       "      <td>1.824289e+12</td>\n",
       "      <td>30.8</td>\n",
       "      <td>4</td>\n",
       "    </tr>\n",
       "    <tr>\n",
       "      <th>3</th>\n",
       "      <td>Denmark</td>\n",
       "      <td>650000.0</td>\n",
       "      <td>15.0</td>\n",
       "      <td>5591572.0</td>\n",
       "      <td>3.271489e+11</td>\n",
       "      <td>12.0</td>\n",
       "      <td>0</td>\n",
       "    </tr>\n",
       "    <tr>\n",
       "      <th>4</th>\n",
       "      <td>Finland</td>\n",
       "      <td>2400000.0</td>\n",
       "      <td>24.0</td>\n",
       "      <td>5413971.0</td>\n",
       "      <td>2.567065e+11</td>\n",
       "      <td>45.3</td>\n",
       "      <td>2</td>\n",
       "    </tr>\n",
       "    <tr>\n",
       "      <th>5</th>\n",
       "      <td>France</td>\n",
       "      <td>19000000.0</td>\n",
       "      <td>35.0</td>\n",
       "      <td>65659790.0</td>\n",
       "      <td>2.681416e+12</td>\n",
       "      <td>31.2</td>\n",
       "      <td>6</td>\n",
       "    </tr>\n",
       "    <tr>\n",
       "      <th>6</th>\n",
       "      <td>Germany</td>\n",
       "      <td>25000000.0</td>\n",
       "      <td>158.0</td>\n",
       "      <td>80425823.0</td>\n",
       "      <td>3.543984e+12</td>\n",
       "      <td>30.3</td>\n",
       "      <td>7</td>\n",
       "    </tr>\n",
       "    <tr>\n",
       "      <th>7</th>\n",
       "      <td>Greece</td>\n",
       "      <td>2500000.0</td>\n",
       "      <td>29.0</td>\n",
       "      <td>11045011.0</td>\n",
       "      <td>2.456707e+11</td>\n",
       "      <td>22.5</td>\n",
       "      <td>0</td>\n",
       "    </tr>\n",
       "    <tr>\n",
       "      <th>8</th>\n",
       "      <td>Hungary</td>\n",
       "      <td>560000.0</td>\n",
       "      <td>7.0</td>\n",
       "      <td>9920362.0</td>\n",
       "      <td>1.273211e+11</td>\n",
       "      <td>5.5</td>\n",
       "      <td>0</td>\n",
       "    </tr>\n",
       "    <tr>\n",
       "      <th>9</th>\n",
       "      <td>Iceland</td>\n",
       "      <td>90000.0</td>\n",
       "      <td>0.0</td>\n",
       "      <td>320716.0</td>\n",
       "      <td>1.421858e+10</td>\n",
       "      <td>30.3</td>\n",
       "      <td>0</td>\n",
       "    </tr>\n",
       "    <tr>\n",
       "      <th>10</th>\n",
       "      <td>Ireland</td>\n",
       "      <td>360000.0</td>\n",
       "      <td>21.0</td>\n",
       "      <td>4586897.0</td>\n",
       "      <td>2.258192e+11</td>\n",
       "      <td>8.6</td>\n",
       "      <td>0</td>\n",
       "    </tr>\n",
       "    <tr>\n",
       "      <th>11</th>\n",
       "      <td>Italy</td>\n",
       "      <td>7000000.0</td>\n",
       "      <td>417.0</td>\n",
       "      <td>59539717.0</td>\n",
       "      <td>2.072823e+12</td>\n",
       "      <td>11.9</td>\n",
       "      <td>0</td>\n",
       "    </tr>\n",
       "    <tr>\n",
       "      <th>12</th>\n",
       "      <td>Japan</td>\n",
       "      <td>710000.0</td>\n",
       "      <td>11.0</td>\n",
       "      <td>127629000.0</td>\n",
       "      <td>6.203213e+12</td>\n",
       "      <td>0.6</td>\n",
       "      <td>0</td>\n",
       "    </tr>\n",
       "    <tr>\n",
       "      <th>13</th>\n",
       "      <td>Luxembourg</td>\n",
       "      <td>70000.0</td>\n",
       "      <td>3.0</td>\n",
       "      <td>530946.0</td>\n",
       "      <td>5.667796e+10</td>\n",
       "      <td>15.3</td>\n",
       "      <td>0</td>\n",
       "    </tr>\n",
       "    <tr>\n",
       "      <th>14</th>\n",
       "      <td>New Zealand</td>\n",
       "      <td>925000.0</td>\n",
       "      <td>7.0</td>\n",
       "      <td>4408100.0</td>\n",
       "      <td>1.761929e+11</td>\n",
       "      <td>22.6</td>\n",
       "      <td>3</td>\n",
       "    </tr>\n",
       "    <tr>\n",
       "      <th>15</th>\n",
       "      <td>Norway</td>\n",
       "      <td>1400000.0</td>\n",
       "      <td>2.0</td>\n",
       "      <td>5018573.0</td>\n",
       "      <td>5.097049e+11</td>\n",
       "      <td>31.3</td>\n",
       "      <td>1</td>\n",
       "    </tr>\n",
       "    <tr>\n",
       "      <th>16</th>\n",
       "      <td>Poland</td>\n",
       "      <td>510000.0</td>\n",
       "      <td>35.0</td>\n",
       "      <td>38063164.0</td>\n",
       "      <td>5.003443e+11</td>\n",
       "      <td>1.3</td>\n",
       "      <td>0</td>\n",
       "    </tr>\n",
       "    <tr>\n",
       "      <th>17</th>\n",
       "      <td>Portugal</td>\n",
       "      <td>900000.0</td>\n",
       "      <td>44.0</td>\n",
       "      <td>10514844.0</td>\n",
       "      <td>2.163682e+11</td>\n",
       "      <td>8.5</td>\n",
       "      <td>1</td>\n",
       "    </tr>\n",
       "    <tr>\n",
       "      <th>18</th>\n",
       "      <td>Spain</td>\n",
       "      <td>4500000.0</td>\n",
       "      <td>90.0</td>\n",
       "      <td>46773055.0</td>\n",
       "      <td>1.335946e+12</td>\n",
       "      <td>10.4</td>\n",
       "      <td>1</td>\n",
       "    </tr>\n",
       "    <tr>\n",
       "      <th>19</th>\n",
       "      <td>Sweden</td>\n",
       "      <td>2800000.0</td>\n",
       "      <td>37.0</td>\n",
       "      <td>9519374.0</td>\n",
       "      <td>5.438806e+11</td>\n",
       "      <td>31.6</td>\n",
       "      <td>2</td>\n",
       "    </tr>\n",
       "    <tr>\n",
       "      <th>20</th>\n",
       "      <td>Switzerland</td>\n",
       "      <td>3400000.0</td>\n",
       "      <td>57.0</td>\n",
       "      <td>7996861.0</td>\n",
       "      <td>6.650541e+11</td>\n",
       "      <td>45.7</td>\n",
       "      <td>2</td>\n",
       "    </tr>\n",
       "    <tr>\n",
       "      <th>21</th>\n",
       "      <td>United States</td>\n",
       "      <td>270000000.0</td>\n",
       "      <td>9146.0</td>\n",
       "      <td>313998379.0</td>\n",
       "      <td>1.615526e+13</td>\n",
       "      <td>88.8</td>\n",
       "      <td>78</td>\n",
       "    </tr>\n",
       "  </tbody>\n",
       "</table>\n",
       "</div>"
      ],
      "text/plain": [
       "     Country Name  Average total all civilian firearms  \\\n",
       "0       Australia                            3050000.0   \n",
       "1         Austria                            2500000.0   \n",
       "2          Canada                            9950000.0   \n",
       "3         Denmark                             650000.0   \n",
       "4         Finland                            2400000.0   \n",
       "5          France                           19000000.0   \n",
       "6         Germany                           25000000.0   \n",
       "7          Greece                            2500000.0   \n",
       "8         Hungary                             560000.0   \n",
       "9         Iceland                              90000.0   \n",
       "10        Ireland                             360000.0   \n",
       "11          Italy                            7000000.0   \n",
       "12          Japan                             710000.0   \n",
       "13     Luxembourg                              70000.0   \n",
       "14    New Zealand                             925000.0   \n",
       "15         Norway                            1400000.0   \n",
       "16         Poland                             510000.0   \n",
       "17       Portugal                             900000.0   \n",
       "18          Spain                            4500000.0   \n",
       "19         Sweden                            2800000.0   \n",
       "20    Switzerland                            3400000.0   \n",
       "21  United States                          270000000.0   \n",
       "\n",
       "    Number of homicides by firearm          pop           gdp  \\\n",
       "0                             30.0   22728254.0  1.538194e+12   \n",
       "1                             18.0    8429991.0  4.074516e+11   \n",
       "2                            173.0   34750545.0  1.824289e+12   \n",
       "3                             15.0    5591572.0  3.271489e+11   \n",
       "4                             24.0    5413971.0  2.567065e+11   \n",
       "5                             35.0   65659790.0  2.681416e+12   \n",
       "6                            158.0   80425823.0  3.543984e+12   \n",
       "7                             29.0   11045011.0  2.456707e+11   \n",
       "8                              7.0    9920362.0  1.273211e+11   \n",
       "9                              0.0     320716.0  1.421858e+10   \n",
       "10                            21.0    4586897.0  2.258192e+11   \n",
       "11                           417.0   59539717.0  2.072823e+12   \n",
       "12                            11.0  127629000.0  6.203213e+12   \n",
       "13                             3.0     530946.0  5.667796e+10   \n",
       "14                             7.0    4408100.0  1.761929e+11   \n",
       "15                             2.0    5018573.0  5.097049e+11   \n",
       "16                            35.0   38063164.0  5.003443e+11   \n",
       "17                            44.0   10514844.0  2.163682e+11   \n",
       "18                            90.0   46773055.0  1.335946e+12   \n",
       "19                            37.0    9519374.0  5.438806e+11   \n",
       "20                            57.0    7996861.0  6.650541e+11   \n",
       "21                          9146.0  313998379.0  1.615526e+13   \n",
       "\n",
       "    Guns/100 inhabitants  Number of mass shootings  \n",
       "0                   15.0                         4  \n",
       "1                   30.4                         1  \n",
       "2                   30.8                         4  \n",
       "3                   12.0                         0  \n",
       "4                   45.3                         2  \n",
       "5                   31.2                         6  \n",
       "6                   30.3                         7  \n",
       "7                   22.5                         0  \n",
       "8                    5.5                         0  \n",
       "9                   30.3                         0  \n",
       "10                   8.6                         0  \n",
       "11                  11.9                         0  \n",
       "12                   0.6                         0  \n",
       "13                  15.3                         0  \n",
       "14                  22.6                         3  \n",
       "15                  31.3                         1  \n",
       "16                   1.3                         0  \n",
       "17                   8.5                         1  \n",
       "18                  10.4                         1  \n",
       "19                  31.6                         2  \n",
       "20                  45.7                         2  \n",
       "21                  88.8                        78  "
      ]
     },
     "execution_count": 13,
     "metadata": {},
     "output_type": "execute_result"
    }
   ],
   "source": [
    "dfjoin = df2.merge(dfg, right_on = \"Country\", left_on = \"Country Name\")\n",
    "del dfjoin['Country']\n",
    "dfjoin"
   ]
  },
  {
   "cell_type": "markdown",
   "metadata": {
    "collapsed": true
   },
   "source": [
    "## Exploration\n",
    "plot mass shooting vs gdp in absolute numbers, and per person. Show the errorbars (y errors)\n",
    "\n",
    "Use Poisson statistics for the errorbars on the number of mass shootings (optional: include errors on the population, also as Poisson statistics)\n",
    "\n",
    "Are there any points that look like they may be outilers?\n"
   ]
  },
  {
   "cell_type": "code",
   "execution_count": 14,
   "metadata": {
    "collapsed": false
   },
   "outputs": [
    {
     "data": {
      "image/png": "[encoded data removed]",
      "text/plain": [
       "<matplotlib.figure.Figure at 0x7fce01083350>"
      ]
     },
     "metadata": {},
     "output_type": "display_data"
    },
    {
     "name": "stdout",
     "output_type": "stream",
     "text": [
      "Number of mass shooting vs GDP, errors represent Poisson statistics.\n",
      "The datapoint to the top right of the plot is the USA, which has noth the highest GDP and the highest number of mass shootings\n"
     ]
    }
   ],
   "source": [
    "fig = pl.figure(figsize=(10,5)) \n",
    "ax = fig.add_subplot(121)\n",
    "#first plot mass shooting vs GDP (absolute numbers)\n",
    "scatter = ax.scatter(dfjoin.gdp / 1e9, dfjoin['Number of mass shootings'])\n",
    "ax.errorbar(dfjoin.gdp / 1e9, dfjoin['Number of mass shootings'], \n",
    "            yerr = np.sqrt(dfjoin['Number of mass shootings'] * 1.0), fmt = '.')\n",
    "ax.set_xlabel(\"GDP (in billions)\")\n",
    "ax.set_ylabel(\"Number of mass shooting\")\n",
    "ax.set_ylim()\n",
    "#pl.show()\n",
    "\n",
    "# plot mass shooting per person\n",
    "\n",
    "ax1 = fig.add_subplot(122)\n",
    "dfjoin['gdppp'] = dfjoin['gdp']/dfjoin['pop'] * 1e9\n",
    "dfjoin['shootingpp'] = dfjoin['Number of mass shootings']/dfjoin['pop'] * 1e6\n",
    "scatter1 = ax1.scatter(dfjoin['gdppp'], dfjoin['shootingpp'])\n",
    "ax1.errorbar(dfjoin['gdppp'], dfjoin['shootingpp'], \n",
    "            yerr = np.sqrt((dfjoin['Number of mass shootings'])/dfjoin['pop'] *1e6), fmt = '.')\n",
    "ax1.set_xlabel(\"GDP per capita\")\n",
    "ax1.set_ylabel(\"Number of mass shooting per person\")\n",
    "ax1.set_ylim()\n",
    "#pl.show()\n",
    "pl.tight_layout()\n",
    "pl.show()\n",
    "print (\"Number of mass shooting vs GDP, \" + \n",
    "       \"errors represent Poisson statistics.\\n\" + \n",
    "       \"The datapoint to the top right of the plot is the USA, \" + \n",
    "       \"which has noth the highest GDP and the highest number of mass shootings\")"
   ]
  },
  {
   "cell_type": "markdown",
   "metadata": {},
   "source": [
    "## Plot the average number of civilian fire arms per person\n",
    "first without errors, then with errors. are there points that look like outliers?"
   ]
  },
  {
   "cell_type": "code",
   "execution_count": 15,
   "metadata": {
    "collapsed": false
   },
   "outputs": [
    {
     "data": {
      "text/plain": [
       "<matplotlib.text.Text at 0x7fcdfed81b10>"
      ]
     },
     "execution_count": 15,
     "metadata": {},
     "output_type": "execute_result"
    },
    {
     "data": {
      "text/plain": [
       "<matplotlib.figure.Figure at 0x7fce01077190>"
      ]
     },
     "metadata": {},
     "output_type": "display_data"
    },
    {
     "data": {
      "image/png": "[encoded data removed]",
      "text/plain": [
       "<matplotlib.figure.Figure at 0x7fce01077150>"
      ]
     },
     "metadata": {},
     "output_type": "display_data"
    }
   ],
   "source": [
    "fig = pl.figure(figsize=(15,4))\n",
    "fig, ax = plt.subplots()\n",
    "#plotting average number of civilian fire arms per person without errors\n",
    "dfjoin['armspp'] = dfjoin['Average total all civilian firearms']/dfjoin['pop'] *1e9\n",
    "ax.hist(dfjoin['armspp'] * 1000)\n",
    "ax.set_xlabel('Number of civilian firearms per person')\n",
    "ax.set_ylabel(\"Number of countries\")"
   ]
  },
  {
   "cell_type": "code",
   "execution_count": 16,
   "metadata": {
    "collapsed": false
   },
   "outputs": [
    {
     "data": {
      "text/plain": [
       "<matplotlib.figure.Figure at 0x7fce0105bf10>"
      ]
     },
     "metadata": {},
     "output_type": "display_data"
    },
    {
     "data": {
      "image/png": "[encoded data removed]",
      "text/plain": [
       "<matplotlib.figure.Figure at 0x7fce0105bc10>"
      ]
     },
     "metadata": {},
     "output_type": "display_data"
    }
   ],
   "source": [
    "fig = pl.figure(figsize=(15,4))\n",
    "fig, ax2 = plt.subplots()\n",
    "#plotting average number of civilian fire arms per person with errors\n",
    "ax2.hist(dfjoin['armspp'])\n",
    "\n",
    "y,binEdges = np.histogram(dfjoin['armspp'],bins=10)\n",
    "bincenters = 0.5 * (binEdges[1:] + binEdges[:-1])\n",
    "ax2.errorbar(bincenters, y, yerr=np.sqrt(y), fmt='.')\n",
    "\n",
    "ax2.set_xlabel(\"Number of civilian firearms per person\")\n",
    "ax2.set_ylabel(\"Number of countries\")\n",
    "\n",
    "pl.show()"
   ]
  },
  {
   "cell_type": "markdown",
   "metadata": {},
   "source": [
    "## Plot the average number of homicide by fire arms per person\n",
    "\n",
    "first as a histogram, then against the country GDP, with statistical errors. are there points that look like outliers?"
   ]
  },
  {
   "cell_type": "code",
   "execution_count": 17,
   "metadata": {
    "collapsed": false
   },
   "outputs": [
    {
     "data": {
      "text/plain": [
       "<matplotlib.figure.Figure at 0x7fcdfef00fd0>"
      ]
     },
     "metadata": {},
     "output_type": "display_data"
    },
    {
     "data": {
      "image/png": "[encoded data removed]",
      "text/plain": [
       "<matplotlib.figure.Figure at 0x7fcdfef00c10>"
      ]
     },
     "metadata": {},
     "output_type": "display_data"
    }
   ],
   "source": [
    "#plotting histogram\n",
    "fig = pl.figure(figsize=(15,4))\n",
    "fig, ax = plt.subplots()\n",
    "\n",
    "ax.hist(dfjoin['Number of homicides by firearm'] / dfjoin['pop'] * 1000)\n",
    "ax.set_xlabel('homicides by firearm per 1000 people')\n",
    "ax.set_ylabel('number of countries')\n",
    "pl.show()"
   ]
  },
  {
   "cell_type": "code",
   "execution_count": 18,
   "metadata": {
    "collapsed": false
   },
   "outputs": [
    {
     "data": {
      "image/png": "[encoded data removed]",
      "text/plain": [
       "<matplotlib.figure.Figure at 0x7fcdfeb34110>"
      ]
     },
     "metadata": {},
     "output_type": "display_data"
    }
   ],
   "source": [
    "fig3 = pl.figure(figsize=(10,5)) \n",
    "ax3 = fig3.add_subplot(121)\n",
    "#plotting against country GDP with statistical errors\n",
    "dfjoin['homicidepp'] = dfjoin['Number of homicides by firearm'] / dfjoin['pop'] * 1000\n",
    "dfjoin['gdppp'] = dfjoin['gdp']/dfjoin['pop'] * 1e9\n",
    "\n",
    "scatter3 = ax3.scatter(dfjoin['gdppp'], dfjoin['homicidepp'])\n",
    "ax3.errorbar(dfjoin['gdppp'], dfjoin['homicidepp'], \n",
    "            yerr = np.sqrt((dfjoin['Number of homicides by firearm'])/dfjoin['pop'] *1000), fmt = '.')\n",
    "ax3.set_xlabel(\"GDP per capita\")\n",
    "ax3.set_ylabel(\"Number of homicides by firearm per 1000 person\")\n",
    "ax3.set_ylim()\n",
    "#pl.show()\n",
    "pl.tight_layout()\n",
    "pl.show()"
   ]
  },
  {
   "cell_type": "markdown",
   "metadata": {},
   "source": [
    "## Plot the number of homicides by fire arm against the number of civilian firearms\n",
    "plot the US in a different color, with and without errorbars"
   ]
  },
  {
   "cell_type": "code",
   "execution_count": 19,
   "metadata": {
    "collapsed": false
   },
   "outputs": [
    {
     "data": {
      "image/png": "[encoded data removed]",
      "text/plain": [
       "<matplotlib.figure.Figure at 0x7fcdfea71a10>"
      ]
     },
     "metadata": {},
     "output_type": "display_data"
    }
   ],
   "source": [
    "fig4 = pl.figure(figsize=(15,5)) \n",
    "ax4 = fig4.add_subplot(121)\n",
    "#first plot numer of homicides by fire arm against number of civilian firearms without errorbars\n",
    "dfjoin['homiarms'] = dfjoin['Number of homicides by firearm'] / dfjoin['Average total all civilian firearms'] * 1000\n",
    "scatter = ax4.scatter(dfjoin['Average total all civilian firearms'], dfjoin['Number of homicides by firearm'])\n",
    "usa = ax4.plot(dfjoin['Average total all civilian firearms'][21], dfjoin['Number of homicides by firearm'][21], 'yo')\n",
    "ax4.set_xlabel(\"Average total all civilian firearms\")\n",
    "ax4.set_ylabel(\"Number of homicides by firearm\")\n",
    "ax4.set_ylim()\n",
    "ax4.legend()\n",
    "#pl.show()\n",
    "\n",
    "ax5 = fig4.add_subplot(122)\n",
    "#plot number of homicides by firearm against the number of civilian firearms with errorbars\n",
    "scatter = ax5.scatter(dfjoin['Average total all civilian firearms'], dfjoin['Number of homicides by firearm'])\n",
    "usa = ax5.plot(dfjoin['Average total all civilian firearms'][21], dfjoin['Number of homicides by firearm'][21], 'yo')\n",
    "ax5.errorbar(dfjoin['Average total all civilian firearms'], dfjoin['Number of homicides by firearm'], \n",
    "            yerr = np.sqrt(dfjoin['Number of homicides by firearm']), fmt = 'c.')\n",
    "ax5.set_xlabel(\"Average total all civilian firearms\")\n",
    "ax5.set_ylabel(\"Number of homicides by firearm\")\n",
    "ax5.set_ylim()\n",
    "ax5.legend()\n",
    "#pl.show()\n",
    "pl.tight_layout()\n",
    "pl.show()"
   ]
  },
  {
   "cell_type": "markdown",
   "metadata": {},
   "source": [
    "## Plot the number of mass shootings against the number of civilian firearms\n",
    "plot the US in a different color, with and without error bars"
   ]
  },
  {
   "cell_type": "code",
   "execution_count": 20,
   "metadata": {
    "collapsed": false
   },
   "outputs": [
    {
     "data": {
      "image/png": "[encoded data removed]",
      "text/plain": [
       "<matplotlib.figure.Figure at 0x7fcdfe66b150>"
      ]
     },
     "metadata": {},
     "output_type": "display_data"
    }
   ],
   "source": [
    "# plot mass shooting against number of civilian firearms\n",
    "fig5 = pl.figure(figsize=(15,5)) \n",
    "ax6 = fig5.add_subplot(121)\n",
    "#first plot numer of mass shootings against number of civilian firearms without errorbars\n",
    "\n",
    "scatter = ax6.scatter(dfjoin['Average total all civilian firearms'], dfjoin['Number of mass shootings'])\n",
    "usa = ax6.plot(dfjoin['Average total all civilian firearms'][21], dfjoin['Number of mass shootings'][21], 'yo')\n",
    "ax4.set_xlabel(\"Average total all civilian firearms\")\n",
    "ax4.set_ylabel(\"Number of mass shootings\")\n",
    "ax4.set_ylim()\n",
    "\n",
    "ax7 = fig5.add_subplot(122)\n",
    "#plot number of homicides by firearm against the number of civilian firearms with errorbars\n",
    "scatter = ax7.scatter(dfjoin['Average total all civilian firearms'], dfjoin['Number of mass shootings'])\n",
    "usa = ax7.plot(dfjoin['Average total all civilian firearms'][21], dfjoin['Number of mass shootings'][21], 'yo')\n",
    "ax7.errorbar(dfjoin['Average total all civilian firearms'], dfjoin['Number of mass shootings'], \n",
    "            yerr = np.sqrt(dfjoin['Number of mass shootings']), fmt = 'c.')\n",
    "ax7.set_xlabel(\"Average total all civilian firearms\")\n",
    "ax7.set_ylabel(\"Number of mass shootings\")\n",
    "ax7.set_ylim()\n",
    "#pl.show()\n",
    "pl.tight_layout()\n",
    "pl.show()"
   ]
  },
  {
   "cell_type": "markdown",
   "metadata": {},
   "source": [
    "## Modeling\n",
    "### Fit a line to the Number of mass shootings per person as a function of Average total all civilian firearms per person.\n",
    "Before you do it it is a good idea to make sure that both quantities are roughly of the same order of magnitude (unity). (You can simply divide by the order of magnitude of the mean of the sample to obtain this). Use\n",
    "- statsmodels OLS\n",
    "- statsmodels WLS\n",
    "- seaborn\n",
    "- choose one of\n",
    "    -- creating a function that calculates the residuals and minimizing that function\n",
    "    -- analytical solution http://mathworld.wolfram.com/LeastSquaresFitting.html\n",
    "    -- numpy.polyfit() - https://docs.scipy.org/doc/numpy-1.13.0/reference/generated/numpy.polyfit.html\n",
    "\n",
    "\n",
    "WLS: that is the weighted square fit. The statsmodel package WLS function allows you to take the uncertainties of each data point into account when you fit your model. It takes the parameter weights, which is the inverse of your errors: weights = 1.0/df.yerror Notice that a - sqrt(0) = 0 b - 1/0 = infinity c - you cannot have weight that are infinity in your fit. Please come up with a solution and justify it.\n",
    "the latter three you can learn about in this example: https://github.com/fedhere/PUI2017_fb55/blob/master/Lab5_fb55/genderIncomeBias.ipynb Since we did not discuss these, I will add some notes to the repo in the afternoon.\n",
    "Use the seaborn python package built in regression function to plot the regression confidence intervals.\n",
    "import seaborn as sns sns.regplot(x=\"x\", y=\"y\", data=df);"
   ]
  },
  {
   "cell_type": "code",
   "execution_count": 21,
   "metadata": {
    "collapsed": false
   },
   "outputs": [
    {
     "name": "stdout",
     "output_type": "stream",
     "text": [
      "0.121021254397\n",
      "0.228950085729\n"
     ]
    }
   ],
   "source": [
    "dfjoin['shootpp'] = dfjoin['Number of mass shootings']/dfjoin['pop']*1e6\n",
    "dfjoin['armspp'] = dfjoin['Average total all civilian firearms']/dfjoin['pop']\n",
    "print dfjoin['shootpp'].mean()\n",
    "print dfjoin['armspp'].mean()\n",
    "#check that both variables are roughly the same order of magnitude"
   ]
  },
  {
   "cell_type": "markdown",
   "metadata": {},
   "source": [
    "### OLS"
   ]
  },
  {
   "cell_type": "code",
   "execution_count": 22,
   "metadata": {
    "collapsed": false
   },
   "outputs": [
    {
     "data": {
      "text/html": [
       "<table class=\"simpletable\">\n",
       "<caption>OLS Regression Results</caption>\n",
       "<tr>\n",
       "  <th>Dep. Variable:</th>         <td>shootpp</td>     <th>  R-squared:         </th> <td>   0.199</td>\n",
       "</tr>\n",
       "<tr>\n",
       "  <th>Model:</th>                   <td>OLS</td>       <th>  Adj. R-squared:    </th> <td>   0.159</td>\n",
       "</tr>\n",
       "<tr>\n",
       "  <th>Method:</th>             <td>Least Squares</td>  <th>  F-statistic:       </th> <td>   4.971</td>\n",
       "</tr>\n",
       "<tr>\n",
       "  <th>Date:</th>             <td>Mon, 16 Oct 2017</td> <th>  Prob (F-statistic):</th>  <td>0.0374</td> \n",
       "</tr>\n",
       "<tr>\n",
       "  <th>Time:</th>                 <td>17:38:51</td>     <th>  Log-Likelihood:    </th> <td>  11.424</td>\n",
       "</tr>\n",
       "<tr>\n",
       "  <th>No. Observations:</th>      <td>    22</td>      <th>  AIC:               </th> <td>  -18.85</td>\n",
       "</tr>\n",
       "<tr>\n",
       "  <th>Df Residuals:</th>          <td>    20</td>      <th>  BIC:               </th> <td>  -16.67</td>\n",
       "</tr>\n",
       "<tr>\n",
       "  <th>Df Model:</th>              <td>     1</td>      <th>                     </th>     <td> </td>   \n",
       "</tr>\n",
       "<tr>\n",
       "  <th>Covariance Type:</th>      <td>nonrobust</td>    <th>                     </th>     <td> </td>   \n",
       "</tr>\n",
       "</table>\n",
       "<table class=\"simpletable\">\n",
       "<tr>\n",
       "      <td></td>         <th>coef</th>     <th>std err</th>      <th>t</th>      <th>P>|t|</th> <th>[95.0% Conf. Int.]</th> \n",
       "</tr>\n",
       "<tr>\n",
       "  <th>Intercept</th> <td>    0.0315</td> <td>    0.051</td> <td>    0.612</td> <td> 0.548</td> <td>   -0.076     0.139</td>\n",
       "</tr>\n",
       "<tr>\n",
       "  <th>armspp</th>    <td>    0.3911</td> <td>    0.175</td> <td>    2.230</td> <td> 0.037</td> <td>    0.025     0.757</td>\n",
       "</tr>\n",
       "</table>\n",
       "<table class=\"simpletable\">\n",
       "<tr>\n",
       "  <th>Omnibus:</th>       <td>34.840</td> <th>  Durbin-Watson:     </th> <td>   1.955</td>\n",
       "</tr>\n",
       "<tr>\n",
       "  <th>Prob(Omnibus):</th> <td> 0.000</td> <th>  Jarque-Bera (JB):  </th> <td>  88.018</td>\n",
       "</tr>\n",
       "<tr>\n",
       "  <th>Skew:</th>          <td> 2.733</td> <th>  Prob(JB):          </th> <td>7.71e-20</td>\n",
       "</tr>\n",
       "<tr>\n",
       "  <th>Kurtosis:</th>      <td>11.133</td> <th>  Cond. No.          </th> <td>    5.74</td>\n",
       "</tr>\n",
       "</table>"
      ],
      "text/plain": [
       "<class 'statsmodels.iolib.summary.Summary'>\n",
       "\"\"\"\n",
       "                            OLS Regression Results                            \n",
       "==============================================================================\n",
       "Dep. Variable:                shootpp   R-squared:                       0.199\n",
       "Model:                            OLS   Adj. R-squared:                  0.159\n",
       "Method:                 Least Squares   F-statistic:                     4.971\n",
       "Date:                Mon, 16 Oct 2017   Prob (F-statistic):             0.0374\n",
       "Time:                        17:38:51   Log-Likelihood:                 11.424\n",
       "No. Observations:                  22   AIC:                            -18.85\n",
       "Df Residuals:                      20   BIC:                            -16.67\n",
       "Df Model:                           1                                         \n",
       "Covariance Type:            nonrobust                                         \n",
       "==============================================================================\n",
       "                 coef    std err          t      P>|t|      [95.0% Conf. Int.]\n",
       "------------------------------------------------------------------------------\n",
       "Intercept      0.0315      0.051      0.612      0.548        -0.076     0.139\n",
       "armspp         0.3911      0.175      2.230      0.037         0.025     0.757\n",
       "==============================================================================\n",
       "Omnibus:                       34.840   Durbin-Watson:                   1.955\n",
       "Prob(Omnibus):                  0.000   Jarque-Bera (JB):               88.018\n",
       "Skew:                           2.733   Prob(JB):                     7.71e-20\n",
       "Kurtosis:                      11.133   Cond. No.                         5.74\n",
       "==============================================================================\n",
       "\n",
       "Warnings:\n",
       "[1] Standard Errors assume that the covariance matrix of the errors is correctly specified.\n",
       "\"\"\""
      ]
     },
     "execution_count": 22,
     "metadata": {},
     "output_type": "execute_result"
    }
   ],
   "source": [
    "lm = smf.ols(formula='shootpp ~ armspp', data=dfjoin).fit()\n",
    "lm.summary()"
   ]
  },
  {
   "cell_type": "markdown",
   "metadata": {},
   "source": [
    "### WLS\n",
    "\n",
    "Notice that a - sqrt(0) = 0 b - 1/0 = infinity c - you cannot have weight that are infinity in your fit. Please come up with a solution and justify it."
   ]
  },
  {
   "cell_type": "code",
   "execution_count": 23,
   "metadata": {
    "collapsed": false
   },
   "outputs": [
    {
     "data": {
      "text/plain": [
       "[2.3837079309344924,\n",
       " 2.903444678308853,\n",
       " 2.9474796436956101,\n",
       " inf,\n",
       " 1.645291919386952,\n",
       " 3.3080656482804769,\n",
       " 3.3896022311938436,\n",
       " inf,\n",
       " inf,\n",
       " inf,\n",
       " inf,\n",
       " inf,\n",
       " inf,\n",
       " inf,\n",
       " 1.2121743548956425,\n",
       " 2.2402171769719113,\n",
       " inf,\n",
       " 3.2426600191817831,\n",
       " 6.8390829063552081,\n",
       " 2.1816706900905096,\n",
       " 1.9996075865029117,\n",
       " 2.0063948374110572]"
      ]
     },
     "execution_count": 23,
     "metadata": {},
     "output_type": "execute_result"
    }
   ],
   "source": [
    "yerror = np.sqrt(dfjoin['shootpp'])\n",
    "#weights = 1.0/df.yerror\n",
    "w = list(1.0/yerror)\n",
    "w"
   ]
  },
  {
   "cell_type": "code",
   "execution_count": 24,
   "metadata": {
    "collapsed": false
   },
   "outputs": [
    {
     "data": {
      "text/html": [
       "<table class=\"simpletable\">\n",
       "<caption>WLS Regression Results</caption>\n",
       "<tr>\n",
       "  <th>Dep. Variable:</th>         <td>shootpp</td>     <th>  R-squared:         </th> <td>   0.228</td>\n",
       "</tr>\n",
       "<tr>\n",
       "  <th>Model:</th>                   <td>WLS</td>       <th>  Adj. R-squared:    </th> <td>   0.190</td>\n",
       "</tr>\n",
       "<tr>\n",
       "  <th>Method:</th>             <td>Least Squares</td>  <th>  F-statistic:       </th> <td>   5.915</td>\n",
       "</tr>\n",
       "<tr>\n",
       "  <th>Date:</th>             <td>Mon, 16 Oct 2017</td> <th>  Prob (F-statistic):</th>  <td>0.0245</td> \n",
       "</tr>\n",
       "<tr>\n",
       "  <th>Time:</th>                 <td>17:38:51</td>     <th>  Log-Likelihood:    </th> <td>  14.272</td>\n",
       "</tr>\n",
       "<tr>\n",
       "  <th>No. Observations:</th>      <td>    22</td>      <th>  AIC:               </th> <td>  -24.54</td>\n",
       "</tr>\n",
       "<tr>\n",
       "  <th>Df Residuals:</th>          <td>    20</td>      <th>  BIC:               </th> <td>  -22.36</td>\n",
       "</tr>\n",
       "<tr>\n",
       "  <th>Df Model:</th>              <td>     1</td>      <th>                     </th>     <td> </td>   \n",
       "</tr>\n",
       "<tr>\n",
       "  <th>Covariance Type:</th>      <td>nonrobust</td>    <th>                     </th>     <td> </td>   \n",
       "</tr>\n",
       "</table>\n",
       "<table class=\"simpletable\">\n",
       "<tr>\n",
       "      <td></td>         <th>coef</th>     <th>std err</th>      <th>t</th>      <th>P>|t|</th> <th>[95.0% Conf. Int.]</th> \n",
       "</tr>\n",
       "<tr>\n",
       "  <th>Intercept</th> <td>    0.0357</td> <td>    0.044</td> <td>    0.816</td> <td> 0.424</td> <td>   -0.056     0.127</td>\n",
       "</tr>\n",
       "<tr>\n",
       "  <th>armspp</th>    <td>    0.3580</td> <td>    0.147</td> <td>    2.432</td> <td> 0.025</td> <td>    0.051     0.665</td>\n",
       "</tr>\n",
       "</table>\n",
       "<table class=\"simpletable\">\n",
       "<tr>\n",
       "  <th>Omnibus:</th>       <td>28.903</td> <th>  Durbin-Watson:     </th> <td>   1.945</td>\n",
       "</tr>\n",
       "<tr>\n",
       "  <th>Prob(Omnibus):</th> <td> 0.000</td> <th>  Jarque-Bera (JB):  </th> <td>  54.630</td>\n",
       "</tr>\n",
       "<tr>\n",
       "  <th>Skew:</th>          <td> 2.372</td> <th>  Prob(JB):          </th> <td>1.37e-12</td>\n",
       "</tr>\n",
       "<tr>\n",
       "  <th>Kurtosis:</th>      <td> 9.090</td> <th>  Cond. No.          </th> <td>    5.99</td>\n",
       "</tr>\n",
       "</table>"
      ],
      "text/plain": [
       "<class 'statsmodels.iolib.summary.Summary'>\n",
       "\"\"\"\n",
       "                            WLS Regression Results                            \n",
       "==============================================================================\n",
       "Dep. Variable:                shootpp   R-squared:                       0.228\n",
       "Model:                            WLS   Adj. R-squared:                  0.190\n",
       "Method:                 Least Squares   F-statistic:                     5.915\n",
       "Date:                Mon, 16 Oct 2017   Prob (F-statistic):             0.0245\n",
       "Time:                        17:38:51   Log-Likelihood:                 14.272\n",
       "No. Observations:                  22   AIC:                            -24.54\n",
       "Df Residuals:                      20   BIC:                            -22.36\n",
       "Df Model:                           1                                         \n",
       "Covariance Type:            nonrobust                                         \n",
       "==============================================================================\n",
       "                 coef    std err          t      P>|t|      [95.0% Conf. Int.]\n",
       "------------------------------------------------------------------------------\n",
       "Intercept      0.0357      0.044      0.816      0.424        -0.056     0.127\n",
       "armspp         0.3580      0.147      2.432      0.025         0.051     0.665\n",
       "==============================================================================\n",
       "Omnibus:                       28.903   Durbin-Watson:                   1.945\n",
       "Prob(Omnibus):                  0.000   Jarque-Bera (JB):               54.630\n",
       "Skew:                           2.372   Prob(JB):                     1.37e-12\n",
       "Kurtosis:                       9.090   Cond. No.                         5.99\n",
       "==============================================================================\n",
       "\n",
       "Warnings:\n",
       "[1] Standard Errors assume that the covariance matrix of the errors is correctly specified.\n",
       "\"\"\""
      ]
     },
     "execution_count": 24,
     "metadata": {},
     "output_type": "execute_result"
    }
   ],
   "source": [
    "#there are infinity values in weights, assign inf as 1 \n",
    "from numpy import inf\n",
    "w = np.array(w)\n",
    "w[w == inf] = 1\n",
    "w.tolist()\n",
    "lm2 = smf.wls(formula='shootpp ~ armspp', data=dfjoin, weights=w).fit()\n",
    "lm2.summary()\n"
   ]
  },
  {
   "cell_type": "markdown",
   "metadata": {},
   "source": [
    "### Seaborn"
   ]
  },
  {
   "cell_type": "code",
   "execution_count": 25,
   "metadata": {
    "collapsed": false
   },
   "outputs": [
    {
     "data": {
      "image/png": "[encoded data removed]",
      "text/plain": [
       "<matplotlib.figure.Figure at 0x7fcdfe46b4d0>"
      ]
     },
     "metadata": {},
     "output_type": "display_data"
    }
   ],
   "source": [
    "#import seaborn as sns sns.regplot(x=\"x\", y=\"y\", data=df);\n",
    "fig = pl.figure(figsize=(15, 15))\n",
    "\n",
    "y_fit = lm.fittedvalues\n",
    "y_fit2 = lm2.fittedvalues\n",
    "y = dfjoin['shootpp']\n",
    "\n",
    "ax = fig.add_subplot(221)\n",
    "ax.scatter(dfjoin['armspp'],dfjoin['shootpp'])\n",
    "ax.set_xlabel('Firearms')\n",
    "ax.set_ylabel('Mass shootings per million people')\n",
    "\n",
    "\n",
    "ax2 = fig.add_subplot(222)\n",
    "ax2.scatter(dfjoin['armspp'], dfjoin['shootpp'])\n",
    "ax2.plot(dfjoin['armspp'], y_fit, label = 'OLS')\n",
    "ax2.scatter(dfjoin['armspp'],y_fit)\n",
    "ax2.set_xlabel('Firearms')\n",
    "ax2.set_ylabel('Mass shootings per million people')\n",
    "ax2.legend()\n",
    "\n",
    "ax3 = fig.add_subplot(223)\n",
    "ax3.scatter(dfjoin['armspp'], dfjoin['shootpp'])\n",
    "ax3.plot(dfjoin['armspp'], y_fit, label = 'OLS', color='red')\n",
    "ax3.plot(dfjoin['armspp'],y_fit2, label = 'WLS', color='black')\n",
    "ax3.errorbar(dfjoin['armspp'], dfjoin['shootpp'], \n",
    "            yerr = np.sqrt(dfjoin['shootpp']), fmt = 'b.')\n",
    "ax3.set_xlabel('Firearms')\n",
    "ax3.set_ylabel('Mass shootings per million people')\n",
    "ax3.legend()\n",
    "plt.show()\n",
    "#sns.regplot(x = 'armspp',y = 'shootpp', data = dfjoin)"
   ]
  },
  {
   "cell_type": "markdown",
   "metadata": {},
   "source": [
    "## Extra credit: calculate the confidence interval by hand and also plot them\n",
    "you can use pylab.fill_between(x, yfit - ci, yfit + ci, alpha=0.5)\n",
    "\n",
    "Confidence intervals: there are three type of intervals in a linear regression, plot any one of them all three if you want - how do they compare to the seaborn plot?:\n",
    "\n",
    "1) Confidence intervals for the parameters slope and intercept\n",
    "2) Confidence interval for the average y value\n",
    "3) Prediction interval for a single y value\n",
    "\n",
    "1) confidence interval of the model parameters slope and intercept: define sigma as the sum of the residuals over the square root of number n of observations.\n",
    "\n",
    "sigma: σ̂ =sqrt(Sum((Yoberved_i−Ypredicted_i)^2)/n)\n",
    "\n",
    "where the sum is over all observations\n",
    "\n",
    "Define t_alpha/2,n-2 the t statistics at (1-alpha/2) for a t distribution with n-2 degrees of freedom (you can calculate it with scipy tp = sp.stats.t.ppf(0.975, n-2)"
   ]
  },
  {
   "cell_type": "code",
   "execution_count": null,
   "metadata": {
    "collapsed": true
   },
   "outputs": [],
   "source": []
  }
 ],
 "metadata": {
  "kernelspec": {
   "display_name": "PUI2016_Python2",
   "language": "python",
   "name": "pui2016_python2"
  },
  "language_info": {
   "codemirror_mode": {
    "name": "ipython",
    "version": 2
   },
   "file_extension": ".py",
   "mimetype": "text/x-python",
   "name": "python",
   "nbconvert_exporter": "python",
   "pygments_lexer": "ipython2",
   "version": "2.7.12"
  }
 },
 "nbformat": 4,
 "nbformat_minor": 0
}
