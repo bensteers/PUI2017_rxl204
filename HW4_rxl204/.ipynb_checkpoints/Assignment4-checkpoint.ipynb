{
 "cells": [
  {
   "cell_type": "markdown",
   "metadata": {},
   "source": [
    "test if the distribution of \n",
    "\n",
    "1) trip duration of bikers that ride during the day vs night\n",
    "\n",
    "2) age of bikers for trips originating in Manhattan and in Brooklyn\n",
    "\n",
    "are different. Use 3 tests: KS, Pearson's, Spearman's. \n",
    "\n",
    "Use the scipy.stats functions scipy.stats.ks_2samp, scipy.stats.pearsonr, scipy.stats.spearmanr. \n",
    "\n",
    "For the KS do the test with the entire dataset and with a subset 200 times smaller\n",
    "\n",
    "Choose a single significant threshold for the whole exercise. \n",
    "\n",
    "For each test phrase the Null Hypothesis in words.\n",
    "\n",
    "Describe the return of the scipy function you use in each case.\n",
    "\n",
    "State the result in terms of rejection of the Null."
   ]
  },
  {
   "cell_type": "code",
   "execution_count": 1,
   "metadata": {
    "collapsed": false
   },
   "outputs": [
    {
     "name": "stdout",
     "output_type": "stream",
     "text": [
      "Populating the interactive namespace from numpy and matplotlib\n",
      "Must set env variable PUI2017\n"
     ]
    }
   ],
   "source": [
    "from __future__  import print_function, division\n",
    "import pylab as pl\n",
    "import pandas as pd\n",
    "import numpy as np\n",
    "import os\n",
    "\n",
    "%pylab inline\n",
    "\n",
    "if os.getenv ('PUI2017') is None:\n",
    "    print (\"Must set env variable PUI2017\")\n",
    "if os.getenv ('PUIDATA') is None:\n",
    "    print (\"Must set env variable PUI2017\")\n",
    "\n",
    "import os\n",
    "import json"
   ]
  },
  {
   "cell_type": "code",
   "execution_count": 2,
   "metadata": {
    "collapsed": false
   },
   "outputs": [
    {
     "data": {
      "text/plain": [
       "'/home/cusp/rxl204/PUIdata'"
      ]
     },
     "execution_count": 2,
     "metadata": {},
     "output_type": "execute_result"
    }
   ],
   "source": [
    "os.getenv('PUIDATA')"
   ]
  },
  {
   "cell_type": "code",
   "execution_count": 3,
   "metadata": {
    "collapsed": true
   },
   "outputs": [],
   "source": [
    "def getCitiBikeCSV(datestring):\n",
    "    print (\"Downloading\", datestring)\n",
    "    ### First I will check that it is not already there\n",
    "    if not os.path.isfile(os.getenv(\"PUIDATA\") + \"/\" + datestring + \"-citibike-tripdata.csv\"):\n",
    "        if os.path.isfile(datestring + \"-citibike-tripdata.csv\"):\n",
    "            # if in the current dir just move it\n",
    "            if os.system(\"mv \" + datestring + \"-citibike-tripdata.csv \" + os.getenv(\"PUIDATA\")):\n",
    "                print (\"Error moving file!, Please check!\")\n",
    "        #otherwise start looking for the zip file\n",
    "        else:\n",
    "            if not os.path.isfile(os.getenv(\"PUIDATA\") + \"/\" + datestring + \"-citibike-tripdata.zip\"):\n",
    "                if not os.path.isfile(datestring + \"-citibike-tripdata.zip\"):\n",
    "                    os.system(\"curl -O https://s3.amazonaws.com/tripdata/\" + datestring + \"-citibike-tripdata.zip\")\n",
    "                ###  To move it I use the os.system() functions to run bash commands with arguments\n",
    "                os.system(\"mv \" + datestring + \"-citibike-tripdata.zip \" + os.getenv(\"PUIDATA\"))\n",
    "            ### unzip the csv \n",
    "            os.system(\"unzip \" + os.getenv(\"PUIDATA\") + \"/\" + datestring + \"-citibike-tripdata.zip\")\n",
    "            ## NOTE: old csv citibike data had a different name structure. \n",
    "            if '2014' in datestring:\n",
    "                os.system(\"mv \" + datestring[:4] + '-' +  datestring[4:] + \n",
    "                          \"\\ -\\ Citi\\ Bike\\ trip\\ data.csv \" + datestring + \"-citibike-tripdata.csv\")\n",
    "            os.system(\"mv \" + datestring + \"-citibike-tripdata.csv \" + os.getenv(\"PUIDATA\"))\n",
    "    ### One final check:\n",
    "    if not os.path.isfile(os.getenv(\"PUIDATA\") + \"/\" + datestring + \"-citibike-tripdata.csv\"):\n",
    "        print (\"WARNING!!! something is wrong: the file is not there!\")\n",
    "\n",
    "    else:\n",
    "        print (\"file in place, you can continue\")"
   ]
  },
  {
   "cell_type": "code",
   "execution_count": 4,
   "metadata": {
    "collapsed": false
   },
   "outputs": [
    {
     "name": "stdout",
     "output_type": "stream",
     "text": [
      "Downloading 201603\n",
      "file in place, you can continue\n"
     ]
    }
   ],
   "source": [
    "datestring = '201603'\n",
    "getCitiBikeCSV(datestring)"
   ]
  },
  {
   "cell_type": "code",
   "execution_count": 5,
   "metadata": {
    "collapsed": false
   },
   "outputs": [],
   "source": [
    "df = pd.read_csv(os.getenv(\"PUIDATA\") + \"/\" + datestring + '-citibike-tripdata.csv')\n",
    "# df is the dataframe where the content of the csv file is stored\n",
    "df['date'] = pd.to_datetime(df['starttime'])\n",
    "# note that with dataframes I can refer to variables as dictionary keys, \n",
    "# i.e. df['starttime'] or as attributes: df.starttime. \n",
    "#df.head()"
   ]
  },
  {
   "cell_type": "markdown",
   "metadata": {},
   "source": [
    "# Part 1: Trip duration of bikers that rider during the day vs night"
   ]
  },
  {
   "cell_type": "markdown",
   "metadata": {},
   "source": [
    "SPLIT BY DAY AND NIGHT RIDERS-looking at trip duration \n",
    "\n",
    "H0: there is no statistical difference in the time duration of day and night riders $$ \\alpha = 0.05 $$\n"
   ]
  },
  {
   "cell_type": "code",
   "execution_count": 6,
   "metadata": {
    "collapsed": false
   },
   "outputs": [
    {
     "data": {
      "text/plain": [
       "919916    17\n",
       "919917    17\n",
       "919918    19\n",
       "919919    20\n",
       "919920    20\n",
       "Name: daynight, dtype: int64"
      ]
     },
     "execution_count": 6,
     "metadata": {},
     "output_type": "execute_result"
    }
   ],
   "source": [
    "# separate the string part that indicate hours\n",
    "time = lambda s:int(s[-5:-3])\n",
    "daynight = lambda s:int(s[-9:-6])\n",
    "\n",
    "# create two columns to make categories\n",
    "df['time'] = df.starttime.apply(time)\n",
    "df['daynight'] = df.starttime.apply(daynight)\n",
    "df['daynight'].tail()"
   ]
  },
  {
   "cell_type": "code",
   "execution_count": 7,
   "metadata": {
    "collapsed": false
   },
   "outputs": [
    {
     "data": {
      "text/html": [
       "<div>\n",
       "<table border=\"1\" class=\"dataframe\">\n",
       "  <thead>\n",
       "    <tr style=\"text-align: right;\">\n",
       "      <th></th>\n",
       "      <th>tripduration</th>\n",
       "      <th>starttime</th>\n",
       "      <th>stoptime</th>\n",
       "      <th>start station id</th>\n",
       "      <th>start station name</th>\n",
       "      <th>start station latitude</th>\n",
       "      <th>start station longitude</th>\n",
       "      <th>end station id</th>\n",
       "      <th>end station name</th>\n",
       "      <th>end station latitude</th>\n",
       "      <th>end station longitude</th>\n",
       "      <th>bikeid</th>\n",
       "      <th>usertype</th>\n",
       "      <th>birth year</th>\n",
       "      <th>gender</th>\n",
       "      <th>date</th>\n",
       "      <th>time</th>\n",
       "      <th>daynight</th>\n",
       "    </tr>\n",
       "  </thead>\n",
       "  <tbody>\n",
       "    <tr>\n",
       "      <th>919916</th>\n",
       "      <td>281</td>\n",
       "      <td>3/31/2016 17:23:09</td>\n",
       "      <td>3/31/2016 17:27:50</td>\n",
       "      <td>3246</td>\n",
       "      <td>Montague St &amp; Clinton St</td>\n",
       "      <td>40.694281</td>\n",
       "      <td>-73.9923</td>\n",
       "      <td>2000</td>\n",
       "      <td>Front St &amp; Washington St</td>\n",
       "      <td>40.702551</td>\n",
       "      <td>-73.989402</td>\n",
       "      <td>15275</td>\n",
       "      <td>Subscriber</td>\n",
       "      <td>1982.0</td>\n",
       "      <td>1</td>\n",
       "      <td>2016-03-31 17:23:09</td>\n",
       "      <td>23</td>\n",
       "      <td>1</td>\n",
       "    </tr>\n",
       "    <tr>\n",
       "      <th>919917</th>\n",
       "      <td>248</td>\n",
       "      <td>3/31/2016 17:39:52</td>\n",
       "      <td>3/31/2016 17:44:00</td>\n",
       "      <td>3246</td>\n",
       "      <td>Montague St &amp; Clinton St</td>\n",
       "      <td>40.694281</td>\n",
       "      <td>-73.9923</td>\n",
       "      <td>157</td>\n",
       "      <td>Henry St &amp; Atlantic Ave</td>\n",
       "      <td>40.690893</td>\n",
       "      <td>-73.996123</td>\n",
       "      <td>19665</td>\n",
       "      <td>Subscriber</td>\n",
       "      <td>1973.0</td>\n",
       "      <td>1</td>\n",
       "      <td>2016-03-31 17:39:52</td>\n",
       "      <td>39</td>\n",
       "      <td>1</td>\n",
       "    </tr>\n",
       "    <tr>\n",
       "      <th>919918</th>\n",
       "      <td>652</td>\n",
       "      <td>3/31/2016 19:52:14</td>\n",
       "      <td>3/31/2016 20:03:07</td>\n",
       "      <td>3246</td>\n",
       "      <td>Montague St &amp; Clinton St</td>\n",
       "      <td>40.694281</td>\n",
       "      <td>-73.9923</td>\n",
       "      <td>467</td>\n",
       "      <td>Dean St &amp; 4 Ave</td>\n",
       "      <td>40.683125</td>\n",
       "      <td>-73.978951</td>\n",
       "      <td>15230</td>\n",
       "      <td>Subscriber</td>\n",
       "      <td>1989.0</td>\n",
       "      <td>1</td>\n",
       "      <td>2016-03-31 19:52:14</td>\n",
       "      <td>52</td>\n",
       "      <td>0</td>\n",
       "    </tr>\n",
       "    <tr>\n",
       "      <th>919919</th>\n",
       "      <td>1794</td>\n",
       "      <td>3/31/2016 20:40:46</td>\n",
       "      <td>3/31/2016 21:10:40</td>\n",
       "      <td>3246</td>\n",
       "      <td>Montague St &amp; Clinton St</td>\n",
       "      <td>40.694281</td>\n",
       "      <td>-73.9923</td>\n",
       "      <td>3118</td>\n",
       "      <td>McGuinness Blvd &amp; Eagle St</td>\n",
       "      <td>40.735550</td>\n",
       "      <td>-73.952840</td>\n",
       "      <td>19752</td>\n",
       "      <td>Subscriber</td>\n",
       "      <td>1975.0</td>\n",
       "      <td>1</td>\n",
       "      <td>2016-03-31 20:40:46</td>\n",
       "      <td>40</td>\n",
       "      <td>0</td>\n",
       "    </tr>\n",
       "    <tr>\n",
       "      <th>919920</th>\n",
       "      <td>1188</td>\n",
       "      <td>3/31/2016 20:59:23</td>\n",
       "      <td>3/31/2016 21:19:11</td>\n",
       "      <td>3246</td>\n",
       "      <td>Montague St &amp; Clinton St</td>\n",
       "      <td>40.694281</td>\n",
       "      <td>-73.9923</td>\n",
       "      <td>347</td>\n",
       "      <td>Greenwich St &amp; W Houston St</td>\n",
       "      <td>40.728846</td>\n",
       "      <td>-74.008591</td>\n",
       "      <td>17288</td>\n",
       "      <td>Subscriber</td>\n",
       "      <td>1983.0</td>\n",
       "      <td>1</td>\n",
       "      <td>2016-03-31 20:59:23</td>\n",
       "      <td>59</td>\n",
       "      <td>0</td>\n",
       "    </tr>\n",
       "  </tbody>\n",
       "</table>\n",
       "</div>"
      ],
      "text/plain": [
       "        tripduration           starttime            stoptime  \\\n",
       "919916           281  3/31/2016 17:23:09  3/31/2016 17:27:50   \n",
       "919917           248  3/31/2016 17:39:52  3/31/2016 17:44:00   \n",
       "919918           652  3/31/2016 19:52:14  3/31/2016 20:03:07   \n",
       "919919          1794  3/31/2016 20:40:46  3/31/2016 21:10:40   \n",
       "919920          1188  3/31/2016 20:59:23  3/31/2016 21:19:11   \n",
       "\n",
       "        start station id        start station name  start station latitude  \\\n",
       "919916              3246  Montague St & Clinton St               40.694281   \n",
       "919917              3246  Montague St & Clinton St               40.694281   \n",
       "919918              3246  Montague St & Clinton St               40.694281   \n",
       "919919              3246  Montague St & Clinton St               40.694281   \n",
       "919920              3246  Montague St & Clinton St               40.694281   \n",
       "\n",
       "        start station longitude  end station id             end station name  \\\n",
       "919916                 -73.9923            2000     Front St & Washington St   \n",
       "919917                 -73.9923             157      Henry St & Atlantic Ave   \n",
       "919918                 -73.9923             467              Dean St & 4 Ave   \n",
       "919919                 -73.9923            3118   McGuinness Blvd & Eagle St   \n",
       "919920                 -73.9923             347  Greenwich St & W Houston St   \n",
       "\n",
       "        end station latitude  end station longitude  bikeid    usertype  \\\n",
       "919916             40.702551             -73.989402   15275  Subscriber   \n",
       "919917             40.690893             -73.996123   19665  Subscriber   \n",
       "919918             40.683125             -73.978951   15230  Subscriber   \n",
       "919919             40.735550             -73.952840   19752  Subscriber   \n",
       "919920             40.728846             -74.008591   17288  Subscriber   \n",
       "\n",
       "        birth year  gender                date  time daynight  \n",
       "919916      1982.0       1 2016-03-31 17:23:09    23        1  \n",
       "919917      1973.0       1 2016-03-31 17:39:52    39        1  \n",
       "919918      1989.0       1 2016-03-31 19:52:14    52        0  \n",
       "919919      1975.0       1 2016-03-31 20:40:46    40        0  \n",
       "919920      1983.0       1 2016-03-31 20:59:23    59        0  "
      ]
     },
     "execution_count": 7,
     "metadata": {},
     "output_type": "execute_result"
    }
   ],
   "source": [
    "#reassign day as 1 and night as 0 \n",
    "#any time from 6am to 6pm is day, 7pm to 5am is night\n",
    "df.daynight = df.daynight.replace([0, 1, 2, 3, 4, 5, 6, 7, 8, 9,10,11, \n",
    "                           12, 13, 14, 15, 16, 17, 18, 19, 20,21, 22, 23], \n",
    "                         ['0', '0', '0', '0', '0', '0', '1', '1', '1', '1', '1', '1', \n",
    "                           '1', '1', '1', '1', '1', '1', '0', '0', '0', '0', '0', '0'])\n",
    "df.tail()"
   ]
  },
  {
   "cell_type": "code",
   "execution_count": 8,
   "metadata": {
    "collapsed": false
   },
   "outputs": [],
   "source": [
    "df['dayduration'] = df['tripduration'][(df['daynight'] == '1')]\n",
    "df['nightduration'] = df['tripduration'][(df['daynight'] == '0')]"
   ]
  },
  {
   "cell_type": "code",
   "execution_count": 9,
   "metadata": {
    "collapsed": false
   },
   "outputs": [
    {
     "data": {
      "text/html": [
       "<div>\n",
       "<table border=\"1\" class=\"dataframe\">\n",
       "  <thead>\n",
       "    <tr style=\"text-align: right;\">\n",
       "      <th></th>\n",
       "      <th>tripduration</th>\n",
       "      <th>starttime</th>\n",
       "      <th>stoptime</th>\n",
       "      <th>start station id</th>\n",
       "      <th>start station name</th>\n",
       "      <th>start station latitude</th>\n",
       "      <th>start station longitude</th>\n",
       "      <th>end station id</th>\n",
       "      <th>end station name</th>\n",
       "      <th>end station latitude</th>\n",
       "      <th>end station longitude</th>\n",
       "      <th>bikeid</th>\n",
       "      <th>usertype</th>\n",
       "      <th>birth year</th>\n",
       "      <th>gender</th>\n",
       "      <th>date</th>\n",
       "      <th>time</th>\n",
       "      <th>daynight</th>\n",
       "      <th>dayduration</th>\n",
       "      <th>nightduration</th>\n",
       "    </tr>\n",
       "  </thead>\n",
       "  <tbody>\n",
       "    <tr>\n",
       "      <th>0</th>\n",
       "      <td>1491</td>\n",
       "      <td>3/1/2016 06:52:42</td>\n",
       "      <td>3/1/2016 07:17:33</td>\n",
       "      <td>72</td>\n",
       "      <td>W 52 St &amp; 11 Ave</td>\n",
       "      <td>40.767272</td>\n",
       "      <td>-73.993929</td>\n",
       "      <td>427</td>\n",
       "      <td>Bus Slip &amp; State St</td>\n",
       "      <td>40.701907</td>\n",
       "      <td>-74.013942</td>\n",
       "      <td>23914</td>\n",
       "      <td>Subscriber</td>\n",
       "      <td>1982.0</td>\n",
       "      <td>1</td>\n",
       "      <td>2016-03-01 06:52:42</td>\n",
       "      <td>52</td>\n",
       "      <td>1</td>\n",
       "      <td>1491.0</td>\n",
       "      <td>NaN</td>\n",
       "    </tr>\n",
       "    <tr>\n",
       "      <th>1</th>\n",
       "      <td>1044</td>\n",
       "      <td>3/1/2016 07:05:50</td>\n",
       "      <td>3/1/2016 07:23:15</td>\n",
       "      <td>72</td>\n",
       "      <td>W 52 St &amp; 11 Ave</td>\n",
       "      <td>40.767272</td>\n",
       "      <td>-73.993929</td>\n",
       "      <td>254</td>\n",
       "      <td>W 11 St &amp; 6 Ave</td>\n",
       "      <td>40.735324</td>\n",
       "      <td>-73.998004</td>\n",
       "      <td>23697</td>\n",
       "      <td>Subscriber</td>\n",
       "      <td>1978.0</td>\n",
       "      <td>1</td>\n",
       "      <td>2016-03-01 07:05:50</td>\n",
       "      <td>5</td>\n",
       "      <td>1</td>\n",
       "      <td>1044.0</td>\n",
       "      <td>NaN</td>\n",
       "    </tr>\n",
       "    <tr>\n",
       "      <th>2</th>\n",
       "      <td>714</td>\n",
       "      <td>3/1/2016 07:15:05</td>\n",
       "      <td>3/1/2016 07:26:59</td>\n",
       "      <td>72</td>\n",
       "      <td>W 52 St &amp; 11 Ave</td>\n",
       "      <td>40.767272</td>\n",
       "      <td>-73.993929</td>\n",
       "      <td>493</td>\n",
       "      <td>W 45 St &amp; 6 Ave</td>\n",
       "      <td>40.756800</td>\n",
       "      <td>-73.982912</td>\n",
       "      <td>21447</td>\n",
       "      <td>Subscriber</td>\n",
       "      <td>1960.0</td>\n",
       "      <td>2</td>\n",
       "      <td>2016-03-01 07:15:05</td>\n",
       "      <td>15</td>\n",
       "      <td>1</td>\n",
       "      <td>714.0</td>\n",
       "      <td>NaN</td>\n",
       "    </tr>\n",
       "    <tr>\n",
       "      <th>3</th>\n",
       "      <td>329</td>\n",
       "      <td>3/1/2016 07:26:04</td>\n",
       "      <td>3/1/2016 07:31:34</td>\n",
       "      <td>72</td>\n",
       "      <td>W 52 St &amp; 11 Ave</td>\n",
       "      <td>40.767272</td>\n",
       "      <td>-73.993929</td>\n",
       "      <td>478</td>\n",
       "      <td>11 Ave &amp; W 41 St</td>\n",
       "      <td>40.760301</td>\n",
       "      <td>-73.998842</td>\n",
       "      <td>22351</td>\n",
       "      <td>Subscriber</td>\n",
       "      <td>1986.0</td>\n",
       "      <td>1</td>\n",
       "      <td>2016-03-01 07:26:04</td>\n",
       "      <td>26</td>\n",
       "      <td>1</td>\n",
       "      <td>329.0</td>\n",
       "      <td>NaN</td>\n",
       "    </tr>\n",
       "    <tr>\n",
       "      <th>4</th>\n",
       "      <td>1871</td>\n",
       "      <td>3/1/2016 07:31:30</td>\n",
       "      <td>3/1/2016 08:02:41</td>\n",
       "      <td>72</td>\n",
       "      <td>W 52 St &amp; 11 Ave</td>\n",
       "      <td>40.767272</td>\n",
       "      <td>-73.993929</td>\n",
       "      <td>151</td>\n",
       "      <td>Cleveland Pl &amp; Spring St</td>\n",
       "      <td>40.722104</td>\n",
       "      <td>-73.997249</td>\n",
       "      <td>20985</td>\n",
       "      <td>Subscriber</td>\n",
       "      <td>1978.0</td>\n",
       "      <td>1</td>\n",
       "      <td>2016-03-01 07:31:30</td>\n",
       "      <td>31</td>\n",
       "      <td>1</td>\n",
       "      <td>1871.0</td>\n",
       "      <td>NaN</td>\n",
       "    </tr>\n",
       "  </tbody>\n",
       "</table>\n",
       "</div>"
      ],
      "text/plain": [
       "   tripduration          starttime           stoptime  start station id  \\\n",
       "0          1491  3/1/2016 06:52:42  3/1/2016 07:17:33                72   \n",
       "1          1044  3/1/2016 07:05:50  3/1/2016 07:23:15                72   \n",
       "2           714  3/1/2016 07:15:05  3/1/2016 07:26:59                72   \n",
       "3           329  3/1/2016 07:26:04  3/1/2016 07:31:34                72   \n",
       "4          1871  3/1/2016 07:31:30  3/1/2016 08:02:41                72   \n",
       "\n",
       "  start station name  start station latitude  start station longitude  \\\n",
       "0   W 52 St & 11 Ave               40.767272               -73.993929   \n",
       "1   W 52 St & 11 Ave               40.767272               -73.993929   \n",
       "2   W 52 St & 11 Ave               40.767272               -73.993929   \n",
       "3   W 52 St & 11 Ave               40.767272               -73.993929   \n",
       "4   W 52 St & 11 Ave               40.767272               -73.993929   \n",
       "\n",
       "   end station id          end station name  end station latitude  \\\n",
       "0             427       Bus Slip & State St             40.701907   \n",
       "1             254           W 11 St & 6 Ave             40.735324   \n",
       "2             493           W 45 St & 6 Ave             40.756800   \n",
       "3             478          11 Ave & W 41 St             40.760301   \n",
       "4             151  Cleveland Pl & Spring St             40.722104   \n",
       "\n",
       "   end station longitude  bikeid    usertype  birth year  gender  \\\n",
       "0             -74.013942   23914  Subscriber      1982.0       1   \n",
       "1             -73.998004   23697  Subscriber      1978.0       1   \n",
       "2             -73.982912   21447  Subscriber      1960.0       2   \n",
       "3             -73.998842   22351  Subscriber      1986.0       1   \n",
       "4             -73.997249   20985  Subscriber      1978.0       1   \n",
       "\n",
       "                 date  time daynight  dayduration  nightduration  \n",
       "0 2016-03-01 06:52:42    52        1       1491.0            NaN  \n",
       "1 2016-03-01 07:05:50     5        1       1044.0            NaN  \n",
       "2 2016-03-01 07:15:05    15        1        714.0            NaN  \n",
       "3 2016-03-01 07:26:04    26        1        329.0            NaN  \n",
       "4 2016-03-01 07:31:30    31        1       1871.0            NaN  "
      ]
     },
     "execution_count": 9,
     "metadata": {},
     "output_type": "execute_result"
    }
   ],
   "source": [
    "#dropping NaN values\n",
    "df['dayduration'].dropna(inplace= True)\n",
    "df['nightduration'].dropna(inplace= True)\n",
    "df.head()"
   ]
  },
  {
   "cell_type": "code",
   "execution_count": 10,
   "metadata": {
    "collapsed": false
   },
   "outputs": [
    {
     "name": "stderr",
     "output_type": "stream",
     "text": [
      "/opt/rh/anaconda/root/envs/PUI2016_Python2/lib/python2.7/site-packages/numpy/lib/function_base.py:3834: RuntimeWarning: Invalid value encountered in percentile\n",
      "  RuntimeWarning)\n"
     ]
    },
    {
     "data": {
      "text/html": [
       "<div>\n",
       "<table border=\"1\" class=\"dataframe\">\n",
       "  <thead>\n",
       "    <tr style=\"text-align: right;\">\n",
       "      <th></th>\n",
       "      <th>tripduration</th>\n",
       "      <th>start station id</th>\n",
       "      <th>start station latitude</th>\n",
       "      <th>start station longitude</th>\n",
       "      <th>end station id</th>\n",
       "      <th>end station latitude</th>\n",
       "      <th>end station longitude</th>\n",
       "      <th>bikeid</th>\n",
       "      <th>birth year</th>\n",
       "      <th>gender</th>\n",
       "      <th>time</th>\n",
       "      <th>dayduration</th>\n",
       "      <th>nightduration</th>\n",
       "    </tr>\n",
       "  </thead>\n",
       "  <tbody>\n",
       "    <tr>\n",
       "      <th>count</th>\n",
       "      <td>9.199210e+05</td>\n",
       "      <td>919921.000000</td>\n",
       "      <td>919921.000000</td>\n",
       "      <td>919921.000000</td>\n",
       "      <td>919921.000000</td>\n",
       "      <td>919921.000000</td>\n",
       "      <td>919921.000000</td>\n",
       "      <td>919921.000000</td>\n",
       "      <td>826678.000000</td>\n",
       "      <td>919921.000000</td>\n",
       "      <td>919921.000000</td>\n",
       "      <td>6.604480e+05</td>\n",
       "      <td>2.594730e+05</td>\n",
       "    </tr>\n",
       "    <tr>\n",
       "      <th>mean</th>\n",
       "      <td>1.019790e+03</td>\n",
       "      <td>859.263433</td>\n",
       "      <td>40.737532</td>\n",
       "      <td>-73.987185</td>\n",
       "      <td>846.843358</td>\n",
       "      <td>40.736470</td>\n",
       "      <td>-73.985822</td>\n",
       "      <td>19784.809244</td>\n",
       "      <td>1976.775033</td>\n",
       "      <td>1.103705</td>\n",
       "      <td>29.525109</td>\n",
       "      <td>1.033193e+03</td>\n",
       "      <td>9.856741e+02</td>\n",
       "    </tr>\n",
       "    <tr>\n",
       "      <th>std</th>\n",
       "      <td>1.011213e+04</td>\n",
       "      <td>1019.067653</td>\n",
       "      <td>0.021881</td>\n",
       "      <td>0.015512</td>\n",
       "      <td>1008.252325</td>\n",
       "      <td>0.186417</td>\n",
       "      <td>0.336602</td>\n",
       "      <td>2980.643329</td>\n",
       "      <td>11.788491</td>\n",
       "      <td>0.547556</td>\n",
       "      <td>17.280343</td>\n",
       "      <td>9.115423e+03</td>\n",
       "      <td>1.228958e+04</td>\n",
       "    </tr>\n",
       "    <tr>\n",
       "      <th>min</th>\n",
       "      <td>6.100000e+01</td>\n",
       "      <td>72.000000</td>\n",
       "      <td>40.678907</td>\n",
       "      <td>-74.017134</td>\n",
       "      <td>72.000000</td>\n",
       "      <td>0.000000</td>\n",
       "      <td>-74.059503</td>\n",
       "      <td>14529.000000</td>\n",
       "      <td>1885.000000</td>\n",
       "      <td>0.000000</td>\n",
       "      <td>0.000000</td>\n",
       "      <td>6.100000e+01</td>\n",
       "      <td>6.100000e+01</td>\n",
       "    </tr>\n",
       "    <tr>\n",
       "      <th>25%</th>\n",
       "      <td>3.640000e+02</td>\n",
       "      <td>327.000000</td>\n",
       "      <td>40.722104</td>\n",
       "      <td>-73.997901</td>\n",
       "      <td>326.000000</td>\n",
       "      <td>40.722104</td>\n",
       "      <td>-73.998102</td>\n",
       "      <td>17186.000000</td>\n",
       "      <td>NaN</td>\n",
       "      <td>1.000000</td>\n",
       "      <td>15.000000</td>\n",
       "      <td>NaN</td>\n",
       "      <td>NaN</td>\n",
       "    </tr>\n",
       "    <tr>\n",
       "      <th>50%</th>\n",
       "      <td>5.930000e+02</td>\n",
       "      <td>448.000000</td>\n",
       "      <td>40.739017</td>\n",
       "      <td>-73.988900</td>\n",
       "      <td>446.000000</td>\n",
       "      <td>40.738274</td>\n",
       "      <td>-73.989111</td>\n",
       "      <td>19807.000000</td>\n",
       "      <td>NaN</td>\n",
       "      <td>1.000000</td>\n",
       "      <td>30.000000</td>\n",
       "      <td>NaN</td>\n",
       "      <td>NaN</td>\n",
       "    </tr>\n",
       "    <tr>\n",
       "      <th>75%</th>\n",
       "      <td>1.001000e+03</td>\n",
       "      <td>521.000000</td>\n",
       "      <td>40.752062</td>\n",
       "      <td>-73.977910</td>\n",
       "      <td>520.000000</td>\n",
       "      <td>40.751873</td>\n",
       "      <td>-73.978059</td>\n",
       "      <td>22657.000000</td>\n",
       "      <td>NaN</td>\n",
       "      <td>1.000000</td>\n",
       "      <td>45.000000</td>\n",
       "      <td>NaN</td>\n",
       "      <td>NaN</td>\n",
       "    </tr>\n",
       "    <tr>\n",
       "      <th>max</th>\n",
       "      <td>2.825827e+06</td>\n",
       "      <td>3246.000000</td>\n",
       "      <td>40.787209</td>\n",
       "      <td>-73.929891</td>\n",
       "      <td>3246.000000</td>\n",
       "      <td>40.787209</td>\n",
       "      <td>0.000000</td>\n",
       "      <td>24773.000000</td>\n",
       "      <td>2000.000000</td>\n",
       "      <td>2.000000</td>\n",
       "      <td>59.000000</td>\n",
       "      <td>2.502192e+06</td>\n",
       "      <td>2.825827e+06</td>\n",
       "    </tr>\n",
       "  </tbody>\n",
       "</table>\n",
       "</div>"
      ],
      "text/plain": [
       "       tripduration  start station id  start station latitude  \\\n",
       "count  9.199210e+05     919921.000000           919921.000000   \n",
       "mean   1.019790e+03        859.263433               40.737532   \n",
       "std    1.011213e+04       1019.067653                0.021881   \n",
       "min    6.100000e+01         72.000000               40.678907   \n",
       "25%    3.640000e+02        327.000000               40.722104   \n",
       "50%    5.930000e+02        448.000000               40.739017   \n",
       "75%    1.001000e+03        521.000000               40.752062   \n",
       "max    2.825827e+06       3246.000000               40.787209   \n",
       "\n",
       "       start station longitude  end station id  end station latitude  \\\n",
       "count            919921.000000   919921.000000         919921.000000   \n",
       "mean                -73.987185      846.843358             40.736470   \n",
       "std                   0.015512     1008.252325              0.186417   \n",
       "min                 -74.017134       72.000000              0.000000   \n",
       "25%                 -73.997901      326.000000             40.722104   \n",
       "50%                 -73.988900      446.000000             40.738274   \n",
       "75%                 -73.977910      520.000000             40.751873   \n",
       "max                 -73.929891     3246.000000             40.787209   \n",
       "\n",
       "       end station longitude         bikeid     birth year         gender  \\\n",
       "count          919921.000000  919921.000000  826678.000000  919921.000000   \n",
       "mean              -73.985822   19784.809244    1976.775033       1.103705   \n",
       "std                 0.336602    2980.643329      11.788491       0.547556   \n",
       "min               -74.059503   14529.000000    1885.000000       0.000000   \n",
       "25%               -73.998102   17186.000000            NaN       1.000000   \n",
       "50%               -73.989111   19807.000000            NaN       1.000000   \n",
       "75%               -73.978059   22657.000000            NaN       1.000000   \n",
       "max                 0.000000   24773.000000    2000.000000       2.000000   \n",
       "\n",
       "                time   dayduration  nightduration  \n",
       "count  919921.000000  6.604480e+05   2.594730e+05  \n",
       "mean       29.525109  1.033193e+03   9.856741e+02  \n",
       "std        17.280343  9.115423e+03   1.228958e+04  \n",
       "min         0.000000  6.100000e+01   6.100000e+01  \n",
       "25%        15.000000           NaN            NaN  \n",
       "50%        30.000000           NaN            NaN  \n",
       "75%        45.000000           NaN            NaN  \n",
       "max        59.000000  2.502192e+06   2.825827e+06  "
      ]
     },
     "execution_count": 10,
     "metadata": {},
     "output_type": "execute_result"
    }
   ],
   "source": [
    "df.describe()"
   ]
  },
  {
   "cell_type": "code",
   "execution_count": 11,
   "metadata": {
    "collapsed": false
   },
   "outputs": [
    {
     "data": {
      "image/png": "[encoded data removed]",
      "text/plain": [
       "<matplotlib.figure.Figure at 0x7fdde5170190>"
      ]
     },
     "metadata": {},
     "output_type": "display_data"
    },
    {
     "data": {
      "image/png": "[encoded data removed]",
      "text/plain": [
       "<matplotlib.figure.Figure at 0x7fddf44e4a10>"
      ]
     },
     "metadata": {},
     "output_type": "display_data"
    }
   ],
   "source": [
    "# plotting histograms with pandas is a bit different than with pylab\n",
    "# this is a VERY USEFUL syntaxfor you to knonw!\n",
    "bins = np.arange(0, 3000, 180)\n",
    "axD = df.dayduration.groupby(pd.cut(df.dayduration, bins)).agg([count_nonzero]).plot(kind='bar', \n",
    "                                                                legend=False)\n",
    "axD.set_title(\"day riders\")\n",
    "axN = df.nightduration.groupby(pd.cut(df.nightduration, bins)).agg([count_nonzero]).plot(kind='bar',\n",
    "                                                                legend=False)\n",
    "axN.set_title(\"night riders\");"
   ]
  },
  {
   "cell_type": "code",
   "execution_count": 12,
   "metadata": {
    "collapsed": false
   },
   "outputs": [
    {
     "name": "stdout",
     "output_type": "stream",
     "text": [
      "              count_nonzero\n",
      "dayduration                \n",
      "(0, 180]           0.009545\n",
      "(180, 360]         0.026335\n",
      "(360, 540]         0.028711\n",
      "(540, 720]         0.030926\n",
      "(720, 900]         0.030374\n",
      "(900, 1080]        0.028581\n",
      "(1080, 1260]       0.025893\n",
      "(1260, 1440]       0.021772\n",
      "(1440, 1620]       0.016493\n",
      "(1620, 1800]       0.012228\n",
      "(1800, 1980]       0.008444\n",
      "(1980, 2160]       0.005788\n",
      "(2160, 2340]       0.004119\n",
      "(2340, 2520]       0.002277\n",
      "(2520, 2700]       0.001016\n",
      "(2700, 2880]       0.000000\n"
     ]
    },
    {
     "data": {
      "text/plain": [
       "<matplotlib.legend.Legend at 0x7fdde4e55f50>"
      ]
     },
     "execution_count": 12,
     "metadata": {},
     "output_type": "execute_result"
    },
    {
     "data": {
      "image/png": "[encoded data removed]",
      "text/plain": [
       "<matplotlib.figure.Figure at 0x7fdde4f62c90>"
      ]
     },
     "metadata": {},
     "output_type": "display_data"
    }
   ],
   "source": [
    "#cumulative sum\n",
    "\n",
    "csD=df.dayduration.groupby(pd.cut(df.dayduration, bins)).agg([count_nonzero]).cumsum()\n",
    "\n",
    "csN=df.nightduration.groupby(pd.cut(df.nightduration, bins)).agg([count_nonzero]).cumsum()\n",
    "\n",
    "print (np.abs(csD / csD.max()-csN / csN.max()))\n",
    "\n",
    "pl.plot(bins[:-1] + 120, csD / csD.max(), label = \"Day\")\n",
    "pl.plot(bins[:-1] + 120, csN / csN.max(), label = \"Night\")\n",
    "pl.plot(bins[:-1] + 120, np.sqrt(csN / csN.max() - csD / csD.max())**2, 'k-',\n",
    "        label = \"difference\")\n",
    "pl.xlabel(\"Trip Duration\")\n",
    "pl.ylabel(\"Normalized Cumulative Number\")\n",
    "pl.legend()"
   ]
  },
  {
   "cell_type": "code",
   "execution_count": 13,
   "metadata": {
    "collapsed": true
   },
   "outputs": [],
   "source": [
    "import scipy.stats"
   ]
  },
  {
   "cell_type": "markdown",
   "metadata": {},
   "source": [
    "KS tests to compare 2 samples\n",
    "\n",
    "http://docs.scipy.org/doc/scipy-0.15.1/reference/generated/scipy.stats.ks_2samp.html\n",
    "\n",
    "the KS test in scipy returns the p-value BUT make sure you understand what the NULL is! read the documentation carefully! what is the null hypothesis that you can/cannot reject?\n",
    "\n",
    "KS: Computes the Kolmogorov-Smirnov statistic on 2 samples.\n",
    "\n",
    "This is a two-sided test for the null hypothesis that 2 independent samples are drawn from the same continuous distribution"
   ]
  },
  {
   "cell_type": "code",
   "execution_count": 14,
   "metadata": {
    "collapsed": false
   },
   "outputs": [
    {
     "name": "stdout",
     "output_type": "stream",
     "text": [
      "Ks_2sampResult(statistic=0.03889225832365051, pvalue=2.6040049534824691e-245)\n"
     ]
    }
   ],
   "source": [
    "ks = scipy.stats.ks_2samp(df.dayduration, df.nightduration)\n",
    "print (ks)"
   ]
  },
  {
   "cell_type": "markdown",
   "metadata": {},
   "source": [
    "Answer: Since the p-value is small, we reject the null hypothesis that the trip duration for day and night riders are the same"
   ]
  },
  {
   "cell_type": "code",
   "execution_count": 15,
   "metadata": {
    "collapsed": false
   },
   "outputs": [],
   "source": [
    "#from IPython.display import Image\n",
    "#Image(filename=\"../plotsforclasses/ks2sample_table.png\")"
   ]
  },
  {
   "cell_type": "code",
   "execution_count": 16,
   "metadata": {
    "collapsed": false
   },
   "outputs": [
    {
     "data": {
      "text/plain": [
       "919921"
      ]
     },
     "execution_count": 16,
     "metadata": {},
     "output_type": "execute_result"
    }
   ],
   "source": [
    "len(df)"
   ]
  },
  {
   "cell_type": "code",
   "execution_count": 17,
   "metadata": {
    "collapsed": false
   },
   "outputs": [
    {
     "data": {
      "text/html": [
       "<div>\n",
       "<table border=\"1\" class=\"dataframe\">\n",
       "  <thead>\n",
       "    <tr style=\"text-align: right;\">\n",
       "      <th></th>\n",
       "      <th>tripduration</th>\n",
       "      <th>starttime</th>\n",
       "      <th>stoptime</th>\n",
       "      <th>start station id</th>\n",
       "      <th>start station name</th>\n",
       "      <th>start station latitude</th>\n",
       "      <th>start station longitude</th>\n",
       "      <th>end station id</th>\n",
       "      <th>end station name</th>\n",
       "      <th>end station latitude</th>\n",
       "      <th>end station longitude</th>\n",
       "      <th>bikeid</th>\n",
       "      <th>usertype</th>\n",
       "      <th>birth year</th>\n",
       "      <th>gender</th>\n",
       "      <th>date</th>\n",
       "      <th>time</th>\n",
       "      <th>daynight</th>\n",
       "      <th>dayduration</th>\n",
       "      <th>nightduration</th>\n",
       "    </tr>\n",
       "  </thead>\n",
       "  <tbody>\n",
       "    <tr>\n",
       "      <th>919500</th>\n",
       "      <td>661</td>\n",
       "      <td>3/29/2016 18:27:23</td>\n",
       "      <td>3/29/2016 18:38:25</td>\n",
       "      <td>3244</td>\n",
       "      <td>University Pl &amp; E 8 St</td>\n",
       "      <td>40.731437</td>\n",
       "      <td>-73.994903</td>\n",
       "      <td>167</td>\n",
       "      <td>E 39 St &amp; 3 Ave</td>\n",
       "      <td>40.748901</td>\n",
       "      <td>-73.976049</td>\n",
       "      <td>19186</td>\n",
       "      <td>Subscriber</td>\n",
       "      <td>1941.0</td>\n",
       "      <td>1</td>\n",
       "      <td>2016-03-29 18:27:23</td>\n",
       "      <td>27</td>\n",
       "      <td>0</td>\n",
       "      <td>NaN</td>\n",
       "      <td>661.0</td>\n",
       "    </tr>\n",
       "    <tr>\n",
       "      <th>919600</th>\n",
       "      <td>1193</td>\n",
       "      <td>3/30/2016 17:05:01</td>\n",
       "      <td>3/30/2016 17:24:54</td>\n",
       "      <td>3244</td>\n",
       "      <td>University Pl &amp; E 8 St</td>\n",
       "      <td>40.731437</td>\n",
       "      <td>-73.994903</td>\n",
       "      <td>519</td>\n",
       "      <td>Pershing Square North</td>\n",
       "      <td>40.751873</td>\n",
       "      <td>-73.977706</td>\n",
       "      <td>20835</td>\n",
       "      <td>Subscriber</td>\n",
       "      <td>1960.0</td>\n",
       "      <td>2</td>\n",
       "      <td>2016-03-30 17:05:01</td>\n",
       "      <td>5</td>\n",
       "      <td>1</td>\n",
       "      <td>1193.0</td>\n",
       "      <td>NaN</td>\n",
       "    </tr>\n",
       "    <tr>\n",
       "      <th>919700</th>\n",
       "      <td>963</td>\n",
       "      <td>3/31/2016 13:25:31</td>\n",
       "      <td>3/31/2016 13:41:34</td>\n",
       "      <td>3244</td>\n",
       "      <td>University Pl &amp; E 8 St</td>\n",
       "      <td>40.731437</td>\n",
       "      <td>-73.994903</td>\n",
       "      <td>328</td>\n",
       "      <td>Watts St &amp; Greenwich St</td>\n",
       "      <td>40.724055</td>\n",
       "      <td>-74.009660</td>\n",
       "      <td>19501</td>\n",
       "      <td>Subscriber</td>\n",
       "      <td>1975.0</td>\n",
       "      <td>1</td>\n",
       "      <td>2016-03-31 13:25:31</td>\n",
       "      <td>25</td>\n",
       "      <td>1</td>\n",
       "      <td>963.0</td>\n",
       "      <td>NaN</td>\n",
       "    </tr>\n",
       "    <tr>\n",
       "      <th>919800</th>\n",
       "      <td>1373</td>\n",
       "      <td>3/24/2016 14:07:46</td>\n",
       "      <td>3/24/2016 14:30:39</td>\n",
       "      <td>3246</td>\n",
       "      <td>Montague St &amp; Clinton St</td>\n",
       "      <td>40.694281</td>\n",
       "      <td>-73.992300</td>\n",
       "      <td>365</td>\n",
       "      <td>Fulton St &amp; Grand Ave</td>\n",
       "      <td>40.682232</td>\n",
       "      <td>-73.961458</td>\n",
       "      <td>24161</td>\n",
       "      <td>Subscriber</td>\n",
       "      <td>1975.0</td>\n",
       "      <td>1</td>\n",
       "      <td>2016-03-24 14:07:46</td>\n",
       "      <td>7</td>\n",
       "      <td>1</td>\n",
       "      <td>1373.0</td>\n",
       "      <td>NaN</td>\n",
       "    </tr>\n",
       "    <tr>\n",
       "      <th>919900</th>\n",
       "      <td>1268</td>\n",
       "      <td>3/30/2016 19:05:54</td>\n",
       "      <td>3/30/2016 19:27:03</td>\n",
       "      <td>3246</td>\n",
       "      <td>Montague St &amp; Clinton St</td>\n",
       "      <td>40.694281</td>\n",
       "      <td>-73.992300</td>\n",
       "      <td>2002</td>\n",
       "      <td>Wythe Ave &amp; Metropolitan Ave</td>\n",
       "      <td>40.716887</td>\n",
       "      <td>-73.963198</td>\n",
       "      <td>14935</td>\n",
       "      <td>Subscriber</td>\n",
       "      <td>1970.0</td>\n",
       "      <td>1</td>\n",
       "      <td>2016-03-30 19:05:54</td>\n",
       "      <td>5</td>\n",
       "      <td>0</td>\n",
       "      <td>NaN</td>\n",
       "      <td>1268.0</td>\n",
       "    </tr>\n",
       "  </tbody>\n",
       "</table>\n",
       "</div>"
      ],
      "text/plain": [
       "        tripduration           starttime            stoptime  \\\n",
       "919500           661  3/29/2016 18:27:23  3/29/2016 18:38:25   \n",
       "919600          1193  3/30/2016 17:05:01  3/30/2016 17:24:54   \n",
       "919700           963  3/31/2016 13:25:31  3/31/2016 13:41:34   \n",
       "919800          1373  3/24/2016 14:07:46  3/24/2016 14:30:39   \n",
       "919900          1268  3/30/2016 19:05:54  3/30/2016 19:27:03   \n",
       "\n",
       "        start station id        start station name  start station latitude  \\\n",
       "919500              3244    University Pl & E 8 St               40.731437   \n",
       "919600              3244    University Pl & E 8 St               40.731437   \n",
       "919700              3244    University Pl & E 8 St               40.731437   \n",
       "919800              3246  Montague St & Clinton St               40.694281   \n",
       "919900              3246  Montague St & Clinton St               40.694281   \n",
       "\n",
       "        start station longitude  end station id              end station name  \\\n",
       "919500               -73.994903             167               E 39 St & 3 Ave   \n",
       "919600               -73.994903             519         Pershing Square North   \n",
       "919700               -73.994903             328       Watts St & Greenwich St   \n",
       "919800               -73.992300             365         Fulton St & Grand Ave   \n",
       "919900               -73.992300            2002  Wythe Ave & Metropolitan Ave   \n",
       "\n",
       "        end station latitude  end station longitude  bikeid    usertype  \\\n",
       "919500             40.748901             -73.976049   19186  Subscriber   \n",
       "919600             40.751873             -73.977706   20835  Subscriber   \n",
       "919700             40.724055             -74.009660   19501  Subscriber   \n",
       "919800             40.682232             -73.961458   24161  Subscriber   \n",
       "919900             40.716887             -73.963198   14935  Subscriber   \n",
       "\n",
       "        birth year  gender                date  time daynight  dayduration  \\\n",
       "919500      1941.0       1 2016-03-29 18:27:23    27        0          NaN   \n",
       "919600      1960.0       2 2016-03-30 17:05:01     5        1       1193.0   \n",
       "919700      1975.0       1 2016-03-31 13:25:31    25        1        963.0   \n",
       "919800      1975.0       1 2016-03-24 14:07:46     7        1       1373.0   \n",
       "919900      1970.0       1 2016-03-30 19:05:54     5        0          NaN   \n",
       "\n",
       "        nightduration  \n",
       "919500          661.0  \n",
       "919600            NaN  \n",
       "919700            NaN  \n",
       "919800            NaN  \n",
       "919900         1268.0  "
      ]
     },
     "execution_count": 17,
     "metadata": {},
     "output_type": "execute_result"
    }
   ],
   "source": [
    "#redo task with reduced dataset, select every 100th trip\n",
    "df2 = df.iloc[::100, :]\n",
    "df2.tail()"
   ]
  },
  {
   "cell_type": "code",
   "execution_count": 18,
   "metadata": {
    "collapsed": false
   },
   "outputs": [
    {
     "name": "stderr",
     "output_type": "stream",
     "text": [
      "/opt/rh/anaconda/root/envs/PUI2016_Python2/lib/python2.7/site-packages/pandas/core/series.py:2571: SettingWithCopyWarning: \n",
      "A value is trying to be set on a copy of a slice from a DataFrame\n",
      "\n",
      "See the caveats in the documentation: http://pandas.pydata.org/pandas-docs/stable/indexing.html#indexing-view-versus-copy\n",
      "  self._update_inplace(result)\n"
     ]
    }
   ],
   "source": [
    "df2['dayduration'].dropna(inplace= True)\n",
    "df2['nightduration'].dropna(inplace= True)"
   ]
  },
  {
   "cell_type": "code",
   "execution_count": 19,
   "metadata": {
    "collapsed": false
   },
   "outputs": [
    {
     "name": "stdout",
     "output_type": "stream",
     "text": [
      "Ks_2sampResult(statistic=0.041048569277102646, pvalue=0.0038145110194928392)\n"
     ]
    }
   ],
   "source": [
    "ks2 = scipy.stats.ks_2samp(df2.dayduration, df2.nightduration)\n",
    "print (ks2)"
   ]
  },
  {
   "cell_type": "markdown",
   "metadata": {},
   "source": [
    "Answer: \n",
    "Since the p-value is below 1%, we can reject the null hypothesis. The distribution of trip duration for day and night riders are not the same. "
   ]
  },
  {
   "cell_type": "markdown",
   "metadata": {},
   "source": [
    "## Correlation\n",
    "\n",
    "Now retest using a test for correlation.\n",
    "\n",
    "That will answer a slightly different question though - formulate the NULL appropriately. The tests for correlations (generally) requires the variable to be paired, so that I can tell if x changes does y change similarly. But the datasets are of different size! You will need to reduce them to the same size. You can do that by subsampling of the data: take only 1 ride every of 200, which you can achieve \"slicing and broadcasting\" the array or using one of the python function (built in python numpy.random.choice() functions for example: Docstring: choice(a, size=None, replace=True, p=None)\n",
    "\n",
    "Generates a random sample from a given 1-D array\n",
    "\n",
    "    .. versionadded:: 1.7.0\n",
    "\n",
    "Parameters ...\n",
    "\n",
    "But make sure you understand how to use it! there is an option \"replace\" which you should think about.\n",
    "Pearson's test for correlation¶\n",
    "\n",
    "notice that the Pearson's is a pairwise test: the samples need to be a. the same size b. sorted! (how??)\n",
    "\n",
    "http://docs.scipy.org/doc/scipy/reference/generated/scipy.stats.pearsonr.html#scipy.stats.pearsonr\n"
   ]
  },
  {
   "cell_type": "markdown",
   "metadata": {},
   "source": [
    "### Hypothesis\n",
    "H0: There is no strong relationship between trip duration for day and night riders "
   ]
  },
  {
   "cell_type": "markdown",
   "metadata": {},
   "source": [
    "### Pearson's test for correlation\n",
    "scipy.stats.pearsonr(x, y)"
   ]
  },
  {
   "cell_type": "code",
   "execution_count": 20,
   "metadata": {
    "collapsed": true
   },
   "outputs": [],
   "source": [
    "df['dayduration'].dropna(inplace= True)\n",
    "df['nightduration'].dropna(inplace= True)"
   ]
  },
  {
   "cell_type": "code",
   "execution_count": 21,
   "metadata": {
    "collapsed": false
   },
   "outputs": [
    {
     "data": {
      "text/html": [
       "<div>\n",
       "<table border=\"1\" class=\"dataframe\">\n",
       "  <thead>\n",
       "    <tr style=\"text-align: right;\">\n",
       "      <th></th>\n",
       "      <th>tripduration</th>\n",
       "      <th>starttime</th>\n",
       "      <th>stoptime</th>\n",
       "      <th>start station id</th>\n",
       "      <th>start station name</th>\n",
       "      <th>start station latitude</th>\n",
       "      <th>start station longitude</th>\n",
       "      <th>end station id</th>\n",
       "      <th>end station name</th>\n",
       "      <th>end station latitude</th>\n",
       "      <th>end station longitude</th>\n",
       "      <th>bikeid</th>\n",
       "      <th>usertype</th>\n",
       "      <th>birth year</th>\n",
       "      <th>gender</th>\n",
       "      <th>date</th>\n",
       "      <th>time</th>\n",
       "      <th>daynight</th>\n",
       "      <th>dayduration</th>\n",
       "      <th>nightduration</th>\n",
       "    </tr>\n",
       "  </thead>\n",
       "  <tbody>\n",
       "    <tr>\n",
       "      <th>0</th>\n",
       "      <td>1491</td>\n",
       "      <td>3/1/2016 06:52:42</td>\n",
       "      <td>3/1/2016 07:17:33</td>\n",
       "      <td>72</td>\n",
       "      <td>W 52 St &amp; 11 Ave</td>\n",
       "      <td>40.767272</td>\n",
       "      <td>-73.993929</td>\n",
       "      <td>427</td>\n",
       "      <td>Bus Slip &amp; State St</td>\n",
       "      <td>40.701907</td>\n",
       "      <td>-74.013942</td>\n",
       "      <td>23914</td>\n",
       "      <td>Subscriber</td>\n",
       "      <td>1982.0</td>\n",
       "      <td>1</td>\n",
       "      <td>2016-03-01 06:52:42</td>\n",
       "      <td>52</td>\n",
       "      <td>1</td>\n",
       "      <td>1491.0</td>\n",
       "      <td>NaN</td>\n",
       "    </tr>\n",
       "    <tr>\n",
       "      <th>100</th>\n",
       "      <td>2202</td>\n",
       "      <td>3/2/2016 11:42:06</td>\n",
       "      <td>3/2/2016 12:18:48</td>\n",
       "      <td>72</td>\n",
       "      <td>W 52 St &amp; 11 Ave</td>\n",
       "      <td>40.767272</td>\n",
       "      <td>-73.993929</td>\n",
       "      <td>153</td>\n",
       "      <td>E 40 St &amp; 5 Ave</td>\n",
       "      <td>40.752062</td>\n",
       "      <td>-73.981632</td>\n",
       "      <td>20508</td>\n",
       "      <td>Subscriber</td>\n",
       "      <td>1957.0</td>\n",
       "      <td>1</td>\n",
       "      <td>2016-03-02 11:42:06</td>\n",
       "      <td>42</td>\n",
       "      <td>1</td>\n",
       "      <td>2202.0</td>\n",
       "      <td>NaN</td>\n",
       "    </tr>\n",
       "    <tr>\n",
       "      <th>200</th>\n",
       "      <td>436</td>\n",
       "      <td>3/3/2016 10:49:45</td>\n",
       "      <td>3/3/2016 10:57:02</td>\n",
       "      <td>72</td>\n",
       "      <td>W 52 St &amp; 11 Ave</td>\n",
       "      <td>40.767272</td>\n",
       "      <td>-73.993929</td>\n",
       "      <td>514</td>\n",
       "      <td>12 Ave &amp; W 40 St</td>\n",
       "      <td>40.760875</td>\n",
       "      <td>-74.002777</td>\n",
       "      <td>17116</td>\n",
       "      <td>Subscriber</td>\n",
       "      <td>1974.0</td>\n",
       "      <td>1</td>\n",
       "      <td>2016-03-03 10:49:45</td>\n",
       "      <td>49</td>\n",
       "      <td>1</td>\n",
       "      <td>436.0</td>\n",
       "      <td>NaN</td>\n",
       "    </tr>\n",
       "    <tr>\n",
       "      <th>300</th>\n",
       "      <td>584</td>\n",
       "      <td>3/4/2016 16:22:49</td>\n",
       "      <td>3/4/2016 16:32:34</td>\n",
       "      <td>72</td>\n",
       "      <td>W 52 St &amp; 11 Ave</td>\n",
       "      <td>40.767272</td>\n",
       "      <td>-73.993929</td>\n",
       "      <td>529</td>\n",
       "      <td>W 42 St &amp; 8 Ave</td>\n",
       "      <td>40.757570</td>\n",
       "      <td>-73.990985</td>\n",
       "      <td>19740</td>\n",
       "      <td>Subscriber</td>\n",
       "      <td>1961.0</td>\n",
       "      <td>1</td>\n",
       "      <td>2016-03-04 16:22:49</td>\n",
       "      <td>22</td>\n",
       "      <td>1</td>\n",
       "      <td>584.0</td>\n",
       "      <td>NaN</td>\n",
       "    </tr>\n",
       "    <tr>\n",
       "      <th>400</th>\n",
       "      <td>1614</td>\n",
       "      <td>3/5/2016 17:56:50</td>\n",
       "      <td>3/5/2016 18:23:44</td>\n",
       "      <td>72</td>\n",
       "      <td>W 52 St &amp; 11 Ave</td>\n",
       "      <td>40.767272</td>\n",
       "      <td>-73.993929</td>\n",
       "      <td>328</td>\n",
       "      <td>Watts St &amp; Greenwich St</td>\n",
       "      <td>40.724055</td>\n",
       "      <td>-74.009660</td>\n",
       "      <td>22144</td>\n",
       "      <td>Customer</td>\n",
       "      <td>NaN</td>\n",
       "      <td>0</td>\n",
       "      <td>2016-03-05 17:56:50</td>\n",
       "      <td>56</td>\n",
       "      <td>1</td>\n",
       "      <td>1614.0</td>\n",
       "      <td>NaN</td>\n",
       "    </tr>\n",
       "  </tbody>\n",
       "</table>\n",
       "</div>"
      ],
      "text/plain": [
       "     tripduration          starttime           stoptime  start station id  \\\n",
       "0            1491  3/1/2016 06:52:42  3/1/2016 07:17:33                72   \n",
       "100          2202  3/2/2016 11:42:06  3/2/2016 12:18:48                72   \n",
       "200           436  3/3/2016 10:49:45  3/3/2016 10:57:02                72   \n",
       "300           584  3/4/2016 16:22:49  3/4/2016 16:32:34                72   \n",
       "400          1614  3/5/2016 17:56:50  3/5/2016 18:23:44                72   \n",
       "\n",
       "    start station name  start station latitude  start station longitude  \\\n",
       "0     W 52 St & 11 Ave               40.767272               -73.993929   \n",
       "100   W 52 St & 11 Ave               40.767272               -73.993929   \n",
       "200   W 52 St & 11 Ave               40.767272               -73.993929   \n",
       "300   W 52 St & 11 Ave               40.767272               -73.993929   \n",
       "400   W 52 St & 11 Ave               40.767272               -73.993929   \n",
       "\n",
       "     end station id         end station name  end station latitude  \\\n",
       "0               427      Bus Slip & State St             40.701907   \n",
       "100             153          E 40 St & 5 Ave             40.752062   \n",
       "200             514         12 Ave & W 40 St             40.760875   \n",
       "300             529          W 42 St & 8 Ave             40.757570   \n",
       "400             328  Watts St & Greenwich St             40.724055   \n",
       "\n",
       "     end station longitude  bikeid    usertype  birth year  gender  \\\n",
       "0               -74.013942   23914  Subscriber      1982.0       1   \n",
       "100             -73.981632   20508  Subscriber      1957.0       1   \n",
       "200             -74.002777   17116  Subscriber      1974.0       1   \n",
       "300             -73.990985   19740  Subscriber      1961.0       1   \n",
       "400             -74.009660   22144    Customer         NaN       0   \n",
       "\n",
       "                   date  time daynight  dayduration  nightduration  \n",
       "0   2016-03-01 06:52:42    52        1       1491.0            NaN  \n",
       "100 2016-03-02 11:42:06    42        1       2202.0            NaN  \n",
       "200 2016-03-03 10:49:45    49        1        436.0            NaN  \n",
       "300 2016-03-04 16:22:49    22        1        584.0            NaN  \n",
       "400 2016-03-05 17:56:50    56        1       1614.0            NaN  "
      ]
     },
     "execution_count": 21,
     "metadata": {},
     "output_type": "execute_result"
    }
   ],
   "source": [
    "#select one trip from every 200\n",
    "df3 = df[df.index % 100 == 0]\n",
    "df3.head()"
   ]
  },
  {
   "cell_type": "code",
   "execution_count": 22,
   "metadata": {
    "collapsed": false
   },
   "outputs": [],
   "source": [
    "X = df3.dayduration\n",
    "Y = df3.nightduration"
   ]
  },
  {
   "cell_type": "code",
   "execution_count": 23,
   "metadata": {
    "collapsed": false
   },
   "outputs": [
    {
     "name": "stdout",
     "output_type": "stream",
     "text": [
      "(nan, 1.0)\n"
     ]
    }
   ],
   "source": [
    "pr = scipy.stats.pearsonr(X, Y)\n",
    "print (pr) "
   ]
  },
  {
   "cell_type": "markdown",
   "metadata": {},
   "source": [
    "The results from Pearson's correlation indicates that there is no correlation in trip durations between daytime and nighttime riders. "
   ]
  },
  {
   "cell_type": "markdown",
   "metadata": {},
   "source": [
    "Pearson's correlation coefficient between two variables is defined as the covariance of the two variables divided by the product of their standard deviations.\n"
   ]
  },
  {
   "cell_type": "markdown",
   "metadata": {},
   "source": [
    "### Spearman's test for correlation"
   ]
  },
  {
   "cell_type": "code",
   "execution_count": 24,
   "metadata": {
    "collapsed": false
   },
   "outputs": [
    {
     "name": "stdout",
     "output_type": "stream",
     "text": [
      "SpearmanrResult(correlation=-0.61489705786805249, pvalue=0.0)\n"
     ]
    }
   ],
   "source": [
    "spr = scipy.stats.spearmanr(X, Y)\n",
    "print(spr)"
   ]
  },
  {
   "cell_type": "markdown",
   "metadata": {},
   "source": [
    "The results reveal that there is a negative correlation between trip duration for day and night riders, suggesting that longer trip duration of day time riders, the shorter the night time duration. \n",
    "However, the low p-value indicates that the probability of unrelated variables producing the same correlation is very low.\n",
    "Therefore, we cannot reject the null hypothesis. "
   ]
  },
  {
   "cell_type": "markdown",
   "metadata": {
    "collapsed": true
   },
   "source": [
    "# Part 2: Age of bikers for trips originating in Manhattan and Brooklyn\n",
    "\n",
    "H0: there is no statistical difference in the age distribution between Mahattan and Brooklyn bikers\n",
    "$$ \\alpha = 0.05 $$\n",
    "\n",
    "Use 3 tests: KS, Pearson's, Spearman's.\n",
    "\n",
    "Use the scipy.stats functions scipy.stats.ks_2samp, scipy.stats.pearsonr, scipy.stats.spearmanr.\n",
    "\n",
    "For the KS do the test with the entire dataset and with a subset 200 times smaller"
   ]
  },
  {
   "cell_type": "code",
   "execution_count": 25,
   "metadata": {
    "collapsed": false
   },
   "outputs": [
    {
     "data": {
      "text/plain": [
       "'/home/cusp/rxl204/PUIdata'"
      ]
     },
     "execution_count": 25,
     "metadata": {},
     "output_type": "execute_result"
    }
   ],
   "source": [
    "os.getenv('PUIDATA')"
   ]
  },
  {
   "cell_type": "code",
   "execution_count": 26,
   "metadata": {
    "collapsed": false
   },
   "outputs": [
    {
     "name": "stdout",
     "output_type": "stream",
     "text": [
      "Downloading 201604\n",
      "file in place, you can continue\n"
     ]
    }
   ],
   "source": [
    "datestring2 = '201604'\n",
    "getCitiBikeCSV(datestring2)"
   ]
  },
  {
   "cell_type": "code",
   "execution_count": 27,
   "metadata": {
    "collapsed": false
   },
   "outputs": [
    {
     "data": {
      "text/html": [
       "<div>\n",
       "<table border=\"1\" class=\"dataframe\">\n",
       "  <thead>\n",
       "    <tr style=\"text-align: right;\">\n",
       "      <th></th>\n",
       "      <th>tripduration</th>\n",
       "      <th>starttime</th>\n",
       "      <th>stoptime</th>\n",
       "      <th>start station id</th>\n",
       "      <th>start station name</th>\n",
       "      <th>start station latitude</th>\n",
       "      <th>start station longitude</th>\n",
       "      <th>end station id</th>\n",
       "      <th>end station name</th>\n",
       "      <th>end station latitude</th>\n",
       "      <th>end station longitude</th>\n",
       "      <th>bikeid</th>\n",
       "      <th>usertype</th>\n",
       "      <th>birth year</th>\n",
       "      <th>gender</th>\n",
       "      <th>date</th>\n",
       "    </tr>\n",
       "  </thead>\n",
       "  <tbody>\n",
       "    <tr>\n",
       "      <th>0</th>\n",
       "      <td>496</td>\n",
       "      <td>4/1/2016 00:00:26</td>\n",
       "      <td>4/1/2016 00:08:42</td>\n",
       "      <td>254</td>\n",
       "      <td>W 11 St &amp; 6 Ave</td>\n",
       "      <td>40.735324</td>\n",
       "      <td>-73.998004</td>\n",
       "      <td>236</td>\n",
       "      <td>St Marks Pl &amp; 2 Ave</td>\n",
       "      <td>40.728419</td>\n",
       "      <td>-73.987140</td>\n",
       "      <td>19704</td>\n",
       "      <td>Subscriber</td>\n",
       "      <td>1984.0</td>\n",
       "      <td>1</td>\n",
       "      <td>2016-04-01 00:00:26</td>\n",
       "    </tr>\n",
       "    <tr>\n",
       "      <th>1</th>\n",
       "      <td>104</td>\n",
       "      <td>4/1/2016 00:00:27</td>\n",
       "      <td>4/1/2016 00:02:12</td>\n",
       "      <td>311</td>\n",
       "      <td>Norfolk St &amp; Broome St</td>\n",
       "      <td>40.717227</td>\n",
       "      <td>-73.988021</td>\n",
       "      <td>350</td>\n",
       "      <td>Clinton St &amp; Grand St</td>\n",
       "      <td>40.715595</td>\n",
       "      <td>-73.987030</td>\n",
       "      <td>21555</td>\n",
       "      <td>Subscriber</td>\n",
       "      <td>1970.0</td>\n",
       "      <td>1</td>\n",
       "      <td>2016-04-01 00:00:27</td>\n",
       "    </tr>\n",
       "    <tr>\n",
       "      <th>2</th>\n",
       "      <td>128</td>\n",
       "      <td>4/1/2016 00:00:30</td>\n",
       "      <td>4/1/2016 00:02:38</td>\n",
       "      <td>3064</td>\n",
       "      <td>Myrtle Ave &amp; Lewis Ave</td>\n",
       "      <td>40.696820</td>\n",
       "      <td>-73.937569</td>\n",
       "      <td>3059</td>\n",
       "      <td>Pulaski St &amp; Marcus Garvey Blvd</td>\n",
       "      <td>40.693398</td>\n",
       "      <td>-73.939877</td>\n",
       "      <td>17430</td>\n",
       "      <td>Subscriber</td>\n",
       "      <td>1986.0</td>\n",
       "      <td>1</td>\n",
       "      <td>2016-04-01 00:00:30</td>\n",
       "    </tr>\n",
       "    <tr>\n",
       "      <th>3</th>\n",
       "      <td>1197</td>\n",
       "      <td>4/1/2016 00:00:34</td>\n",
       "      <td>4/1/2016 00:20:31</td>\n",
       "      <td>3156</td>\n",
       "      <td>E 72 St &amp; York Ave</td>\n",
       "      <td>40.766638</td>\n",
       "      <td>-73.953483</td>\n",
       "      <td>490</td>\n",
       "      <td>8 Ave &amp; W 33 St</td>\n",
       "      <td>40.751551</td>\n",
       "      <td>-73.993934</td>\n",
       "      <td>17413</td>\n",
       "      <td>Subscriber</td>\n",
       "      <td>1981.0</td>\n",
       "      <td>1</td>\n",
       "      <td>2016-04-01 00:00:34</td>\n",
       "    </tr>\n",
       "    <tr>\n",
       "      <th>4</th>\n",
       "      <td>419</td>\n",
       "      <td>4/1/2016 00:00:46</td>\n",
       "      <td>4/1/2016 00:07:46</td>\n",
       "      <td>116</td>\n",
       "      <td>W 17 St &amp; 8 Ave</td>\n",
       "      <td>40.741776</td>\n",
       "      <td>-74.001497</td>\n",
       "      <td>405</td>\n",
       "      <td>Washington St &amp; Gansevoort St</td>\n",
       "      <td>40.739323</td>\n",
       "      <td>-74.008119</td>\n",
       "      <td>16714</td>\n",
       "      <td>Subscriber</td>\n",
       "      <td>1982.0</td>\n",
       "      <td>2</td>\n",
       "      <td>2016-04-01 00:00:46</td>\n",
       "    </tr>\n",
       "  </tbody>\n",
       "</table>\n",
       "</div>"
      ],
      "text/plain": [
       "   tripduration          starttime           stoptime  start station id  \\\n",
       "0           496  4/1/2016 00:00:26  4/1/2016 00:08:42               254   \n",
       "1           104  4/1/2016 00:00:27  4/1/2016 00:02:12               311   \n",
       "2           128  4/1/2016 00:00:30  4/1/2016 00:02:38              3064   \n",
       "3          1197  4/1/2016 00:00:34  4/1/2016 00:20:31              3156   \n",
       "4           419  4/1/2016 00:00:46  4/1/2016 00:07:46               116   \n",
       "\n",
       "       start station name  start station latitude  start station longitude  \\\n",
       "0         W 11 St & 6 Ave               40.735324               -73.998004   \n",
       "1  Norfolk St & Broome St               40.717227               -73.988021   \n",
       "2  Myrtle Ave & Lewis Ave               40.696820               -73.937569   \n",
       "3      E 72 St & York Ave               40.766638               -73.953483   \n",
       "4         W 17 St & 8 Ave               40.741776               -74.001497   \n",
       "\n",
       "   end station id                 end station name  end station latitude  \\\n",
       "0             236              St Marks Pl & 2 Ave             40.728419   \n",
       "1             350            Clinton St & Grand St             40.715595   \n",
       "2            3059  Pulaski St & Marcus Garvey Blvd             40.693398   \n",
       "3             490                  8 Ave & W 33 St             40.751551   \n",
       "4             405    Washington St & Gansevoort St             40.739323   \n",
       "\n",
       "   end station longitude  bikeid    usertype  birth year  gender  \\\n",
       "0             -73.987140   19704  Subscriber      1984.0       1   \n",
       "1             -73.987030   21555  Subscriber      1970.0       1   \n",
       "2             -73.939877   17430  Subscriber      1986.0       1   \n",
       "3             -73.993934   17413  Subscriber      1981.0       1   \n",
       "4             -74.008119   16714  Subscriber      1982.0       2   \n",
       "\n",
       "                 date  \n",
       "0 2016-04-01 00:00:26  \n",
       "1 2016-04-01 00:00:27  \n",
       "2 2016-04-01 00:00:30  \n",
       "3 2016-04-01 00:00:34  \n",
       "4 2016-04-01 00:00:46  "
      ]
     },
     "execution_count": 27,
     "metadata": {},
     "output_type": "execute_result"
    }
   ],
   "source": [
    "df2 = pd.read_csv(os.getenv(\"PUIDATA\") + \"/\" + datestring2 + '-citibike-tripdata.csv')\n",
    "# df is the dataframe where the content of the csv file is stored\n",
    "df2['date'] = pd.to_datetime(df2['starttime'])\n",
    "# note that with dataframes I can refer to variables as dictionary keys, \n",
    "# i.e. df['starttime'] or as attributes: df.starttime. \n",
    "df2.head()"
   ]
  },
  {
   "cell_type": "code",
   "execution_count": 28,
   "metadata": {
    "collapsed": false
   },
   "outputs": [
    {
     "name": "stdout",
     "output_type": "stream",
     "text": [
      "<class 'pandas.core.frame.DataFrame'>\n",
      "RangeIndex: 1013149 entries, 0 to 1013148\n",
      "Data columns (total 16 columns):\n",
      "tripduration               1013149 non-null int64\n",
      "starttime                  1013149 non-null object\n",
      "stoptime                   1013149 non-null object\n",
      "start station id           1013149 non-null int64\n",
      "start station name         1013149 non-null object\n",
      "start station latitude     1013149 non-null float64\n",
      "start station longitude    1013149 non-null float64\n",
      "end station id             1013149 non-null int64\n",
      "end station name           1013149 non-null object\n",
      "end station latitude       1013149 non-null float64\n",
      "end station longitude      1013149 non-null float64\n",
      "bikeid                     1013149 non-null int64\n",
      "usertype                   1013149 non-null object\n",
      "birth year                 882679 non-null float64\n",
      "gender                     1013149 non-null int64\n",
      "date                       1013149 non-null datetime64[ns]\n",
      "dtypes: datetime64[ns](1), float64(5), int64(5), object(5)\n",
      "memory usage: 123.7+ MB\n"
     ]
    }
   ],
   "source": [
    "df2.info()"
   ]
  },
  {
   "cell_type": "code",
   "execution_count": 29,
   "metadata": {
    "collapsed": false
   },
   "outputs": [
    {
     "name": "stdout",
     "output_type": "stream",
     "text": [
      "<class 'pandas.core.frame.DataFrame'>\n",
      "Int64Index: 1933070 entries, 0 to 1013148\n",
      "Data columns (total 20 columns):\n",
      "bikeid                     int64\n",
      "birth year                 float64\n",
      "date                       datetime64[ns]\n",
      "dayduration                float64\n",
      "daynight                   object\n",
      "end station id             int64\n",
      "end station latitude       float64\n",
      "end station longitude      float64\n",
      "end station name           object\n",
      "gender                     int64\n",
      "nightduration              float64\n",
      "start station id           int64\n",
      "start station latitude     float64\n",
      "start station longitude    float64\n",
      "start station name         object\n",
      "starttime                  object\n",
      "stoptime                   object\n",
      "time                       float64\n",
      "tripduration               int64\n",
      "usertype                   object\n",
      "dtypes: datetime64[ns](1), float64(8), int64(5), object(6)\n",
      "memory usage: 309.7+ MB\n"
     ]
    }
   ],
   "source": [
    "dff = pd.concat([df, df2])\n",
    "dff.info()\n",
    "#join two dataframes for march and april 2016\n",
    "#check if dataframes contains two months of data"
   ]
  },
  {
   "cell_type": "code",
   "execution_count": 30,
   "metadata": {
    "collapsed": false
   },
   "outputs": [
    {
     "data": {
      "text/html": [
       "<div>\n",
       "<table border=\"1\" class=\"dataframe\">\n",
       "  <thead>\n",
       "    <tr style=\"text-align: right;\">\n",
       "      <th></th>\n",
       "      <th>bikeid</th>\n",
       "      <th>birth year</th>\n",
       "      <th>date</th>\n",
       "      <th>dayduration</th>\n",
       "      <th>daynight</th>\n",
       "      <th>end station id</th>\n",
       "      <th>end station latitude</th>\n",
       "      <th>end station longitude</th>\n",
       "      <th>end station name</th>\n",
       "      <th>gender</th>\n",
       "      <th>...</th>\n",
       "      <th>start station id</th>\n",
       "      <th>start station latitude</th>\n",
       "      <th>start station longitude</th>\n",
       "      <th>start station name</th>\n",
       "      <th>starttime</th>\n",
       "      <th>stoptime</th>\n",
       "      <th>time</th>\n",
       "      <th>tripduration</th>\n",
       "      <th>usertype</th>\n",
       "      <th>County</th>\n",
       "    </tr>\n",
       "  </thead>\n",
       "  <tbody>\n",
       "    <tr>\n",
       "      <th>0</th>\n",
       "      <td>23914</td>\n",
       "      <td>1982.0</td>\n",
       "      <td>2016-03-01 06:52:42</td>\n",
       "      <td>1491.0</td>\n",
       "      <td>1</td>\n",
       "      <td>427</td>\n",
       "      <td>40.701907</td>\n",
       "      <td>-74.013942</td>\n",
       "      <td>Bus Slip &amp; State St</td>\n",
       "      <td>1</td>\n",
       "      <td>...</td>\n",
       "      <td>72</td>\n",
       "      <td>40.767272</td>\n",
       "      <td>-73.993929</td>\n",
       "      <td>W 52 St &amp; 11 Ave</td>\n",
       "      <td>3/1/2016 06:52:42</td>\n",
       "      <td>3/1/2016 07:17:33</td>\n",
       "      <td>52.0</td>\n",
       "      <td>1491</td>\n",
       "      <td>Subscriber</td>\n",
       "      <td></td>\n",
       "    </tr>\n",
       "    <tr>\n",
       "      <th>1</th>\n",
       "      <td>23697</td>\n",
       "      <td>1978.0</td>\n",
       "      <td>2016-03-01 07:05:50</td>\n",
       "      <td>1044.0</td>\n",
       "      <td>1</td>\n",
       "      <td>254</td>\n",
       "      <td>40.735324</td>\n",
       "      <td>-73.998004</td>\n",
       "      <td>W 11 St &amp; 6 Ave</td>\n",
       "      <td>1</td>\n",
       "      <td>...</td>\n",
       "      <td>72</td>\n",
       "      <td>40.767272</td>\n",
       "      <td>-73.993929</td>\n",
       "      <td>W 52 St &amp; 11 Ave</td>\n",
       "      <td>3/1/2016 07:05:50</td>\n",
       "      <td>3/1/2016 07:23:15</td>\n",
       "      <td>5.0</td>\n",
       "      <td>1044</td>\n",
       "      <td>Subscriber</td>\n",
       "      <td></td>\n",
       "    </tr>\n",
       "    <tr>\n",
       "      <th>2</th>\n",
       "      <td>21447</td>\n",
       "      <td>1960.0</td>\n",
       "      <td>2016-03-01 07:15:05</td>\n",
       "      <td>714.0</td>\n",
       "      <td>1</td>\n",
       "      <td>493</td>\n",
       "      <td>40.756800</td>\n",
       "      <td>-73.982912</td>\n",
       "      <td>W 45 St &amp; 6 Ave</td>\n",
       "      <td>2</td>\n",
       "      <td>...</td>\n",
       "      <td>72</td>\n",
       "      <td>40.767272</td>\n",
       "      <td>-73.993929</td>\n",
       "      <td>W 52 St &amp; 11 Ave</td>\n",
       "      <td>3/1/2016 07:15:05</td>\n",
       "      <td>3/1/2016 07:26:59</td>\n",
       "      <td>15.0</td>\n",
       "      <td>714</td>\n",
       "      <td>Subscriber</td>\n",
       "      <td></td>\n",
       "    </tr>\n",
       "    <tr>\n",
       "      <th>3</th>\n",
       "      <td>22351</td>\n",
       "      <td>1986.0</td>\n",
       "      <td>2016-03-01 07:26:04</td>\n",
       "      <td>329.0</td>\n",
       "      <td>1</td>\n",
       "      <td>478</td>\n",
       "      <td>40.760301</td>\n",
       "      <td>-73.998842</td>\n",
       "      <td>11 Ave &amp; W 41 St</td>\n",
       "      <td>1</td>\n",
       "      <td>...</td>\n",
       "      <td>72</td>\n",
       "      <td>40.767272</td>\n",
       "      <td>-73.993929</td>\n",
       "      <td>W 52 St &amp; 11 Ave</td>\n",
       "      <td>3/1/2016 07:26:04</td>\n",
       "      <td>3/1/2016 07:31:34</td>\n",
       "      <td>26.0</td>\n",
       "      <td>329</td>\n",
       "      <td>Subscriber</td>\n",
       "      <td></td>\n",
       "    </tr>\n",
       "    <tr>\n",
       "      <th>4</th>\n",
       "      <td>20985</td>\n",
       "      <td>1978.0</td>\n",
       "      <td>2016-03-01 07:31:30</td>\n",
       "      <td>1871.0</td>\n",
       "      <td>1</td>\n",
       "      <td>151</td>\n",
       "      <td>40.722104</td>\n",
       "      <td>-73.997249</td>\n",
       "      <td>Cleveland Pl &amp; Spring St</td>\n",
       "      <td>1</td>\n",
       "      <td>...</td>\n",
       "      <td>72</td>\n",
       "      <td>40.767272</td>\n",
       "      <td>-73.993929</td>\n",
       "      <td>W 52 St &amp; 11 Ave</td>\n",
       "      <td>3/1/2016 07:31:30</td>\n",
       "      <td>3/1/2016 08:02:41</td>\n",
       "      <td>31.0</td>\n",
       "      <td>1871</td>\n",
       "      <td>Subscriber</td>\n",
       "      <td></td>\n",
       "    </tr>\n",
       "  </tbody>\n",
       "</table>\n",
       "<p>5 rows × 21 columns</p>\n",
       "</div>"
      ],
      "text/plain": [
       "   bikeid  birth year                date  dayduration daynight  \\\n",
       "0   23914      1982.0 2016-03-01 06:52:42       1491.0        1   \n",
       "1   23697      1978.0 2016-03-01 07:05:50       1044.0        1   \n",
       "2   21447      1960.0 2016-03-01 07:15:05        714.0        1   \n",
       "3   22351      1986.0 2016-03-01 07:26:04        329.0        1   \n",
       "4   20985      1978.0 2016-03-01 07:31:30       1871.0        1   \n",
       "\n",
       "   end station id  end station latitude  end station longitude  \\\n",
       "0             427             40.701907             -74.013942   \n",
       "1             254             40.735324             -73.998004   \n",
       "2             493             40.756800             -73.982912   \n",
       "3             478             40.760301             -73.998842   \n",
       "4             151             40.722104             -73.997249   \n",
       "\n",
       "           end station name  gender  ...    start station id  \\\n",
       "0       Bus Slip & State St       1  ...                  72   \n",
       "1           W 11 St & 6 Ave       1  ...                  72   \n",
       "2           W 45 St & 6 Ave       2  ...                  72   \n",
       "3          11 Ave & W 41 St       1  ...                  72   \n",
       "4  Cleveland Pl & Spring St       1  ...                  72   \n",
       "\n",
       "   start station latitude  start station longitude  start station name  \\\n",
       "0               40.767272               -73.993929    W 52 St & 11 Ave   \n",
       "1               40.767272               -73.993929    W 52 St & 11 Ave   \n",
       "2               40.767272               -73.993929    W 52 St & 11 Ave   \n",
       "3               40.767272               -73.993929    W 52 St & 11 Ave   \n",
       "4               40.767272               -73.993929    W 52 St & 11 Ave   \n",
       "\n",
       "           starttime           stoptime  time  tripduration    usertype County  \n",
       "0  3/1/2016 06:52:42  3/1/2016 07:17:33  52.0          1491  Subscriber         \n",
       "1  3/1/2016 07:05:50  3/1/2016 07:23:15   5.0          1044  Subscriber         \n",
       "2  3/1/2016 07:15:05  3/1/2016 07:26:59  15.0           714  Subscriber         \n",
       "3  3/1/2016 07:26:04  3/1/2016 07:31:34  26.0           329  Subscriber         \n",
       "4  3/1/2016 07:31:30  3/1/2016 08:02:41  31.0          1871  Subscriber         \n",
       "\n",
       "[5 rows x 21 columns]"
      ]
     },
     "execution_count": 30,
     "metadata": {},
     "output_type": "execute_result"
    }
   ],
   "source": [
    "dfff = dff.assign(County=\"\")\n",
    "dfff.head()"
   ]
  },
  {
   "cell_type": "code",
   "execution_count": 31,
   "metadata": {
    "collapsed": false
   },
   "outputs": [
    {
     "data": {
      "text/html": [
       "<div>\n",
       "<table border=\"1\" class=\"dataframe\">\n",
       "  <thead>\n",
       "    <tr style=\"text-align: right;\">\n",
       "      <th></th>\n",
       "      <th>bikeid</th>\n",
       "      <th>birth year</th>\n",
       "      <th>date</th>\n",
       "      <th>dayduration</th>\n",
       "      <th>daynight</th>\n",
       "      <th>end station id</th>\n",
       "      <th>end station latitude</th>\n",
       "      <th>end station longitude</th>\n",
       "      <th>end station name</th>\n",
       "      <th>gender</th>\n",
       "      <th>...</th>\n",
       "      <th>start station latitude</th>\n",
       "      <th>start station longitude</th>\n",
       "      <th>start station name</th>\n",
       "      <th>starttime</th>\n",
       "      <th>stoptime</th>\n",
       "      <th>time</th>\n",
       "      <th>tripduration</th>\n",
       "      <th>usertype</th>\n",
       "      <th>County</th>\n",
       "      <th>age</th>\n",
       "    </tr>\n",
       "  </thead>\n",
       "  <tbody>\n",
       "    <tr>\n",
       "      <th>0</th>\n",
       "      <td>23914</td>\n",
       "      <td>1982.0</td>\n",
       "      <td>2016-03-01 06:52:42</td>\n",
       "      <td>1491.0</td>\n",
       "      <td>1</td>\n",
       "      <td>427</td>\n",
       "      <td>40.701907</td>\n",
       "      <td>-74.013942</td>\n",
       "      <td>Bus Slip &amp; State St</td>\n",
       "      <td>1</td>\n",
       "      <td>...</td>\n",
       "      <td>40.767272</td>\n",
       "      <td>-73.993929</td>\n",
       "      <td>W 52 St &amp; 11 Ave</td>\n",
       "      <td>3/1/2016 06:52:42</td>\n",
       "      <td>3/1/2016 07:17:33</td>\n",
       "      <td>52.0</td>\n",
       "      <td>1491</td>\n",
       "      <td>Subscriber</td>\n",
       "      <td></td>\n",
       "      <td>34.0</td>\n",
       "    </tr>\n",
       "    <tr>\n",
       "      <th>1</th>\n",
       "      <td>23697</td>\n",
       "      <td>1978.0</td>\n",
       "      <td>2016-03-01 07:05:50</td>\n",
       "      <td>1044.0</td>\n",
       "      <td>1</td>\n",
       "      <td>254</td>\n",
       "      <td>40.735324</td>\n",
       "      <td>-73.998004</td>\n",
       "      <td>W 11 St &amp; 6 Ave</td>\n",
       "      <td>1</td>\n",
       "      <td>...</td>\n",
       "      <td>40.767272</td>\n",
       "      <td>-73.993929</td>\n",
       "      <td>W 52 St &amp; 11 Ave</td>\n",
       "      <td>3/1/2016 07:05:50</td>\n",
       "      <td>3/1/2016 07:23:15</td>\n",
       "      <td>5.0</td>\n",
       "      <td>1044</td>\n",
       "      <td>Subscriber</td>\n",
       "      <td></td>\n",
       "      <td>38.0</td>\n",
       "    </tr>\n",
       "    <tr>\n",
       "      <th>2</th>\n",
       "      <td>21447</td>\n",
       "      <td>1960.0</td>\n",
       "      <td>2016-03-01 07:15:05</td>\n",
       "      <td>714.0</td>\n",
       "      <td>1</td>\n",
       "      <td>493</td>\n",
       "      <td>40.756800</td>\n",
       "      <td>-73.982912</td>\n",
       "      <td>W 45 St &amp; 6 Ave</td>\n",
       "      <td>2</td>\n",
       "      <td>...</td>\n",
       "      <td>40.767272</td>\n",
       "      <td>-73.993929</td>\n",
       "      <td>W 52 St &amp; 11 Ave</td>\n",
       "      <td>3/1/2016 07:15:05</td>\n",
       "      <td>3/1/2016 07:26:59</td>\n",
       "      <td>15.0</td>\n",
       "      <td>714</td>\n",
       "      <td>Subscriber</td>\n",
       "      <td></td>\n",
       "      <td>56.0</td>\n",
       "    </tr>\n",
       "    <tr>\n",
       "      <th>3</th>\n",
       "      <td>22351</td>\n",
       "      <td>1986.0</td>\n",
       "      <td>2016-03-01 07:26:04</td>\n",
       "      <td>329.0</td>\n",
       "      <td>1</td>\n",
       "      <td>478</td>\n",
       "      <td>40.760301</td>\n",
       "      <td>-73.998842</td>\n",
       "      <td>11 Ave &amp; W 41 St</td>\n",
       "      <td>1</td>\n",
       "      <td>...</td>\n",
       "      <td>40.767272</td>\n",
       "      <td>-73.993929</td>\n",
       "      <td>W 52 St &amp; 11 Ave</td>\n",
       "      <td>3/1/2016 07:26:04</td>\n",
       "      <td>3/1/2016 07:31:34</td>\n",
       "      <td>26.0</td>\n",
       "      <td>329</td>\n",
       "      <td>Subscriber</td>\n",
       "      <td></td>\n",
       "      <td>30.0</td>\n",
       "    </tr>\n",
       "    <tr>\n",
       "      <th>4</th>\n",
       "      <td>20985</td>\n",
       "      <td>1978.0</td>\n",
       "      <td>2016-03-01 07:31:30</td>\n",
       "      <td>1871.0</td>\n",
       "      <td>1</td>\n",
       "      <td>151</td>\n",
       "      <td>40.722104</td>\n",
       "      <td>-73.997249</td>\n",
       "      <td>Cleveland Pl &amp; Spring St</td>\n",
       "      <td>1</td>\n",
       "      <td>...</td>\n",
       "      <td>40.767272</td>\n",
       "      <td>-73.993929</td>\n",
       "      <td>W 52 St &amp; 11 Ave</td>\n",
       "      <td>3/1/2016 07:31:30</td>\n",
       "      <td>3/1/2016 08:02:41</td>\n",
       "      <td>31.0</td>\n",
       "      <td>1871</td>\n",
       "      <td>Subscriber</td>\n",
       "      <td></td>\n",
       "      <td>38.0</td>\n",
       "    </tr>\n",
       "  </tbody>\n",
       "</table>\n",
       "<p>5 rows × 22 columns</p>\n",
       "</div>"
      ],
      "text/plain": [
       "   bikeid  birth year                date  dayduration daynight  \\\n",
       "0   23914      1982.0 2016-03-01 06:52:42       1491.0        1   \n",
       "1   23697      1978.0 2016-03-01 07:05:50       1044.0        1   \n",
       "2   21447      1960.0 2016-03-01 07:15:05        714.0        1   \n",
       "3   22351      1986.0 2016-03-01 07:26:04        329.0        1   \n",
       "4   20985      1978.0 2016-03-01 07:31:30       1871.0        1   \n",
       "\n",
       "   end station id  end station latitude  end station longitude  \\\n",
       "0             427             40.701907             -74.013942   \n",
       "1             254             40.735324             -73.998004   \n",
       "2             493             40.756800             -73.982912   \n",
       "3             478             40.760301             -73.998842   \n",
       "4             151             40.722104             -73.997249   \n",
       "\n",
       "           end station name  gender  ...   start station latitude  \\\n",
       "0       Bus Slip & State St       1  ...                40.767272   \n",
       "1           W 11 St & 6 Ave       1  ...                40.767272   \n",
       "2           W 45 St & 6 Ave       2  ...                40.767272   \n",
       "3          11 Ave & W 41 St       1  ...                40.767272   \n",
       "4  Cleveland Pl & Spring St       1  ...                40.767272   \n",
       "\n",
       "   start station longitude  start station name          starttime  \\\n",
       "0               -73.993929    W 52 St & 11 Ave  3/1/2016 06:52:42   \n",
       "1               -73.993929    W 52 St & 11 Ave  3/1/2016 07:05:50   \n",
       "2               -73.993929    W 52 St & 11 Ave  3/1/2016 07:15:05   \n",
       "3               -73.993929    W 52 St & 11 Ave  3/1/2016 07:26:04   \n",
       "4               -73.993929    W 52 St & 11 Ave  3/1/2016 07:31:30   \n",
       "\n",
       "            stoptime  time tripduration    usertype  County   age  \n",
       "0  3/1/2016 07:17:33  52.0         1491  Subscriber          34.0  \n",
       "1  3/1/2016 07:23:15   5.0         1044  Subscriber          38.0  \n",
       "2  3/1/2016 07:26:59  15.0          714  Subscriber          56.0  \n",
       "3  3/1/2016 07:31:34  26.0          329  Subscriber          30.0  \n",
       "4  3/1/2016 08:02:41  31.0         1871  Subscriber          38.0  \n",
       "\n",
       "[5 rows x 22 columns]"
      ]
     },
     "execution_count": 31,
     "metadata": {},
     "output_type": "execute_result"
    }
   ],
   "source": [
    "dfff['age'] = 2016 - dfff['birth year']\n",
    "dfff.head()"
   ]
  },
  {
   "cell_type": "code",
   "execution_count": 32,
   "metadata": {
    "collapsed": false
   },
   "outputs": [],
   "source": [
    "#attempted to use reverse geocode, but met with GeoCoderService Error due to too many requests\n",
    "#alternative method: approximate boundaries for Manhattan and Brookyln using boundingbox\n",
    "lat_min = 40.694197\n",
    "lon_max = -73.896398"
   ]
  },
  {
   "cell_type": "code",
   "execution_count": 33,
   "metadata": {
    "collapsed": false
   },
   "outputs": [],
   "source": [
    "def borough_sort(lat_lon): #bounding \"Manhattan\" into a rough box, assuming everything outside \"Manhattan\" is \"BKLYN\"\n",
    "    lat, lon = lat_lon\n",
    "    if ((lat >= lat_min) & (lon <= lon_max)):\n",
    "        return 1\n",
    "    else:\n",
    "        return 0"
   ]
  },
  {
   "cell_type": "code",
   "execution_count": 34,
   "metadata": {
    "collapsed": false
   },
   "outputs": [
    {
     "data": {
      "text/html": [
       "<div>\n",
       "<table border=\"1\" class=\"dataframe\">\n",
       "  <thead>\n",
       "    <tr style=\"text-align: right;\">\n",
       "      <th></th>\n",
       "      <th>bikeid</th>\n",
       "      <th>birth year</th>\n",
       "      <th>date</th>\n",
       "      <th>dayduration</th>\n",
       "      <th>daynight</th>\n",
       "      <th>end station id</th>\n",
       "      <th>end station latitude</th>\n",
       "      <th>end station longitude</th>\n",
       "      <th>end station name</th>\n",
       "      <th>gender</th>\n",
       "      <th>...</th>\n",
       "      <th>start station latitude</th>\n",
       "      <th>start station longitude</th>\n",
       "      <th>start station name</th>\n",
       "      <th>starttime</th>\n",
       "      <th>stoptime</th>\n",
       "      <th>time</th>\n",
       "      <th>tripduration</th>\n",
       "      <th>usertype</th>\n",
       "      <th>County</th>\n",
       "      <th>age</th>\n",
       "    </tr>\n",
       "  </thead>\n",
       "  <tbody>\n",
       "    <tr>\n",
       "      <th>1013144</th>\n",
       "      <td>23416</td>\n",
       "      <td>1982.0</td>\n",
       "      <td>2016-04-30 23:59:39</td>\n",
       "      <td>NaN</td>\n",
       "      <td>NaN</td>\n",
       "      <td>3179</td>\n",
       "      <td>40.698617</td>\n",
       "      <td>-73.941342</td>\n",
       "      <td>Park Ave &amp; Marcus Garvey Blvd</td>\n",
       "      <td>1</td>\n",
       "      <td>...</td>\n",
       "      <td>40.692371</td>\n",
       "      <td>-73.937054</td>\n",
       "      <td>Lewis Ave &amp; Kosciuszko St</td>\n",
       "      <td>4/30/2016 23:59:39</td>\n",
       "      <td>5/1/2016 00:04:57</td>\n",
       "      <td>NaN</td>\n",
       "      <td>318</td>\n",
       "      <td>Subscriber</td>\n",
       "      <td>0</td>\n",
       "      <td>34.0</td>\n",
       "    </tr>\n",
       "    <tr>\n",
       "      <th>1013145</th>\n",
       "      <td>22337</td>\n",
       "      <td>1975.0</td>\n",
       "      <td>2016-04-30 23:59:42</td>\n",
       "      <td>NaN</td>\n",
       "      <td>NaN</td>\n",
       "      <td>391</td>\n",
       "      <td>40.697601</td>\n",
       "      <td>-73.993446</td>\n",
       "      <td>Clark St &amp; Henry St</td>\n",
       "      <td>1</td>\n",
       "      <td>...</td>\n",
       "      <td>40.690893</td>\n",
       "      <td>-73.996123</td>\n",
       "      <td>Henry St &amp; Atlantic Ave</td>\n",
       "      <td>4/30/2016 23:59:42</td>\n",
       "      <td>5/1/2016 00:05:02</td>\n",
       "      <td>NaN</td>\n",
       "      <td>319</td>\n",
       "      <td>Subscriber</td>\n",
       "      <td>0</td>\n",
       "      <td>41.0</td>\n",
       "    </tr>\n",
       "    <tr>\n",
       "      <th>1013146</th>\n",
       "      <td>16904</td>\n",
       "      <td>1965.0</td>\n",
       "      <td>2016-04-30 23:59:48</td>\n",
       "      <td>NaN</td>\n",
       "      <td>NaN</td>\n",
       "      <td>291</td>\n",
       "      <td>40.713126</td>\n",
       "      <td>-73.984844</td>\n",
       "      <td>Madison St &amp; Montgomery St</td>\n",
       "      <td>1</td>\n",
       "      <td>...</td>\n",
       "      <td>40.716059</td>\n",
       "      <td>-73.991908</td>\n",
       "      <td>Allen St &amp; Hester St</td>\n",
       "      <td>4/30/2016 23:59:48</td>\n",
       "      <td>5/1/2016 00:05:01</td>\n",
       "      <td>NaN</td>\n",
       "      <td>313</td>\n",
       "      <td>Subscriber</td>\n",
       "      <td>1</td>\n",
       "      <td>51.0</td>\n",
       "    </tr>\n",
       "    <tr>\n",
       "      <th>1013147</th>\n",
       "      <td>23865</td>\n",
       "      <td>1982.0</td>\n",
       "      <td>2016-04-30 23:59:49</td>\n",
       "      <td>NaN</td>\n",
       "      <td>NaN</td>\n",
       "      <td>492</td>\n",
       "      <td>40.750200</td>\n",
       "      <td>-73.990931</td>\n",
       "      <td>W 33 St &amp; 7 Ave</td>\n",
       "      <td>1</td>\n",
       "      <td>...</td>\n",
       "      <td>40.751396</td>\n",
       "      <td>-74.005226</td>\n",
       "      <td>11 Ave &amp; W 27 St</td>\n",
       "      <td>4/30/2016 23:59:49</td>\n",
       "      <td>5/1/2016 00:05:27</td>\n",
       "      <td>NaN</td>\n",
       "      <td>338</td>\n",
       "      <td>Subscriber</td>\n",
       "      <td>1</td>\n",
       "      <td>34.0</td>\n",
       "    </tr>\n",
       "    <tr>\n",
       "      <th>1013148</th>\n",
       "      <td>20325</td>\n",
       "      <td>NaN</td>\n",
       "      <td>2016-04-30 23:59:53</td>\n",
       "      <td>NaN</td>\n",
       "      <td>NaN</td>\n",
       "      <td>263</td>\n",
       "      <td>40.717290</td>\n",
       "      <td>-73.996375</td>\n",
       "      <td>Elizabeth St &amp; Hester St</td>\n",
       "      <td>0</td>\n",
       "      <td>...</td>\n",
       "      <td>40.717290</td>\n",
       "      <td>-73.996375</td>\n",
       "      <td>Elizabeth St &amp; Hester St</td>\n",
       "      <td>4/30/2016 23:59:53</td>\n",
       "      <td>5/1/2016 00:01:35</td>\n",
       "      <td>NaN</td>\n",
       "      <td>102</td>\n",
       "      <td>Customer</td>\n",
       "      <td>1</td>\n",
       "      <td>NaN</td>\n",
       "    </tr>\n",
       "  </tbody>\n",
       "</table>\n",
       "<p>5 rows × 22 columns</p>\n",
       "</div>"
      ],
      "text/plain": [
       "         bikeid  birth year                date  dayduration daynight  \\\n",
       "1013144   23416      1982.0 2016-04-30 23:59:39          NaN      NaN   \n",
       "1013145   22337      1975.0 2016-04-30 23:59:42          NaN      NaN   \n",
       "1013146   16904      1965.0 2016-04-30 23:59:48          NaN      NaN   \n",
       "1013147   23865      1982.0 2016-04-30 23:59:49          NaN      NaN   \n",
       "1013148   20325         NaN 2016-04-30 23:59:53          NaN      NaN   \n",
       "\n",
       "         end station id  end station latitude  end station longitude  \\\n",
       "1013144            3179             40.698617             -73.941342   \n",
       "1013145             391             40.697601             -73.993446   \n",
       "1013146             291             40.713126             -73.984844   \n",
       "1013147             492             40.750200             -73.990931   \n",
       "1013148             263             40.717290             -73.996375   \n",
       "\n",
       "                      end station name  gender  ...   start station latitude  \\\n",
       "1013144  Park Ave & Marcus Garvey Blvd       1  ...                40.692371   \n",
       "1013145            Clark St & Henry St       1  ...                40.690893   \n",
       "1013146     Madison St & Montgomery St       1  ...                40.716059   \n",
       "1013147                W 33 St & 7 Ave       1  ...                40.751396   \n",
       "1013148       Elizabeth St & Hester St       0  ...                40.717290   \n",
       "\n",
       "         start station longitude         start station name  \\\n",
       "1013144               -73.937054  Lewis Ave & Kosciuszko St   \n",
       "1013145               -73.996123    Henry St & Atlantic Ave   \n",
       "1013146               -73.991908       Allen St & Hester St   \n",
       "1013147               -74.005226           11 Ave & W 27 St   \n",
       "1013148               -73.996375   Elizabeth St & Hester St   \n",
       "\n",
       "                  starttime           stoptime time tripduration    usertype  \\\n",
       "1013144  4/30/2016 23:59:39  5/1/2016 00:04:57  NaN          318  Subscriber   \n",
       "1013145  4/30/2016 23:59:42  5/1/2016 00:05:02  NaN          319  Subscriber   \n",
       "1013146  4/30/2016 23:59:48  5/1/2016 00:05:01  NaN          313  Subscriber   \n",
       "1013147  4/30/2016 23:59:49  5/1/2016 00:05:27  NaN          338  Subscriber   \n",
       "1013148  4/30/2016 23:59:53  5/1/2016 00:01:35  NaN          102    Customer   \n",
       "\n",
       "         County   age  \n",
       "1013144       0  34.0  \n",
       "1013145       0  41.0  \n",
       "1013146       1  51.0  \n",
       "1013147       1  34.0  \n",
       "1013148       1   NaN  \n",
       "\n",
       "[5 rows x 22 columns]"
      ]
     },
     "execution_count": 34,
     "metadata": {},
     "output_type": "execute_result"
    }
   ],
   "source": [
    "dfff[\"County\"] = dfff[[\"start station latitude\" , \"start station longitude\"]].apply(borough_sort, axis = 1)\n",
    "dfff.tail()"
   ]
  },
  {
   "cell_type": "code",
   "execution_count": 35,
   "metadata": {
    "collapsed": false
   },
   "outputs": [],
   "source": [
    "#Creating an array to do pearson and spearman, dropping nan values\n",
    "\n",
    "man = dfff.age[dfff[\"County\"] == 1]\n",
    "man = man.dropna()\n",
    "bkn = dfff.age[dfff[\"County\"] == 0]\n",
    "bkn = bkn.dropna()"
   ]
  },
  {
   "cell_type": "code",
   "execution_count": 36,
   "metadata": {
    "collapsed": false
   },
   "outputs": [
    {
     "data": {
      "text/plain": [
       "1644083"
      ]
     },
     "execution_count": 36,
     "metadata": {},
     "output_type": "execute_result"
    }
   ],
   "source": [
    "#Turning into an np array\n",
    "\n",
    "man = np.asarray(man)\n",
    "bkn = np.asarray(bkn)\n",
    "len(man)"
   ]
  },
  {
   "cell_type": "code",
   "execution_count": 37,
   "metadata": {
    "collapsed": false
   },
   "outputs": [
    {
     "data": {
      "text/plain": [
       "65274"
      ]
     },
     "execution_count": 37,
     "metadata": {},
     "output_type": "execute_result"
    }
   ],
   "source": [
    "len(bkn)"
   ]
  },
  {
   "cell_type": "code",
   "execution_count": 38,
   "metadata": {
    "collapsed": false
   },
   "outputs": [],
   "source": [
    "#Take a sample from manhattan that is the same size as brooklyn\n",
    "# 65274/200\n",
    "# replace = false so that selection will not be repeated\n",
    "bkn200 = np.random.choice(man, size=326, replace=False)\n",
    "man200 = np.random.choice(bkn, size=326, replace=False)"
   ]
  },
  {
   "cell_type": "code",
   "execution_count": 39,
   "metadata": {
    "collapsed": false
   },
   "outputs": [
    {
     "name": "stdout",
     "output_type": "stream",
     "text": [
      "Ks_2sampResult(statistic=0.10816809410622316, pvalue=0.0)\n"
     ]
    }
   ],
   "source": [
    "#KS test for entire dataset\n",
    "ks = scipy.stats.ks_2samp(man, bkn)\n",
    "print (ks)"
   ]
  },
  {
   "cell_type": "markdown",
   "metadata": {},
   "source": [
    "Given that the p-value of 0 is less than 0.05, the statistics value of 0.108 is less than 1.36 hence we cannot reject the null hypothesis. In other words, the ages of riders beginning from manhattan and brooklyn are the same. "
   ]
  },
  {
   "cell_type": "code",
   "execution_count": 40,
   "metadata": {
    "collapsed": false
   },
   "outputs": [
    {
     "name": "stdout",
     "output_type": "stream",
     "text": [
      "Ks_2sampResult(statistic=0.09815950920245398, pvalue=0.081135923490705614)\n"
     ]
    }
   ],
   "source": [
    "ks = scipy.stats.ks_2samp(man200, bkn200)\n",
    "print (ks)"
   ]
  },
  {
   "cell_type": "markdown",
   "metadata": {},
   "source": [
    "for the test on a smaller sample, the p-value of 0.282 is more than 0.05, therefore the null hypothesis cannot be rejected. "
   ]
  },
  {
   "cell_type": "code",
   "execution_count": 41,
   "metadata": {
    "collapsed": true
   },
   "outputs": [],
   "source": [
    "#sort the arrays\n",
    "sortbkn = np.sort(bkn200)\n",
    "sortman = np.sort(man200)"
   ]
  },
  {
   "cell_type": "code",
   "execution_count": 42,
   "metadata": {
    "collapsed": false
   },
   "outputs": [
    {
     "name": "stdout",
     "output_type": "stream",
     "text": [
      "(0.99625266044165395, 0.0)\n"
     ]
    }
   ],
   "source": [
    "pr = scipy.stats.pearsonr(sortbkn, sortman)\n",
    "print (pr)"
   ]
  },
  {
   "cell_type": "markdown",
   "metadata": {},
   "source": [
    "The results show a correlation coefficient value close to 1, implying a almost perfectly positive linear relationship. The p-value of 0 (<0.05) implies that the correlation is statistically significant. In other words, the ages of riders starting from Manhattan and Brooklyn are the same, we cannot reject the null hypothesis. Young riders from Manhattan correlate perfectly with young riders from Brooklyn\n"
   ]
  },
  {
   "cell_type": "code",
   "execution_count": 43,
   "metadata": {
    "collapsed": false
   },
   "outputs": [
    {
     "name": "stdout",
     "output_type": "stream",
     "text": [
      "SpearmanrResult(correlation=0.9987957928628276, pvalue=0.0)\n"
     ]
    }
   ],
   "source": [
    "sp = scipy.stats.spearmanr(sortbkn, sortman)\n",
    "print (sp)"
   ]
  },
  {
   "cell_type": "markdown",
   "metadata": {},
   "source": [
    "The results show a correlation coefficient value close to 1, implying a almost perfectly positive linear relationship. The p-value of 0 (<0.05) implies that the correlation is statistically significant. In other words, the ages of riders starting from Manhattan and Brooklyn are the same, we cannot reject the null hypothesis. Young riders from Manhattan correlate perfectly with young riders from Brooklyn"
   ]
  },
  {
   "cell_type": "code",
   "execution_count": null,
   "metadata": {
    "collapsed": true
   },
   "outputs": [],
   "source": []
  }
 ],
 "metadata": {
  "kernelspec": {
   "display_name": "PUI2016_Python2",
   "language": "python",
   "name": "pui2016_python2"
  },
  "language_info": {
   "codemirror_mode": {
    "name": "ipython",
    "version": 2
   },
   "file_extension": ".py",
   "mimetype": "text/x-python",
   "name": "python",
   "nbconvert_exporter": "python",
   "pygments_lexer": "ipython2",
   "version": "2.7.12"
  }
 },
 "nbformat": 4,
 "nbformat_minor": 0
}
