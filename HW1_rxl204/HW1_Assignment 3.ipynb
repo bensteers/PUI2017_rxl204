{
 "cells": [
  {
   "cell_type": "code",
   "execution_count": 4,
   "metadata": {},
   "outputs": [],
   "source": [
    "from __future__ import print_function\n",
    "import os\n",
    "import sys\n",
    "import numpy as np\n",
    "import random"
   ]
  },
  {
   "cell_type": "code",
   "execution_count": 5,
   "metadata": {},
   "outputs": [],
   "source": [
    "np.random.seed(seed=None)"
   ]
  },
  {
   "cell_type": "code",
   "execution_count": 6,
   "metadata": {},
   "outputs": [],
   "source": [
    "ReprRand = np.random.randn(2,100)"
   ]
  },
  {
   "cell_type": "code",
   "execution_count": 7,
   "metadata": {},
   "outputs": [
    {
     "data": {
      "text/plain": [
       "(2, 100)"
      ]
     },
     "execution_count": 7,
     "metadata": {},
     "output_type": "execute_result"
    }
   ],
   "source": [
    "ReprRand.shape"
   ]
  },
  {
   "cell_type": "code",
   "execution_count": 20,
   "metadata": {},
   "outputs": [],
   "source": [
    "ReprRandAll = np.zeros((50, 2, 100))\n",
    "for i in range(50): \n",
    "    ReprRandAll[i] = np.random.randn(2,100) + random.randint(0,50)"
   ]
  },
  {
   "cell_type": "code",
   "execution_count": 21,
   "metadata": {},
   "outputs": [
    {
     "data": {
      "text/plain": [
       "(50, 2, 100)"
      ]
     },
     "execution_count": 21,
     "metadata": {},
     "output_type": "execute_result"
    }
   ],
   "source": [
    "ReprRandAll.shape"
   ]
  },
  {
   "cell_type": "code",
   "execution_count": 39,
   "metadata": {},
   "outputs": [
    {
     "name": "stdout",
     "output_type": "stream",
     "text": [
      "Populating the interactive namespace from numpy and matplotlib\n"
     ]
    },
    {
     "data": {
      "text/plain": [
       "array([[[ 28.3821592 ,  28.11515325,  29.44361885, ...,  27.4828408 ,\n",
       "          27.63506714,  30.09675494],\n",
       "        [ 28.40678183,  27.88806269,  28.17333919, ...,  28.34550241,\n",
       "          27.9476418 ,  27.4019075 ]],\n",
       "\n",
       "       [[ 24.0704818 ,  24.10347054,  23.89132599, ...,  24.57047033,\n",
       "          24.3645911 ,  25.6806832 ],\n",
       "        [ 24.6367285 ,  25.0667269 ,  25.05015773, ...,  25.45346141,\n",
       "          24.25253569,  24.61745231]],\n",
       "\n",
       "       [[ 39.66070848,  38.75889696,  39.33028489, ...,  37.265063  ,\n",
       "          38.07788539,  39.14854695],\n",
       "        [ 39.02500874,  38.13891689,  38.83823013, ...,  38.69895754,\n",
       "          37.9496252 ,  40.1923704 ]],\n",
       "\n",
       "       ..., \n",
       "       [[ 43.67098225,  44.86078389,  44.37712122, ...,  44.46144491,\n",
       "          41.91420876,  43.2170853 ],\n",
       "        [ 42.67067773,  42.95345673,  42.23339621, ...,  40.86998923,\n",
       "          43.94216484,  44.11963014]],\n",
       "\n",
       "       [[ 13.04151466,  13.12913748,  12.69288343, ...,  13.68004597,\n",
       "          13.30635444,  13.95456208],\n",
       "        [ 14.99740827,  13.8539745 ,  13.00613704, ...,  12.55103933,\n",
       "          15.11398945,  13.0185889 ]],\n",
       "\n",
       "       [[  9.86664815,   9.27891007,   8.69802991, ...,   9.46354201,\n",
       "           9.96419218,   7.29369058],\n",
       "        [  9.56679899,  10.46744581,   9.68093716, ...,  10.41371865,\n",
       "           7.85657411,   8.44788986]]])"
      ]
     },
     "execution_count": 39,
     "metadata": {},
     "output_type": "execute_result"
    }
   ],
   "source": [
    "import matplotlib.pyplot as plt\n",
    "import matplotlib.pylab as pl\n",
    "%pylab inline\n",
    "\n",
    "#plt.plot(,,'ro')\n",
    "\n",
    "ReprRandAll"
   ]
  },
  {
   "cell_type": "code",
   "execution_count": null,
   "metadata": {
    "collapsed": true
   },
   "outputs": [],
   "source": []
  }
 ],
 "metadata": {
  "kernelspec": {
   "display_name": "Python 2",
   "language": "python",
   "name": "python2"
  },
  "language_info": {
   "codemirror_mode": {
    "name": "ipython",
    "version": 2
   },
   "file_extension": ".py",
   "mimetype": "text/x-python",
   "name": "python",
   "nbconvert_exporter": "python",
   "pygments_lexer": "ipython2",
   "version": "2.7.13"
  }
 },
 "nbformat": 4,
 "nbformat_minor": 2
}
