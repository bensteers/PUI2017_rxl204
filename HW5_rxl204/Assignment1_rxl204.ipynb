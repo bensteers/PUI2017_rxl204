{
 "cells": [
  {
   "cell_type": "markdown",
   "metadata": {},
   "source": [
    "## Assignment 1: Test the Z-test"
   ]
  },
  {
   "cell_type": "code",
   "execution_count": 1,
   "metadata": {
    "collapsed": false
   },
   "outputs": [
    {
     "name": "stdout",
     "output_type": "stream",
     "text": [
      "Populating the interactive namespace from numpy and matplotlib\n"
     ]
    }
   ],
   "source": [
    "#taking sample and measuring z statistic --> gaussian distribution\n",
    "import numpy as np\n",
    "import pylab as pl\n",
    "import scipy as sp\n",
    "from scipy import stats\n",
    "%pylab inline\n"
   ]
  },
  {
   "cell_type": "markdown",
   "metadata": {},
   "source": [
    "## Generate Poisson Distribution\n",
    "Generate N samples from a distribution of your choice, but not a Gaussian with a chosen mean μ and standard deviation σ: N(μ, σ) and calculate the mean of each sample (all samples should have the same size n)."
   ]
  },
  {
   "cell_type": "code",
   "execution_count": 2,
   "metadata": {
    "collapsed": false
   },
   "outputs": [
    {
     "data": {
      "text/plain": [
       "array([57, 40, 39, 48, 53, 57, 47, 54, 61, 56, 45, 39, 45, 59, 51, 45, 41,\n",
       "       58, 56, 58, 48, 57, 54, 55, 45, 54, 62, 55, 49, 52, 60, 52, 46, 58,\n",
       "       47, 58, 52, 54, 53, 58, 67, 59, 60, 43, 52, 42, 53, 53, 49, 66, 54,\n",
       "       50, 42, 36, 51, 50, 63, 45, 55, 47, 48, 47, 42, 75, 41, 40, 62, 48,\n",
       "       37, 56, 45, 52, 49, 50, 57, 60, 51, 51, 46, 51, 59, 38, 47, 54, 38,\n",
       "       56, 46, 45, 51, 55, 40, 42, 67, 64, 45, 47, 58, 41, 43, 47, 46, 52,\n",
       "       53, 43, 46, 55, 58, 48, 50, 35, 38, 36, 59, 52, 63, 47, 53, 64, 49,\n",
       "       42, 56, 49, 47, 45, 50, 47, 46, 46, 50, 71, 54, 52, 51, 46, 46, 50,\n",
       "       46, 35, 48, 53, 58, 48, 47, 44, 52, 55, 44, 39, 37, 62, 50, 56, 53,\n",
       "       49, 56, 42, 35, 44, 50, 50, 53, 57, 47, 56, 43, 46, 49, 51, 48, 46,\n",
       "       61, 42, 53, 49, 56, 51, 50, 56, 47, 55, 47, 45, 54, 51, 56, 45, 43,\n",
       "       40, 42, 62, 48, 50, 37, 50, 43, 51, 42, 54, 46, 46, 45, 51, 52, 55,\n",
       "       47, 53, 50, 53, 52, 47, 33, 42, 51, 49, 45, 50, 34, 41, 45, 48, 39,\n",
       "       49, 51, 49, 50, 48, 31, 59, 54, 57, 49, 42, 49, 65, 59, 50, 53, 45,\n",
       "       52, 51, 40, 50, 59, 55, 49, 58, 46, 46, 48, 43, 47, 41, 55, 55, 52,\n",
       "       46, 42, 45, 39, 50, 44, 45, 43, 47, 44, 65, 63, 51, 60, 49, 50, 55,\n",
       "       41, 44, 51, 58, 63, 45, 55, 58, 53, 54, 56, 45, 54, 58, 49, 56, 53,\n",
       "       41, 53, 45, 55, 52, 53, 46, 51, 37, 49, 48, 51, 57, 38, 53, 36, 43,\n",
       "       40, 49, 55, 48, 56, 44, 59, 59, 40, 51, 50, 61, 41, 52, 51, 41, 49,\n",
       "       48, 58, 35, 52, 42, 57, 38, 47, 58, 39, 56, 55, 60, 50, 65, 39, 54,\n",
       "       46, 51, 56, 39, 47, 54, 45, 39, 60, 50, 58, 44, 45, 50, 60, 50, 49,\n",
       "       51, 52, 32, 45, 54, 41, 50, 48, 48, 53, 51, 49, 55, 40, 56, 49, 48,\n",
       "       57, 43, 49, 47, 53, 56, 52, 56, 42, 55, 47, 45, 46, 58, 48, 60, 47,\n",
       "       51, 52, 50, 46, 35, 51, 39, 56, 59, 61, 61, 56, 50, 51, 48, 52, 56,\n",
       "       47, 45, 52, 46, 52, 49, 48, 46, 38, 48, 43, 53, 51, 56, 48, 57, 50,\n",
       "       45, 39, 52, 56, 57, 65, 39, 46, 49, 62, 47, 44, 48, 49, 61, 50, 50,\n",
       "       50, 71, 51, 58, 50, 56, 50, 39, 48, 48, 53, 53, 39, 54, 43, 42, 42,\n",
       "       52, 50, 53, 43, 49, 45, 60, 55, 48, 59, 36, 42, 44, 57, 50, 48, 55,\n",
       "       46, 42, 53, 41, 51, 53, 46, 61, 51, 60, 50, 51, 52, 44, 61, 53, 45,\n",
       "       51, 49, 42, 42, 50, 58, 56, 38, 52, 39, 31, 46, 63, 47, 42, 39, 44,\n",
       "       47, 49, 46, 45, 48, 38, 46, 57, 59, 45, 61, 45, 59, 45, 47, 54, 63,\n",
       "       37, 65, 54, 45, 52, 56, 49, 53, 46, 57, 55, 58, 39, 57, 65, 51, 69,\n",
       "       47, 54, 51, 40, 59, 53, 51, 38, 56, 50, 42, 45, 51, 45, 48, 43, 52,\n",
       "       54, 46, 55, 48, 42, 55, 42, 26, 50, 40, 57, 54, 65, 44, 53, 51, 54,\n",
       "       57, 53, 49, 34, 50, 61, 42, 48, 40, 59, 49, 53, 45, 34, 48, 50, 45,\n",
       "       34, 61, 46, 60, 63, 59, 49, 50, 56, 48, 61, 62, 44, 43, 44, 54, 50,\n",
       "       46, 43, 52, 57, 52, 43, 49, 41, 58, 54, 48, 40, 53, 58, 46, 41, 47,\n",
       "       62, 50, 44, 49, 44, 49, 46, 39, 43, 53, 45, 52, 54, 49, 59, 48, 52,\n",
       "       52, 55, 38, 53, 61, 45, 44, 49, 55, 52, 37, 47, 59, 51, 51, 49, 62,\n",
       "       55, 72, 54, 48, 49, 51, 52, 56, 51, 54, 55, 46, 65, 44, 37, 41, 50,\n",
       "       54, 45, 46, 43, 53, 47, 40, 48, 51, 54, 50, 46, 48, 55, 57, 39, 43,\n",
       "       57, 55, 54, 46, 44, 43, 67, 51, 50, 36, 52, 49, 45, 55, 41, 52, 52,\n",
       "       41, 46, 46, 42, 45, 51, 51, 50, 44, 49, 46, 58, 41, 46, 42, 62, 48,\n",
       "       53, 49, 58, 54, 52, 53, 50, 54, 39, 38, 31, 47, 57, 39, 51, 56, 55,\n",
       "       60, 47, 59, 47, 37, 56, 53, 48, 46, 37, 45, 64, 58, 62, 51, 42, 55,\n",
       "       40, 50, 38, 52, 49, 42, 47, 45, 43, 42, 51, 55, 53, 57, 38, 44, 49,\n",
       "       53, 49, 49, 57, 57, 54, 46, 60, 49, 64, 45, 55, 48, 47, 61, 49, 37,\n",
       "       50, 40, 56, 58, 56, 42, 53, 48, 61, 31, 50, 53, 56, 48, 34, 60, 35,\n",
       "       55, 51, 50, 46, 42, 50, 45, 44, 49, 52, 51, 63, 40, 66, 44, 60, 48,\n",
       "       56, 50, 50, 51, 59, 47, 45, 51, 49, 40, 61, 47, 40, 48, 39, 48, 52,\n",
       "       56, 46, 49, 49, 53, 42, 50, 52, 48, 55, 47, 58, 47, 54, 59, 47, 46,\n",
       "       48, 46, 59, 53, 47, 50, 55, 61, 56, 45, 47, 32, 48, 53, 40, 52, 56,\n",
       "       40, 48, 47, 50, 63, 53, 56, 29, 53, 56, 54, 48, 47, 52, 64, 47, 57,\n",
       "       43, 44, 58, 52, 47, 37, 45, 59, 56, 51, 41, 47, 37, 50, 49, 48, 40,\n",
       "       50, 54, 42, 49, 50, 44, 61, 45, 46, 46, 55, 51, 47, 51, 44, 58, 49,\n",
       "       63, 59, 40, 55, 43, 57, 63, 40, 54, 35, 48, 38, 37, 58, 46, 52, 56,\n",
       "       41, 53, 60, 41, 40, 48, 48, 52, 48, 42, 35, 47, 60, 72, 52, 51, 54,\n",
       "       44, 40, 45, 71, 41, 55, 57, 56, 40, 46, 45, 44, 55, 44, 59, 56, 49,\n",
       "       46, 49, 50, 35, 53, 42, 48, 59, 51, 46, 46, 60, 52, 52])"
      ]
     },
     "execution_count": 2,
     "metadata": {},
     "output_type": "execute_result"
    }
   ],
   "source": [
    "np.random.seed(999)\n",
    "#decide on a population\n",
    "mymean = 50. #make it float\n",
    "mystdev = np.sqrt(mymean)\n",
    "sp.stats.poisson.rvs(mymean, size=1000)"
   ]
  },
  {
   "cell_type": "markdown",
   "metadata": {},
   "source": [
    "## Plot your original distribution"
   ]
  },
  {
   "cell_type": "code",
   "execution_count": 3,
   "metadata": {
    "collapsed": false
   },
   "outputs": [
    {
     "data": {
      "text/plain": [
       "<matplotlib.text.Text at 0x7fbd66f1b950>"
      ]
     },
     "execution_count": 3,
     "metadata": {},
     "output_type": "execute_result"
    },
    {
     "data": {
      "image/png": "[encoded data removed]",
      "text/plain": [
       "<matplotlib.figure.Figure at 0x7fbdc4074e90>"
      ]
     },
     "metadata": {},
     "output_type": "display_data"
    }
   ],
   "source": [
    "#make a histogram \n",
    "pl.hist(sp.stats.poisson.rvs(mymean, size=1000))  #draw sample from popln\n",
    "pl.title('Poisson Distribition')\n",
    "pl.xlabel('')\n",
    "pl.ylabel('frequency')"
   ]
  },
  {
   "cell_type": "code",
   "execution_count": 4,
   "metadata": {
    "collapsed": false
   },
   "outputs": [],
   "source": [
    "#calculate means for 1000 samples\n",
    "mymean =50\n",
    "mystdev = np.sqrt(mymean)\n",
    "Nsamples = 100\n",
    "nit = 1000\n",
    "myDmeans = np.zeros(nit)\n",
    "\n",
    "for i in range (1000): \n",
    "        mydistrib = sp.stats.poisson.rvs(mymean, size=Nsamples)\n",
    "        myDmeans[i] = mydistrib.mean()"
   ]
  },
  {
   "cell_type": "code",
   "execution_count": 5,
   "metadata": {
    "collapsed": false
   },
   "outputs": [
    {
     "data": {
      "text/plain": [
       "array([ 50.82,  49.  ,  49.61,  49.63,  49.33,  50.09,  49.7 ,  49.1 ,\n",
       "        50.25,  50.16,  49.55,  50.12,  50.28,  50.25,  49.01,  49.78,\n",
       "        49.42,  49.77,  50.22,  49.55,  50.2 ,  49.3 ,  50.37,  49.72,\n",
       "        49.07,  48.73,  50.49,  50.83,  49.38,  49.38,  49.41,  51.13,\n",
       "        50.25,  49.38,  50.83,  49.8 ,  49.84,  50.14,  50.44,  50.54,\n",
       "        49.32,  49.12,  50.28,  49.86,  48.88,  50.39,  49.36,  50.04,\n",
       "        49.22,  49.87,  49.95,  49.67,  49.77,  49.36,  49.86,  50.33,\n",
       "        51.07,  49.32,  49.13,  50.52,  49.17,  49.46,  50.22,  50.92,\n",
       "        49.77,  48.08,  50.49,  50.91,  50.53,  49.54,  50.66,  51.07,\n",
       "        49.72,  50.03,  49.74,  50.32,  49.94,  49.41,  50.86,  49.73,\n",
       "        50.67,  49.38,  50.73,  48.55,  50.74,  50.32,  49.46,  50.13,\n",
       "        50.74,  49.8 ,  49.18,  49.68,  48.2 ,  47.8 ,  49.36,  51.22,\n",
       "        49.49,  50.81,  50.36,  50.37,  50.01,  49.84,  49.49,  50.02,\n",
       "        49.85,  50.76,  49.78,  49.67,  49.58,  51.97,  50.51,  50.89,\n",
       "        50.03,  49.4 ,  49.78,  50.71,  49.69,  47.71,  50.37,  50.23,\n",
       "        51.03,  50.28,  49.51,  50.02,  50.52,  50.18,  48.23,  49.67,\n",
       "        49.96,  50.14,  49.86,  50.31,  50.33,  50.9 ,  50.61,  50.31,\n",
       "        49.51,  50.41,  49.42,  49.44,  50.53,  50.26,  49.23,  50.43,\n",
       "        50.74,  50.19,  49.65,  50.58,  50.44,  49.24,  49.7 ,  49.36,\n",
       "        50.5 ,  49.89,  50.7 ,  49.25,  51.01,  50.83,  50.56,  51.51,\n",
       "        49.87,  50.14,  47.78,  49.24,  49.8 ,  49.89,  48.93,  50.28,\n",
       "        49.7 ,  49.12,  51.1 ,  50.68,  50.62,  48.95,  50.1 ,  50.33,\n",
       "        49.95,  51.31,  51.08,  50.41,  49.78,  49.66,  49.91,  49.45,\n",
       "        49.44,  48.23,  50.4 ,  49.59,  49.28,  50.94,  49.91,  48.79,\n",
       "        49.93,  48.79,  50.25,  50.86,  49.97,  51.09,  50.12,  49.57,\n",
       "        50.73,  50.03,  49.41,  48.42,  50.62,  48.74,  50.58,  51.25,\n",
       "        50.02,  50.81,  51.01,  50.88,  50.18,  49.14,  49.52,  49.31,\n",
       "        50.07,  50.6 ,  49.56,  49.01,  49.26,  49.77,  49.86,  50.71,\n",
       "        51.96,  50.63,  49.74,  50.99,  49.63,  49.48,  50.58,  50.51,\n",
       "        50.28,  50.9 ,  50.97,  50.59,  49.1 ,  49.47,  49.79,  50.73,\n",
       "        50.02,  49.94,  50.3 ,  49.56,  50.12,  50.72,  50.19,  50.5 ,\n",
       "        49.21,  49.56,  49.47,  49.58,  49.83,  50.15,  50.77,  51.76,\n",
       "        48.48,  51.29,  50.45,  50.28,  51.64,  49.02,  51.28,  50.48,\n",
       "        49.74,  50.81,  49.44,  50.4 ,  50.66,  49.66,  50.03,  48.26,\n",
       "        49.32,  50.19,  49.71,  49.2 ,  49.22,  50.01,  49.55,  50.13,\n",
       "        49.92,  49.97,  50.75,  49.96,  51.01,  49.42,  50.16,  49.58,\n",
       "        49.15,  49.65,  50.  ,  48.95,  49.86,  50.25,  49.86,  50.54,\n",
       "        51.04,  49.96,  49.93,  49.73,  49.76,  50.75,  49.18,  49.43,\n",
       "        50.  ,  49.21,  50.01,  50.4 ,  50.19,  50.07,  50.54,  49.21,\n",
       "        50.88,  50.41,  49.53,  49.53,  49.66,  49.09,  49.82,  49.14,\n",
       "        50.61,  50.12,  50.74,  50.08,  49.71,  49.99,  49.3 ,  50.01,\n",
       "        49.61,  49.89,  51.08,  49.62,  49.39,  49.2 ,  49.93,  49.77,\n",
       "        49.66,  50.46,  50.98,  49.58,  49.96,  50.48,  49.37,  49.5 ,\n",
       "        49.62,  50.52,  49.54,  49.97,  50.06,  51.66,  51.36,  49.71,\n",
       "        49.79,  49.67,  49.04,  49.38,  50.16,  50.55,  49.6 ,  49.45,\n",
       "        50.26,  50.34,  50.18,  49.53,  50.4 ,  49.92,  49.64,  50.74,\n",
       "        50.55,  50.41,  48.85,  49.42,  49.78,  51.27,  51.61,  48.62,\n",
       "        50.22,  50.49,  51.05,  51.54,  49.55,  49.78,  50.97,  50.48,\n",
       "        50.28,  50.5 ,  50.37,  50.61,  48.78,  49.35,  50.36,  49.76,\n",
       "        51.55,  50.7 ,  51.23,  49.39,  50.64,  49.78,  50.4 ,  50.51,\n",
       "        50.85,  50.15,  50.03,  50.45,  49.8 ,  50.66,  49.42,  49.9 ,\n",
       "        49.18,  50.3 ,  50.57,  50.01,  50.63,  50.39,  49.51,  49.65,\n",
       "        49.4 ,  51.16,  49.52,  48.93,  49.6 ,  49.  ,  50.33,  49.79,\n",
       "        50.16,  51.15,  49.92,  50.5 ,  50.73,  49.85,  49.94,  49.99,\n",
       "        50.21,  50.25,  49.6 ,  49.01,  50.19,  49.42,  49.42,  50.24,\n",
       "        50.25,  50.68,  50.4 ,  49.64,  49.78,  50.25,  49.66,  49.65,\n",
       "        48.75,  49.92,  50.36,  50.18,  50.56,  50.07,  49.84,  49.77,\n",
       "        49.84,  50.48,  49.59,  49.33,  49.65,  49.63,  51.27,  51.37,\n",
       "        49.81,  48.43,  51.29,  50.53,  50.4 ,  50.86,  49.7 ,  48.2 ,\n",
       "        49.4 ,  49.78,  48.86,  49.18,  51.36,  50.95,  51.48,  49.79,\n",
       "        49.46,  49.64,  50.1 ,  48.63,  50.32,  49.8 ,  50.65,  50.89,\n",
       "        50.78,  49.83,  49.63,  51.01,  50.7 ,  49.22,  49.19,  51.34,\n",
       "        49.42,  49.84,  49.82,  50.27,  50.06,  49.5 ,  49.83,  48.95,\n",
       "        50.35,  49.93,  49.92,  48.93,  50.4 ,  50.04,  49.25,  50.82,\n",
       "        50.08,  50.39,  50.01,  49.39,  51.24,  49.36,  50.37,  49.83,\n",
       "        50.64,  49.43,  49.31,  50.73,  49.87,  48.85,  48.82,  50.01,\n",
       "        50.89,  49.29,  49.88,  50.8 ,  49.19,  51.01,  49.96,  50.31,\n",
       "        49.08,  50.12,  50.18,  49.92,  50.48,  48.99,  49.94,  49.05,\n",
       "        50.58,  48.82,  50.37,  49.01,  50.12,  49.62,  49.54,  49.13,\n",
       "        51.03,  48.35,  49.48,  49.22,  49.64,  50.52,  50.38,  49.26,\n",
       "        49.83,  50.27,  49.79,  50.74,  50.64,  49.92,  50.89,  49.09,\n",
       "        50.15,  49.52,  50.34,  49.99,  49.18,  50.71,  50.75,  50.68,\n",
       "        50.11,  49.86,  50.32,  48.43,  49.81,  49.06,  50.92,  49.14,\n",
       "        49.64,  50.14,  49.69,  50.9 ,  50.27,  49.77,  50.07,  50.04,\n",
       "        49.41,  49.04,  50.18,  49.78,  49.27,  49.38,  48.12,  50.12,\n",
       "        50.94,  49.73,  50.09,  48.98,  49.61,  49.94,  48.84,  49.26,\n",
       "        48.76,  49.63,  49.73,  49.04,  50.08,  49.65,  49.55,  49.72,\n",
       "        49.27,  50.09,  51.18,  50.64,  49.72,  49.77,  50.59,  49.41,\n",
       "        49.77,  51.09,  50.27,  51.34,  49.42,  50.34,  50.43,  50.02,\n",
       "        51.15,  49.14,  50.22,  50.75,  51.13,  49.59,  48.97,  49.35,\n",
       "        49.68,  49.87,  50.24,  50.74,  49.86,  50.67,  50.31,  48.62,\n",
       "        49.81,  51.08,  49.06,  49.03,  49.18,  49.39,  49.5 ,  49.86,\n",
       "        50.32,  50.02,  50.96,  49.33,  50.06,  49.21,  50.19,  51.08,\n",
       "        51.32,  49.56,  49.18,  49.24,  50.39,  49.61,  51.11,  50.23,\n",
       "        50.8 ,  50.39,  48.53,  49.96,  51.05,  51.28,  49.23,  50.59,\n",
       "        48.57,  49.39,  50.45,  49.05,  50.34,  50.73,  49.49,  50.46,\n",
       "        50.94,  49.1 ,  50.18,  48.61,  48.06,  48.36,  48.69,  49.86,\n",
       "        49.51,  49.45,  50.46,  49.63,  49.92,  49.45,  50.33,  50.54,\n",
       "        50.51,  49.57,  49.88,  50.81,  50.09,  51.19,  48.73,  49.98,\n",
       "        50.37,  49.92,  49.08,  50.08,  50.  ,  48.28,  49.19,  49.04,\n",
       "        51.58,  49.82,  49.52,  49.42,  50.53,  50.19,  50.46,  49.46,\n",
       "        51.31,  49.55,  50.4 ,  49.96,  50.47,  50.26,  50.08,  50.99,\n",
       "        49.77,  49.95,  50.48,  49.76,  50.32,  49.64,  49.29,  50.1 ,\n",
       "        50.12,  50.5 ,  50.04,  49.83,  50.36,  49.35,  49.6 ,  49.91,\n",
       "        50.49,  50.04,  50.15,  49.99,  50.05,  50.31,  49.52,  50.63,\n",
       "        50.24,  49.82,  49.31,  48.85,  49.96,  50.05,  51.  ,  50.6 ,\n",
       "        49.57,  50.23,  50.98,  49.23,  49.73,  50.38,  49.37,  49.52,\n",
       "        48.98,  50.15,  49.56,  49.26,  48.89,  51.55,  49.37,  49.61,\n",
       "        49.69,  50.3 ,  50.42,  49.76,  49.9 ,  50.08,  50.22,  49.64,\n",
       "        49.66,  49.66,  48.85,  50.08,  49.66,  48.97,  50.15,  48.78,\n",
       "        50.45,  50.78,  49.57,  50.85,  51.07,  49.74,  48.8 ,  50.63,\n",
       "        50.08,  50.43,  50.2 ,  49.1 ,  49.94,  50.13,  50.41,  50.86,\n",
       "        50.51,  49.44,  49.18,  49.65,  50.42,  49.59,  50.41,  49.84,\n",
       "        49.65,  49.38,  49.8 ,  49.11,  50.46,  51.28,  50.7 ,  50.45,\n",
       "        49.56,  49.55,  49.28,  50.47,  50.12,  50.86,  50.12,  50.9 ,\n",
       "        50.82,  50.49,  50.02,  50.18,  50.84,  50.41,  49.88,  50.49,\n",
       "        50.14,  50.53,  49.93,  49.55,  49.18,  50.03,  50.24,  50.35,\n",
       "        49.3 ,  50.28,  50.38,  50.4 ,  50.85,  48.87,  50.  ,  50.71,\n",
       "        51.1 ,  49.14,  50.98,  49.  ,  50.72,  49.94,  49.2 ,  50.84,\n",
       "        50.23,  49.96,  49.53,  50.23,  51.1 ,  51.08,  50.1 ,  51.  ,\n",
       "        49.5 ,  49.18,  49.02,  49.86,  50.42,  48.98,  49.42,  49.47,\n",
       "        50.03,  49.36,  49.  ,  49.81,  50.58,  49.08,  49.26,  49.18,\n",
       "        51.66,  50.4 ,  50.21,  49.75,  51.35,  51.31,  49.84,  49.45,\n",
       "        49.5 ,  50.58,  50.27,  50.34,  49.59,  50.82,  50.19,  50.77,\n",
       "        50.94,  49.88,  49.45,  50.53,  49.83,  49.87,  49.64,  50.64,\n",
       "        50.93,  50.32,  49.73,  50.03,  49.23,  50.77,  49.51,  48.34,\n",
       "        50.94,  49.78,  49.58,  49.67,  48.6 ,  48.85,  50.15,  50.06,\n",
       "        48.38,  50.87,  50.33,  49.33,  49.21,  48.94,  50.09,  49.95,\n",
       "        49.63,  51.37,  49.85,  48.69,  49.55,  50.09,  51.07,  49.62,\n",
       "        48.84,  49.81,  50.13,  48.5 ,  48.72,  50.22,  50.38,  49.64,\n",
       "        51.13,  49.75,  50.91,  50.75,  49.55,  49.74,  50.63,  50.51,\n",
       "        51.1 ,  49.22,  49.45,  50.1 ,  48.88,  48.86,  49.88,  50.14,\n",
       "        49.8 ,  50.79,  50.47,  50.48,  51.07,  49.62,  50.53,  50.12,\n",
       "        50.07,  49.82,  50.85,  48.46,  50.05,  50.13,  49.77,  50.32,\n",
       "        49.55,  49.72,  49.25,  50.42,  50.16,  48.91,  50.47,  50.31])"
      ]
     },
     "execution_count": 5,
     "metadata": {},
     "output_type": "execute_result"
    }
   ],
   "source": [
    "myDmeans"
   ]
  },
  {
   "cell_type": "markdown",
   "metadata": {},
   "source": [
    "## Plot at least one of the samples"
   ]
  },
  {
   "cell_type": "code",
   "execution_count": 6,
   "metadata": {
    "collapsed": false
   },
   "outputs": [
    {
     "data": {
      "text/plain": [
       "<matplotlib.text.Text at 0x7fbd66e2e950>"
      ]
     },
     "execution_count": 6,
     "metadata": {},
     "output_type": "execute_result"
    },
    {
     "data": {
      "image/png": "[encoded data removed]",
      "text/plain": [
       "<matplotlib.figure.Figure at 0x7fbd66e23ed0>"
      ]
     },
     "metadata": {},
     "output_type": "display_data"
    }
   ],
   "source": [
    "pl.hist(mydistrib)\n",
    "pl.title('Sample of Poisson Distribution')\n",
    "pl.xlabel('')\n",
    "pl.ylabel('frequency')"
   ]
  },
  {
   "cell_type": "code",
   "execution_count": 7,
   "metadata": {
    "collapsed": false
   },
   "outputs": [
    {
     "data": {
      "text/plain": [
       "array([-1.15965512,  1.41421356,  0.55154329,  0.52325902,  0.94752309,\n",
       "       -0.12727922,  0.42426407,  1.27279221, -0.35355339, -0.22627417,\n",
       "        0.6363961 , -0.16970563, -0.3959798 , -0.35355339,  1.40007143,\n",
       "        0.31112698,  0.82024387,  0.32526912, -0.31112698,  0.6363961 ,\n",
       "       -0.28284271,  0.98994949, -0.52325902,  0.3959798 ,  1.31521861,\n",
       "        1.79605122, -0.69296465, -1.17379726,  0.87681241,  0.87681241,\n",
       "        0.834386  , -1.59806133, -0.35355339,  0.87681241, -1.17379726,\n",
       "        0.28284271,  0.22627417, -0.1979899 , -0.62225397, -0.76367532,\n",
       "        0.96166522,  1.24450793, -0.3959798 ,  0.1979899 ,  1.58391919,\n",
       "       -0.55154329,  0.90509668, -0.05656854,  1.10308658,  0.18384776,\n",
       "        0.07071068,  0.46669048,  0.32526912,  0.90509668,  0.1979899 ,\n",
       "       -0.46669048, -1.51320851,  0.96166522,  1.2303658 , -0.73539105,\n",
       "        1.17379726,  0.76367532, -0.31112698, -1.30107648,  0.32526912,\n",
       "        2.71529004, -0.69296465, -1.28693434, -0.74953319,  0.65053824,\n",
       "       -0.93338095, -1.51320851,  0.3959798 , -0.04242641,  0.36769553,\n",
       "       -0.45254834,  0.08485281,  0.834386  , -1.21622366,  0.38183766,\n",
       "       -0.94752309,  0.87681241, -1.0323759 ,  2.05060967, -1.04651804,\n",
       "       -0.45254834,  0.76367532, -0.18384776, -1.04651804,  0.28284271,\n",
       "        1.15965512,  0.45254834,  2.54558441,  3.11126984,  0.90509668,\n",
       "       -1.72534055,  0.72124892, -1.14551299, -0.50911688, -0.52325902,\n",
       "       -0.01414214,  0.22627417,  0.72124892, -0.02828427,  0.21213203,\n",
       "       -1.07480231,  0.31112698,  0.46669048,  0.5939697 , -2.78600072,\n",
       "       -0.72124892, -1.25865007, -0.04242641,  0.84852814,  0.31112698,\n",
       "       -1.00409163,  0.4384062 ,  3.23854906, -0.52325902, -0.32526912,\n",
       "       -1.45663997, -0.3959798 ,  0.69296465, -0.02828427, -0.73539105,\n",
       "       -0.25455844,  2.50315801,  0.46669048,  0.05656854, -0.1979899 ,\n",
       "        0.1979899 , -0.4384062 , -0.46669048, -1.27279221, -0.86267027,\n",
       "       -0.4384062 ,  0.69296465, -0.57982756,  0.82024387,  0.79195959,\n",
       "       -0.74953319, -0.36769553,  1.08894444, -0.60811183, -1.04651804,\n",
       "       -0.26870058,  0.49497475, -0.82024387, -0.62225397,  1.07480231,\n",
       "        0.42426407,  0.90509668, -0.70710678,  0.15556349, -0.98994949,\n",
       "        1.06066017, -1.4283557 , -1.17379726, -0.79195959, -2.13546248,\n",
       "        0.18384776, -0.1979899 ,  3.13955411,  1.07480231,  0.28284271,\n",
       "        0.15556349,  1.51320851, -0.3959798 ,  0.42426407,  1.24450793,\n",
       "       -1.55563492, -0.96166522, -0.87681241,  1.48492424, -0.14142136,\n",
       "       -0.46669048,  0.07071068, -1.85261977, -1.52735065, -0.57982756,\n",
       "        0.31112698,  0.48083261,  0.12727922,  0.77781746,  0.79195959,\n",
       "        2.50315801, -0.56568542,  0.57982756,  1.01823376, -1.32936075,\n",
       "        0.12727922,  1.71119841,  0.09899495,  1.71119841, -0.35355339,\n",
       "       -1.21622366,  0.04242641, -1.54149278, -0.16970563,  0.60811183,\n",
       "       -1.0323759 , -0.04242641,  0.834386  ,  2.23445743, -0.87681241,\n",
       "        1.78190909, -0.82024387, -1.76776695, -0.02828427, -1.14551299,\n",
       "       -1.4283557 , -1.24450793, -0.25455844,  1.21622366,  0.67882251,\n",
       "        0.97580736, -0.09899495, -0.84852814,  0.62225397,  1.40007143,\n",
       "        1.04651804,  0.32526912,  0.1979899 , -1.00409163, -2.77185858,\n",
       "       -0.89095454,  0.36769553, -1.40007143,  0.52325902,  0.73539105,\n",
       "       -0.82024387, -0.72124892, -0.3959798 , -1.27279221, -1.37178716,\n",
       "       -0.834386  ,  1.27279221,  0.74953319,  0.29698485, -1.0323759 ,\n",
       "       -0.02828427,  0.08485281, -0.42426407,  0.62225397, -0.16970563,\n",
       "       -1.01823376, -0.26870058, -0.70710678,  1.11722871,  0.62225397,\n",
       "        0.74953319,  0.5939697 ,  0.24041631, -0.21213203, -1.08894444,\n",
       "       -2.48901587,  2.14960461, -1.8243355 , -0.6363961 , -0.3959798 ,\n",
       "       -2.31931024,  1.38592929, -1.81019336, -0.67882251,  0.36769553,\n",
       "       -1.14551299,  0.79195959, -0.56568542, -0.93338095,  0.48083261,\n",
       "       -0.04242641,  2.4607316 ,  0.96166522, -0.26870058,  0.41012193,\n",
       "        1.13137085,  1.10308658, -0.01414214,  0.6363961 , -0.18384776,\n",
       "        0.11313708,  0.04242641, -1.06066017,  0.05656854, -1.4283557 ,\n",
       "        0.82024387, -0.22627417,  0.5939697 ,  1.20208153,  0.49497475,\n",
       "        0.        ,  1.48492424,  0.1979899 , -0.35355339,  0.1979899 ,\n",
       "       -0.76367532, -1.4707821 ,  0.05656854,  0.09899495,  0.38183766,\n",
       "        0.33941125, -1.06066017,  1.15965512,  0.80610173,  0.        ,\n",
       "        1.11722871, -0.01414214, -0.56568542, -0.26870058, -0.09899495,\n",
       "       -0.76367532,  1.11722871, -1.24450793, -0.57982756,  0.66468037,\n",
       "        0.66468037,  0.48083261,  1.28693434,  0.25455844,  1.21622366,\n",
       "       -0.86267027, -0.16970563, -1.04651804, -0.11313708,  0.41012193,\n",
       "        0.01414214,  0.98994949, -0.01414214,  0.55154329,  0.15556349,\n",
       "       -1.52735065,  0.53740115,  0.86267027,  1.13137085,  0.09899495,\n",
       "        0.32526912,  0.48083261, -0.65053824, -1.38592929,  0.5939697 ,\n",
       "        0.05656854, -0.67882251,  0.89095454,  0.70710678,  0.53740115,\n",
       "       -0.73539105,  0.65053824,  0.04242641, -0.08485281, -2.34759451,\n",
       "       -1.92333044,  0.41012193,  0.29698485,  0.46669048,  1.35764502,\n",
       "        0.87681241, -0.22627417, -0.77781746,  0.56568542,  0.77781746,\n",
       "       -0.36769553, -0.48083261, -0.25455844,  0.66468037, -0.56568542,\n",
       "        0.11313708,  0.50911688, -1.04651804, -0.77781746, -0.57982756,\n",
       "        1.6263456 ,  0.82024387,  0.31112698, -1.79605122, -2.27688384,\n",
       "        1.95161472, -0.31112698, -0.69296465, -1.48492424, -2.17788889,\n",
       "        0.6363961 ,  0.31112698, -1.37178716, -0.67882251, -0.3959798 ,\n",
       "       -0.70710678, -0.52325902, -0.86267027,  1.72534055,  0.91923882,\n",
       "       -0.50911688,  0.33941125, -2.19203102, -0.98994949, -1.73948268,\n",
       "        0.86267027, -0.90509668,  0.31112698, -0.56568542, -0.72124892,\n",
       "       -1.20208153, -0.21213203, -0.04242641, -0.6363961 ,  0.28284271,\n",
       "       -0.93338095,  0.82024387,  0.14142136,  1.15965512, -0.42426407,\n",
       "       -0.80610173, -0.01414214, -0.89095454, -0.55154329,  0.69296465,\n",
       "        0.49497475,  0.84852814, -1.64048773,  0.67882251,  1.51320851,\n",
       "        0.56568542,  1.41421356, -0.46669048,  0.29698485, -0.22627417,\n",
       "       -1.6263456 ,  0.11313708, -0.70710678, -1.0323759 ,  0.21213203,\n",
       "        0.08485281,  0.01414214, -0.29698485, -0.35355339,  0.56568542,\n",
       "        1.40007143, -0.26870058,  0.82024387,  0.82024387, -0.33941125,\n",
       "       -0.35355339, -0.96166522, -0.56568542,  0.50911688,  0.31112698,\n",
       "       -0.35355339,  0.48083261,  0.49497475,  1.76776695,  0.11313708,\n",
       "       -0.50911688, -0.25455844, -0.79195959, -0.09899495,  0.22627417,\n",
       "        0.32526912,  0.22627417, -0.67882251,  0.57982756,  0.94752309,\n",
       "        0.49497475,  0.52325902, -1.79605122, -1.93747258,  0.26870058,\n",
       "        2.22031529, -1.8243355 , -0.74953319, -0.56568542, -1.21622366,\n",
       "        0.42426407,  2.54558441,  0.84852814,  0.31112698,  1.61220346,\n",
       "        1.15965512, -1.92333044, -1.34350288, -2.09303607,  0.29698485,\n",
       "        0.76367532,  0.50911688, -0.14142136,  1.93747258, -0.45254834,\n",
       "        0.28284271, -0.91923882, -1.25865007, -1.10308658,  0.24041631,\n",
       "        0.52325902, -1.4283557 , -0.98994949,  1.10308658,  1.14551299,\n",
       "       -1.89504617,  0.82024387,  0.22627417,  0.25455844, -0.38183766,\n",
       "       -0.08485281,  0.70710678,  0.24041631,  1.48492424, -0.49497475,\n",
       "        0.09899495,  0.11313708,  1.51320851, -0.56568542, -0.05656854,\n",
       "        1.06066017, -1.15965512, -0.11313708, -0.55154329, -0.01414214,\n",
       "        0.86267027, -1.75362482,  0.90509668, -0.52325902,  0.24041631,\n",
       "       -0.90509668,  0.80610173,  0.97580736, -1.0323759 ,  0.18384776,\n",
       "        1.6263456 ,  1.668772  , -0.01414214, -1.25865007,  1.00409163,\n",
       "        0.16970563, -1.13137085,  1.14551299, -1.4283557 ,  0.05656854,\n",
       "       -0.4384062 ,  1.30107648, -0.16970563, -0.25455844,  0.11313708,\n",
       "       -0.67882251,  1.4283557 ,  0.08485281,  1.34350288, -0.82024387,\n",
       "        1.668772  , -0.52325902,  1.40007143, -0.16970563,  0.53740115,\n",
       "        0.65053824,  1.2303658 , -1.45663997,  2.33345238,  0.73539105,\n",
       "        1.10308658,  0.50911688, -0.73539105, -0.53740115,  1.04651804,\n",
       "        0.24041631, -0.38183766,  0.29698485, -1.04651804, -0.90509668,\n",
       "        0.11313708, -1.25865007,  1.28693434, -0.21213203,  0.67882251,\n",
       "       -0.48083261,  0.01414214,  1.15965512, -1.00409163, -1.06066017,\n",
       "       -0.96166522, -0.15556349,  0.1979899 , -0.45254834,  2.22031529,\n",
       "        0.26870058,  1.32936075, -1.30107648,  1.21622366,  0.50911688,\n",
       "       -0.1979899 ,  0.4384062 , -1.27279221, -0.38183766,  0.32526912,\n",
       "       -0.09899495, -0.05656854,  0.834386  ,  1.35764502, -0.25455844,\n",
       "        0.31112698,  1.0323759 ,  0.87681241,  2.6587215 , -0.16970563,\n",
       "       -1.32936075,  0.38183766, -0.12727922,  1.44249783,  0.55154329,\n",
       "        0.08485281,  1.64048773,  1.04651804,  1.75362482,  0.52325902,\n",
       "        0.38183766,  1.35764502, -0.11313708,  0.49497475,  0.6363961 ,\n",
       "        0.3959798 ,  1.0323759 , -0.12727922, -1.668772  , -0.90509668,\n",
       "        0.3959798 ,  0.32526912, -0.834386  ,  0.834386  ,  0.32526912,\n",
       "       -1.54149278, -0.38183766, -1.89504617,  0.82024387, -0.48083261,\n",
       "       -0.60811183, -0.02828427, -1.6263456 ,  1.21622366, -0.31112698,\n",
       "       -1.06066017, -1.59806133,  0.57982756,  1.45663997,  0.91923882,\n",
       "        0.45254834,  0.18384776, -0.33941125, -1.04651804,  0.1979899 ,\n",
       "       -0.94752309, -0.4384062 ,  1.95161472,  0.26870058, -1.52735065,\n",
       "        1.32936075,  1.37178716,  1.15965512,  0.86267027,  0.70710678,\n",
       "        0.1979899 , -0.45254834, -0.02828427, -1.35764502,  0.94752309,\n",
       "       -0.08485281,  1.11722871, -0.26870058, -1.52735065, -1.8667619 ,\n",
       "        0.62225397,  1.15965512,  1.07480231, -0.55154329,  0.55154329,\n",
       "       -1.56977705, -0.32526912, -1.13137085, -0.55154329,  2.07889394,\n",
       "        0.05656854, -1.48492424, -1.81019336,  1.08894444, -0.834386  ,\n",
       "        2.02232539,  0.86267027, -0.6363961 ,  1.34350288, -0.48083261,\n",
       "       -1.0323759 ,  0.72124892, -0.65053824, -1.32936075,  1.27279221,\n",
       "       -0.25455844,  1.96575685,  2.74357431,  2.31931024,  1.85261977,\n",
       "        0.1979899 ,  0.69296465,  0.77781746, -0.65053824,  0.52325902,\n",
       "        0.11313708,  0.77781746, -0.46669048, -0.76367532, -0.72124892,\n",
       "        0.60811183,  0.16970563, -1.14551299, -0.12727922, -1.68291414,\n",
       "        1.79605122,  0.02828427, -0.52325902,  0.11313708,  1.30107648,\n",
       "       -0.11313708,  0.        ,  2.43244733,  1.14551299,  1.35764502,\n",
       "       -2.23445743,  0.25455844,  0.67882251,  0.82024387, -0.74953319,\n",
       "       -0.26870058, -0.65053824,  0.76367532, -1.85261977,  0.6363961 ,\n",
       "       -0.56568542,  0.05656854, -0.66468037, -0.36769553, -0.11313708,\n",
       "       -1.40007143,  0.32526912,  0.07071068, -0.67882251,  0.33941125,\n",
       "       -0.45254834,  0.50911688,  1.00409163, -0.14142136, -0.16970563,\n",
       "       -0.70710678, -0.05656854,  0.24041631, -0.50911688,  0.91923882,\n",
       "        0.56568542,  0.12727922, -0.69296465, -0.05656854, -0.21213203,\n",
       "        0.01414214, -0.07071068, -0.4384062 ,  0.67882251, -0.89095454,\n",
       "       -0.33941125,  0.25455844,  0.97580736,  1.6263456 ,  0.05656854,\n",
       "       -0.07071068, -1.41421356, -0.84852814,  0.60811183, -0.32526912,\n",
       "       -1.38592929,  1.08894444,  0.38183766, -0.53740115,  0.89095454,\n",
       "        0.67882251,  1.44249783, -0.21213203,  0.62225397,  1.04651804,\n",
       "        1.56977705, -2.19203102,  0.89095454,  0.55154329,  0.4384062 ,\n",
       "       -0.42426407, -0.5939697 ,  0.33941125,  0.14142136, -0.11313708,\n",
       "       -0.31112698,  0.50911688,  0.48083261,  0.48083261,  1.6263456 ,\n",
       "       -0.11313708,  0.48083261,  1.45663997, -0.21213203,  1.72534055,\n",
       "       -0.6363961 , -1.10308658,  0.60811183, -1.20208153, -1.51320851,\n",
       "        0.36769553,  1.69705627, -0.89095454, -0.11313708, -0.60811183,\n",
       "       -0.28284271,  1.27279221,  0.08485281, -0.18384776, -0.57982756,\n",
       "       -1.21622366, -0.72124892,  0.79195959,  1.15965512,  0.49497475,\n",
       "       -0.5939697 ,  0.57982756, -0.57982756,  0.22627417,  0.49497475,\n",
       "        0.87681241,  0.28284271,  1.25865007, -0.65053824, -1.81019336,\n",
       "       -0.98994949, -0.6363961 ,  0.62225397,  0.6363961 ,  1.01823376,\n",
       "       -0.66468037, -0.16970563, -1.21622366, -0.16970563, -1.27279221,\n",
       "       -1.15965512, -0.69296465, -0.02828427, -0.25455844, -1.18793939,\n",
       "       -0.57982756,  0.16970563, -0.69296465, -0.1979899 , -0.74953319,\n",
       "        0.09899495,  0.6363961 ,  1.15965512, -0.04242641, -0.33941125,\n",
       "       -0.49497475,  0.98994949, -0.3959798 , -0.53740115, -0.56568542,\n",
       "       -1.20208153,  1.59806133,  0.        , -1.00409163, -1.55563492,\n",
       "        1.21622366, -1.38592929,  1.41421356, -1.01823376,  0.08485281,\n",
       "        1.13137085, -1.18793939, -0.32526912,  0.05656854,  0.66468037,\n",
       "       -0.32526912, -1.55563492, -1.52735065, -0.14142136, -1.41421356,\n",
       "        0.70710678,  1.15965512,  1.38592929,  0.1979899 , -0.5939697 ,\n",
       "        1.44249783,  0.82024387,  0.74953319, -0.04242641,  0.90509668,\n",
       "        1.41421356,  0.26870058, -0.82024387,  1.30107648,  1.04651804,\n",
       "        1.15965512, -2.34759451, -0.56568542, -0.29698485,  0.35355339,\n",
       "       -1.90918831, -1.85261977,  0.22627417,  0.77781746,  0.70710678,\n",
       "       -0.82024387, -0.38183766, -0.48083261,  0.57982756, -1.15965512,\n",
       "       -0.26870058, -1.08894444, -1.32936075,  0.16970563,  0.77781746,\n",
       "       -0.74953319,  0.24041631,  0.18384776,  0.50911688, -0.90509668,\n",
       "       -1.31521861, -0.45254834,  0.38183766, -0.04242641,  1.08894444,\n",
       "       -1.08894444,  0.69296465,  2.34759451, -1.32936075,  0.31112698,\n",
       "        0.5939697 ,  0.46669048,  1.97989899,  1.6263456 , -0.21213203,\n",
       "       -0.08485281,  2.29102597, -1.2303658 , -0.46669048,  0.94752309,\n",
       "        1.11722871,  1.49906638, -0.12727922,  0.07071068,  0.52325902,\n",
       "       -1.93747258,  0.21213203,  1.85261977,  0.6363961 , -0.12727922,\n",
       "       -1.51320851,  0.53740115,  1.64048773,  0.26870058, -0.18384776,\n",
       "        2.12132034,  1.81019336, -0.31112698, -0.53740115,  0.50911688,\n",
       "       -1.59806133,  0.35355339, -1.28693434, -1.06066017,  0.6363961 ,\n",
       "        0.36769553, -0.89095454, -0.72124892, -1.55563492,  1.10308658,\n",
       "        0.77781746, -0.14142136,  1.58391919,  1.61220346,  0.16970563,\n",
       "       -0.1979899 ,  0.28284271, -1.11722871, -0.66468037, -0.67882251,\n",
       "       -1.51320851,  0.53740115, -0.74953319, -0.16970563, -0.09899495,\n",
       "        0.25455844, -1.20208153,  2.17788889, -0.07071068, -0.18384776,\n",
       "        0.32526912, -0.45254834,  0.6363961 ,  0.3959798 ,  1.06066017,\n",
       "       -0.5939697 , -0.22627417,  1.54149278, -0.66468037, -0.4384062 ])"
      ]
     },
     "execution_count": 7,
     "metadata": {},
     "output_type": "execute_result"
    }
   ],
   "source": [
    "#calculate z-statistics\n",
    "#z-test measures difference between means (pop) and means (sample)\n",
    "zs = (mymean - myDmeans) * (np.sqrt(Nsamples))/mystdev\n",
    "zs"
   ]
  },
  {
   "cell_type": "markdown",
   "metadata": {},
   "source": [
    "## Plot the distribution of z-statistics"
   ]
  },
  {
   "cell_type": "code",
   "execution_count": 8,
   "metadata": {
    "collapsed": false
   },
   "outputs": [
    {
     "data": {
      "text/plain": [
       "<matplotlib.text.Text at 0x7fbd66d6f2d0>"
      ]
     },
     "execution_count": 8,
     "metadata": {},
     "output_type": "execute_result"
    },
    {
     "data": {
      "image/png": "[encoded data removed]",
      "text/plain": [
       "<matplotlib.figure.Figure at 0x7fbd66ebe1d0>"
      ]
     },
     "metadata": {},
     "output_type": "display_data"
    }
   ],
   "source": [
    "pl.hist(zs)\n",
    "pl.title('Distribution of z-scores')\n",
    "pl.xlabel('z-score')\n",
    "pl.ylabel('frequency')"
   ]
  },
  {
   "cell_type": "markdown",
   "metadata": {},
   "source": [
    "## Fit the z-statistics with a gaussian model and assess the goodness of fit with a simple test (AD or KS)."
   ]
  },
  {
   "cell_type": "code",
   "execution_count": 9,
   "metadata": {
    "collapsed": false
   },
   "outputs": [
    {
     "data": {
      "text/plain": [
       "KstestResult(statistic=0.031473516531428158, pvalue=0.27009014920640273)"
      ]
     },
     "execution_count": 9,
     "metadata": {},
     "output_type": "execute_result"
    }
   ],
   "source": [
    "#test whether we can reject the null hypothesis that this is a gaussian distribution\n",
    "#use ks test\n",
    "sp.stats.kstest(zs, 'norm')\n",
    "#p-value > 0.05, cannot reject null hypothesis"
   ]
  },
  {
   "cell_type": "markdown",
   "metadata": {
    "collapsed": true
   },
   "source": [
    "The KS test returns a p-value (0.27) larger than the significance value of 0.05. The null hypothesis this is a gaussian distribution cannot be rejected. In other words, this means that there is insufficient evidence to say that the z-score distribution for poisson is different from that of normal distribution under the existing level of significance. "
   ]
  },
  {
   "cell_type": "code",
   "execution_count": 10,
   "metadata": {
    "collapsed": false
   },
   "outputs": [
    {
     "data": {
      "text/plain": [
       "AndersonResult(statistic=0.29257213964365292, critical_values=array([ 0.574,  0.653,  0.784,  0.914,  1.088]), significance_level=array([ 15. ,  10. ,   5. ,   2.5,   1. ]))"
      ]
     },
     "execution_count": 10,
     "metadata": {},
     "output_type": "execute_result"
    }
   ],
   "source": [
    "#test whether we can reject the null hypothesis that this is a gaussian distribution\n",
    "#use AD test\n",
    "sp.stats.anderson(zs, 'norm')"
   ]
  },
  {
   "cell_type": "markdown",
   "metadata": {},
   "source": [
    "Since the critical value at the siginificance level of 0.784, the statistic of 0.194 is less than the critical value, meaning we cannot reject the null hypothesis that this is a gaussian distribution. "
   ]
  },
  {
   "cell_type": "markdown",
   "metadata": {
    "collapsed": true
   },
   "source": [
    "## Find the best fit values for the model parameters (mean and standard deviation) by minimizing the model chi square."
   ]
  },
  {
   "cell_type": "code",
   "execution_count": 11,
   "metadata": {
    "collapsed": false
   },
   "outputs": [
    {
     "data": {
      "text/plain": [
       "Power_divergenceResult(statistic=92.414828065990861, pvalue=0.66680872389043044)"
      ]
     },
     "execution_count": 11,
     "metadata": {},
     "output_type": "execute_result"
    }
   ],
   "source": [
    "\n",
    "from scipy.stats import chisquare\n",
    "chisquare(mydistrib)"
   ]
  },
  {
   "cell_type": "code",
   "execution_count": 12,
   "metadata": {
    "collapsed": false
   },
   "outputs": [
    {
     "data": {
      "text/plain": [
       "4"
      ]
     },
     "execution_count": 12,
     "metadata": {},
     "output_type": "execute_result"
    }
   ],
   "source": [
    "#chi-square goodness of fit test?\n",
    "\n",
    "chistats = []\n",
    "for i in mydistrib:\n",
    "    chistats = (mydistrib[i] - mymean)**2 / mymean\n",
    "chistats.sum()"
   ]
  },
  {
   "cell_type": "code",
   "execution_count": null,
   "metadata": {
    "collapsed": true
   },
   "outputs": [],
   "source": []
  }
 ],
 "metadata": {
  "kernelspec": {
   "display_name": "PUI2016_Python2",
   "language": "python",
   "name": "pui2016_python2"
  },
  "language_info": {
   "codemirror_mode": {
    "name": "ipython",
    "version": 2
   },
   "file_extension": ".py",
   "mimetype": "text/x-python",
   "name": "python",
   "nbconvert_exporter": "python",
   "pygments_lexer": "ipython2",
   "version": "2.7.12"
  }
 },
 "nbformat": 4,
 "nbformat_minor": 0
}
