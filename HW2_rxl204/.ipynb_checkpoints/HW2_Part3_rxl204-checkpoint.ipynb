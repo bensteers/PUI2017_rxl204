{
 "cells": [
  {
   "cell_type": "code",
   "execution_count": 18,
   "metadata": {
    "collapsed": false
   },
   "outputs": [
    {
     "name": "stdout",
     "output_type": "stream",
     "text": [
      "Populating the interactive namespace from numpy and matplotlib\n"
     ]
    }
   ],
   "source": [
    "from __future__ import print_function\n",
    "import numpy as np\n",
    "import pandas as pd\n",
    "import matplotlib.pyplot as plt\n",
    "\n",
    "import sys\n",
    "import os\n",
    "%matplotlib inline\n",
    "%pylab inline"
   ]
  },
  {
   "cell_type": "code",
   "execution_count": 19,
   "metadata": {
    "collapsed": true
   },
   "outputs": [],
   "source": [
    "DFdata = os.getenv(\"DFDATA\")"
   ]
  },
  {
   "cell_type": "code",
   "execution_count": 20,
   "metadata": {
    "collapsed": false
   },
   "outputs": [
    {
     "data": {
      "text/plain": [
       "'/gws/open/NYCOpenData/nycopendata/data'"
      ]
     },
     "execution_count": 20,
     "metadata": {},
     "output_type": "execute_result"
    }
   ],
   "source": [
    "DFdata"
   ]
  },
  {
   "cell_type": "code",
   "execution_count": 72,
   "metadata": {
    "collapsed": false,
    "scrolled": true
   },
   "outputs": [
    {
     "data": {
      "text/html": [
       "<div>\n",
       "<table border=\"1\" class=\"dataframe\">\n",
       "  <thead>\n",
       "    <tr style=\"text-align: right;\">\n",
       "      <th></th>\n",
       "      <th>Borough</th>\n",
       "      <th>District</th>\n",
       "      <th>Bldg\n",
       "I.D.</th>\n",
       "      <th>Building Name</th>\n",
       "      <th>Bldg\n",
       "Enroll</th>\n",
       "      <th>Bldg Capacity</th>\n",
       "      <th>Bldg Over/Under</th>\n",
       "      <th>Bldg Utilization</th>\n",
       "      <th>Org ID</th>\n",
       "      <th>Organization Name</th>\n",
       "      <th>Org\n",
       "Enroll</th>\n",
       "      <th>Org Capacity</th>\n",
       "      <th>Org Over/Under</th>\n",
       "      <th>Org Utilization</th>\n",
       "      <th>No. of Spec rooms used</th>\n",
       "      <th>Inclusionary</th>\n",
       "    </tr>\n",
       "  </thead>\n",
       "  <tbody>\n",
       "    <tr>\n",
       "      <th>0</th>\n",
       "      <td>Q</td>\n",
       "      <td>75</td>\n",
       "      <td>Q009</td>\n",
       "      <td>P.S. 9 (W REED SCHOOL) - QUEENS</td>\n",
       "      <td>172</td>\n",
       "      <td>192</td>\n",
       "      <td>-20</td>\n",
       "      <td>90</td>\n",
       "      <td>Q009</td>\n",
       "      <td>Q009 SPED - QUEENS</td>\n",
       "      <td>172</td>\n",
       "      <td>192</td>\n",
       "      <td>-20</td>\n",
       "      <td>90</td>\n",
       "      <td>4</td>\n",
       "      <td>NaN</td>\n",
       "    </tr>\n",
       "    <tr>\n",
       "      <th>1</th>\n",
       "      <td>Q</td>\n",
       "      <td>75</td>\n",
       "      <td>Q075</td>\n",
       "      <td>P.S. 75 (R PEARY SCHOOL)-QUEENS</td>\n",
       "      <td>191</td>\n",
       "      <td>186</td>\n",
       "      <td>5</td>\n",
       "      <td>103</td>\n",
       "      <td>Q075</td>\n",
       "      <td>Q075 SPED - QUEENS</td>\n",
       "      <td>191</td>\n",
       "      <td>186</td>\n",
       "      <td>5</td>\n",
       "      <td>103</td>\n",
       "      <td>6</td>\n",
       "      <td>NaN</td>\n",
       "    </tr>\n",
       "    <tr>\n",
       "      <th>2</th>\n",
       "      <td>Q</td>\n",
       "      <td>75</td>\n",
       "      <td>Q142</td>\n",
       "      <td>P.S. 752 (OLD J142) - QUEENS</td>\n",
       "      <td>408</td>\n",
       "      <td>749</td>\n",
       "      <td>-341</td>\n",
       "      <td>54</td>\n",
       "      <td>Q540</td>\n",
       "      <td>QUEENS ACADEMY HIGH SCHOOL - Q</td>\n",
       "      <td>150</td>\n",
       "      <td>348</td>\n",
       "      <td>-198</td>\n",
       "      <td>43</td>\n",
       "      <td>7</td>\n",
       "      <td>NaN</td>\n",
       "    </tr>\n",
       "    <tr>\n",
       "      <th>3</th>\n",
       "      <td>Q</td>\n",
       "      <td>75</td>\n",
       "      <td>Q142</td>\n",
       "      <td>P.S. 752 (OLD J142) - QUEENS</td>\n",
       "      <td>408</td>\n",
       "      <td>749</td>\n",
       "      <td>-341</td>\n",
       "      <td>54</td>\n",
       "      <td>Q752</td>\n",
       "      <td>Q752 SPED - QUEENS</td>\n",
       "      <td>258</td>\n",
       "      <td>401</td>\n",
       "      <td>-143</td>\n",
       "      <td>64</td>\n",
       "      <td>12</td>\n",
       "      <td>NaN</td>\n",
       "    </tr>\n",
       "    <tr>\n",
       "      <th>4</th>\n",
       "      <td>Q</td>\n",
       "      <td>75</td>\n",
       "      <td>Q142</td>\n",
       "      <td>P.S. 752 (OLD J142) - QUEENS</td>\n",
       "      <td>408</td>\n",
       "      <td>749</td>\n",
       "      <td>-341</td>\n",
       "      <td>54</td>\n",
       "      <td>QG06</td>\n",
       "      <td>FOOD SERVICES - QUEENS</td>\n",
       "      <td>0</td>\n",
       "      <td>0</td>\n",
       "      <td>0</td>\n",
       "      <td>0</td>\n",
       "      <td>0</td>\n",
       "      <td>NaN</td>\n",
       "    </tr>\n",
       "  </tbody>\n",
       "</table>\n",
       "</div>"
      ],
      "text/plain": [
       "  Borough  District Bldg\\nI.D.                    Building Name  Bldg\\nEnroll  \\\n",
       "0       Q        75       Q009  P.S. 9 (W REED SCHOOL) - QUEENS           172   \n",
       "1       Q        75       Q075  P.S. 75 (R PEARY SCHOOL)-QUEENS           191   \n",
       "2       Q        75       Q142     P.S. 752 (OLD J142) - QUEENS           408   \n",
       "3       Q        75       Q142     P.S. 752 (OLD J142) - QUEENS           408   \n",
       "4       Q        75       Q142     P.S. 752 (OLD J142) - QUEENS           408   \n",
       "\n",
       "   Bldg Capacity  Bldg Over/Under  Bldg Utilization Org ID  \\\n",
       "0            192              -20                90   Q009   \n",
       "1            186                5               103   Q075   \n",
       "2            749             -341                54   Q540   \n",
       "3            749             -341                54   Q752   \n",
       "4            749             -341                54   QG06   \n",
       "\n",
       "                    Organization Name  Org\\nEnroll  Org Capacity  \\\n",
       "0  Q009 SPED - QUEENS                          172           192   \n",
       "1                  Q075 SPED - QUEENS          191           186   \n",
       "2      QUEENS ACADEMY HIGH SCHOOL - Q          150           348   \n",
       "3  Q752 SPED - QUEENS                          258           401   \n",
       "4              FOOD SERVICES - QUEENS            0             0   \n",
       "\n",
       "   Org Over/Under  Org Utilization  No. of Spec rooms used  Inclusionary  \n",
       "0             -20               90                       4           NaN  \n",
       "1               5              103                       6           NaN  \n",
       "2            -198               43                       7           NaN  \n",
       "3            -143               64                      12           NaN  \n",
       "4               0                0                       0           NaN  "
      ]
     },
     "execution_count": 72,
     "metadata": {},
     "output_type": "execute_result"
    }
   ],
   "source": [
    "data = pd.read_csv(DFdata + '/dcbe-5an9/1409922903/dcbe-5an9')\n",
    "data.head()"
   ]
  },
  {
   "cell_type": "code",
   "execution_count": 77,
   "metadata": {
    "collapsed": false
   },
   "outputs": [
    {
     "data": {
      "text/html": [
       "<div>\n",
       "<table border=\"1\" class=\"dataframe\">\n",
       "  <thead>\n",
       "    <tr style=\"text-align: right;\">\n",
       "      <th></th>\n",
       "      <th>Bldg\n",
       "Enroll</th>\n",
       "      <th>Bldg Capacity</th>\n",
       "    </tr>\n",
       "  </thead>\n",
       "  <tbody>\n",
       "    <tr>\n",
       "      <th>0</th>\n",
       "      <td>172</td>\n",
       "      <td>192</td>\n",
       "    </tr>\n",
       "    <tr>\n",
       "      <th>1</th>\n",
       "      <td>191</td>\n",
       "      <td>186</td>\n",
       "    </tr>\n",
       "    <tr>\n",
       "      <th>2</th>\n",
       "      <td>408</td>\n",
       "      <td>749</td>\n",
       "    </tr>\n",
       "    <tr>\n",
       "      <th>3</th>\n",
       "      <td>408</td>\n",
       "      <td>749</td>\n",
       "    </tr>\n",
       "    <tr>\n",
       "      <th>4</th>\n",
       "      <td>408</td>\n",
       "      <td>749</td>\n",
       "    </tr>\n",
       "  </tbody>\n",
       "</table>\n",
       "</div>"
      ],
      "text/plain": [
       "   Bldg\\nEnroll  Bldg Capacity\n",
       "0           172            192\n",
       "1           191            186\n",
       "2           408            749\n",
       "3           408            749\n",
       "4           408            749"
      ]
     },
     "execution_count": 77,
     "metadata": {},
     "output_type": "execute_result"
    }
   ],
   "source": [
    "#data.drop(['Borough','District','Bldg I.D.','Building Name','Bldg Over/Under','Bldg Utilization','Org ID','Organization Name','Org Enroll','Org Capacity','Org Over/Under','Org Utilization','No. of Spec rooms used','Inclusionary'],axis=1, inplace=True)\n",
    "df = data[[4,5]]\n",
    "df.head()"
   ]
  },
  {
   "cell_type": "code",
   "execution_count": 76,
   "metadata": {
    "collapsed": false
   },
   "outputs": [
    {
     "data": {
      "image/png": "[encoded data removed]",
      "text/plain": [
       "<matplotlib.figure.Figure at 0x7fc495bb9fd0>"
      ]
     },
     "metadata": {},
     "output_type": "display_data"
    }
   ],
   "source": [
    "fig = plt.figure\n",
    "plt.scatter(np.array(df['Bldg Capacity']), np.array(df['Bldg\\nEnroll']))\n",
    "plt.xlabel('Bldg Capacity')\n",
    "plt.ylabel('Bldg\\nEnroll')\n",
    "plt.title('Building Enrollment Through Capacity')\n",
    "plt.show()"
   ]
  },
  {
   "cell_type": "code",
   "execution_count": null,
   "metadata": {
    "collapsed": true
   },
   "outputs": [],
   "source": []
  }
 ],
 "metadata": {
  "kernelspec": {
   "display_name": "PUI2016_Python2",
   "language": "python",
   "name": "pui2016_python2"
  },
  "language_info": {
   "codemirror_mode": {
    "name": "ipython",
    "version": 2
   },
   "file_extension": ".py",
   "mimetype": "text/x-python",
   "name": "python",
   "nbconvert_exporter": "python",
   "pygments_lexer": "ipython2",
   "version": "2.7.12"
  }
 },
 "nbformat": 4,
 "nbformat_minor": 0
}
