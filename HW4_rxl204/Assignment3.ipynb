{
 "cells": [
  {
   "cell_type": "markdown",
   "metadata": {},
   "source": [
    "Assignment 3: Reproduce the analysis of the Hard to Employ program in NY:\n",
    "\n",
    "Reproduce the analysis of the Hard to Employ programs for NY. You may want to read the relevant portion of the study to make sure you are not just workign mechanically (Chapter 2 of the original document).\n",
    "\n",
    "Reproduce the results in cell 2 of Table 2.1 (Ever employed in a CEO transitional job), and cell 10 (Convicted of a felony). Fill in the cells of the skeleton notebook as you are asked to.\n",
    "\n",
    "Grading\n",
    "\n",
    "All cells that are marked \"for you to do\" (or similar...) and that contain missing values should be filled.\n",
    "\n",
    "The second null hypothesis should be stated (for the \"Convicted of a felony after 3 years\" data).\n",
    "\n",
    "Both tests, Z and chi-sq, should be completed for the \"Convicted of a felony after 3 years\" data.\n",
    "\n",
    "The result of the test in term the rejection of the Null should be stated in all cases (for both tests and both for the original \"Ever employed in a CEO transitional job\" data and the \"Convicted of a felony after 3 years data\")."
   ]
  },
  {
   "cell_type": "code",
   "execution_count": 1,
   "metadata": {
    "collapsed": false
   },
   "outputs": [
    {
     "name": "stdout",
     "output_type": "stream",
     "text": [
      "Populating the interactive namespace from numpy and matplotlib\n"
     ]
    }
   ],
   "source": [
    "import os\n",
    "import sys\n",
    "import numpy as np\n",
    "import pylab as pl\n",
    "\n",
    "\n",
    "import json\n",
    "import os\n",
    "%pylab inline\n"
   ]
  },
  {
   "cell_type": "code",
   "execution_count": null,
   "metadata": {
    "collapsed": true
   },
   "outputs": [],
   "source": []
  }
 ],
 "metadata": {
  "kernelspec": {
   "display_name": "PUI2016_Python2",
   "language": "python",
   "name": "pui2016_python2"
  },
  "language_info": {
   "codemirror_mode": {
    "name": "ipython",
    "version": 2
   },
   "file_extension": ".py",
   "mimetype": "text/x-python",
   "name": "python",
   "nbconvert_exporter": "python",
   "pygments_lexer": "ipython2",
   "version": "2.7.12"
  }
 },
 "nbformat": 4,
 "nbformat_minor": 0
}
